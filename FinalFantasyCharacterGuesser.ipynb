{
  "nbformat": 4,
  "nbformat_minor": 0,
  "metadata": {
    "colab": {
      "provenance": []
    },
    "kernelspec": {
      "name": "python3",
      "display_name": "Python 3"
    },
    "language_info": {
      "name": "python"
    },
    "widgets": {
      "application/vnd.jupyter.widget-state+json": {
        "c0406709dc644ad68c428275a63d2c3b": {
          "model_module": "@jupyter-widgets/controls",
          "model_name": "VBoxModel",
          "model_module_version": "1.5.0",
          "state": {
            "_dom_classes": [],
            "_model_module": "@jupyter-widgets/controls",
            "_model_module_version": "1.5.0",
            "_model_name": "VBoxModel",
            "_view_count": null,
            "_view_module": "@jupyter-widgets/controls",
            "_view_module_version": "1.5.0",
            "_view_name": "VBoxView",
            "box_style": "",
            "children": [
              "IPY_MODEL_1090091656db47ec91b166e0aaf0267a",
              "IPY_MODEL_ef072cd15d6147748b401fce350e3b2e",
              "IPY_MODEL_34eadf866e6545a28293dae6e99190fa",
              "IPY_MODEL_0012e6316dad4f09ae0596fddd2d483b",
              "IPY_MODEL_f48095dc64a549e5bdfe62e215e23355"
            ],
            "layout": "IPY_MODEL_494e9c05f5884b21ac4805745e82c608"
          }
        },
        "1090091656db47ec91b166e0aaf0267a": {
          "model_module": "@jupyter-widgets/controls",
          "model_name": "HTMLModel",
          "model_module_version": "1.5.0",
          "state": {
            "_dom_classes": [],
            "_model_module": "@jupyter-widgets/controls",
            "_model_module_version": "1.5.0",
            "_model_name": "HTMLModel",
            "_view_count": null,
            "_view_module": "@jupyter-widgets/controls",
            "_view_module_version": "1.5.0",
            "_view_name": "HTMLView",
            "description": "",
            "description_tooltip": null,
            "layout": "IPY_MODEL_975f2e99f51e4542850ef8b2338e9dad",
            "placeholder": "​",
            "style": "IPY_MODEL_c9964029b15844799421fe428a227b9a",
            "value": "<center> <img\nsrc=https://huggingface.co/front/assets/huggingface_logo-noborder.svg\nalt='Hugging Face'> <br> Copy a token from <a\nhref=\"https://huggingface.co/settings/tokens\" target=\"_blank\">your Hugging Face\ntokens page</a> and paste it below. <br> Immediately click login after copying\nyour token or it might be stored in plain text in this notebook file. </center>"
          }
        },
        "ef072cd15d6147748b401fce350e3b2e": {
          "model_module": "@jupyter-widgets/controls",
          "model_name": "PasswordModel",
          "model_module_version": "1.5.0",
          "state": {
            "_dom_classes": [],
            "_model_module": "@jupyter-widgets/controls",
            "_model_module_version": "1.5.0",
            "_model_name": "PasswordModel",
            "_view_count": null,
            "_view_module": "@jupyter-widgets/controls",
            "_view_module_version": "1.5.0",
            "_view_name": "PasswordView",
            "continuous_update": true,
            "description": "Token:",
            "description_tooltip": null,
            "disabled": false,
            "layout": "IPY_MODEL_604eb1ed6e684a1ca3f71a317f5a2332",
            "placeholder": "​",
            "style": "IPY_MODEL_737288acb1a24cf9b3f8776660d410e4",
            "value": ""
          }
        },
        "34eadf866e6545a28293dae6e99190fa": {
          "model_module": "@jupyter-widgets/controls",
          "model_name": "CheckboxModel",
          "model_module_version": "1.5.0",
          "state": {
            "_dom_classes": [],
            "_model_module": "@jupyter-widgets/controls",
            "_model_module_version": "1.5.0",
            "_model_name": "CheckboxModel",
            "_view_count": null,
            "_view_module": "@jupyter-widgets/controls",
            "_view_module_version": "1.5.0",
            "_view_name": "CheckboxView",
            "description": "Add token as git credential?",
            "description_tooltip": null,
            "disabled": false,
            "indent": true,
            "layout": "IPY_MODEL_bac8de55c01f45ceada97286d3da82ca",
            "style": "IPY_MODEL_6a16eff908d24e8a93f32864873f1fb1",
            "value": true
          }
        },
        "0012e6316dad4f09ae0596fddd2d483b": {
          "model_module": "@jupyter-widgets/controls",
          "model_name": "ButtonModel",
          "model_module_version": "1.5.0",
          "state": {
            "_dom_classes": [],
            "_model_module": "@jupyter-widgets/controls",
            "_model_module_version": "1.5.0",
            "_model_name": "ButtonModel",
            "_view_count": null,
            "_view_module": "@jupyter-widgets/controls",
            "_view_module_version": "1.5.0",
            "_view_name": "ButtonView",
            "button_style": "",
            "description": "Login",
            "disabled": false,
            "icon": "",
            "layout": "IPY_MODEL_3ebbd565b9f24a6caa84cbbe486c075d",
            "style": "IPY_MODEL_7aeda740e6684a93988d1e5397a9d842",
            "tooltip": ""
          }
        },
        "f48095dc64a549e5bdfe62e215e23355": {
          "model_module": "@jupyter-widgets/controls",
          "model_name": "HTMLModel",
          "model_module_version": "1.5.0",
          "state": {
            "_dom_classes": [],
            "_model_module": "@jupyter-widgets/controls",
            "_model_module_version": "1.5.0",
            "_model_name": "HTMLModel",
            "_view_count": null,
            "_view_module": "@jupyter-widgets/controls",
            "_view_module_version": "1.5.0",
            "_view_name": "HTMLView",
            "description": "",
            "description_tooltip": null,
            "layout": "IPY_MODEL_e161aff3ff9a43d3a802d95e7f055063",
            "placeholder": "​",
            "style": "IPY_MODEL_03a7f6b8863e43378e5cb06b670688dd",
            "value": "\n<b>Pro Tip:</b> If you don't already have one, you can create a dedicated\n'notebooks' token with 'write' access, that you can then easily reuse for all\nnotebooks. </center>"
          }
        },
        "494e9c05f5884b21ac4805745e82c608": {
          "model_module": "@jupyter-widgets/base",
          "model_name": "LayoutModel",
          "model_module_version": "1.2.0",
          "state": {
            "_model_module": "@jupyter-widgets/base",
            "_model_module_version": "1.2.0",
            "_model_name": "LayoutModel",
            "_view_count": null,
            "_view_module": "@jupyter-widgets/base",
            "_view_module_version": "1.2.0",
            "_view_name": "LayoutView",
            "align_content": null,
            "align_items": "center",
            "align_self": null,
            "border": null,
            "bottom": null,
            "display": "flex",
            "flex": null,
            "flex_flow": "column",
            "grid_area": null,
            "grid_auto_columns": null,
            "grid_auto_flow": null,
            "grid_auto_rows": null,
            "grid_column": null,
            "grid_gap": null,
            "grid_row": null,
            "grid_template_areas": null,
            "grid_template_columns": null,
            "grid_template_rows": null,
            "height": null,
            "justify_content": null,
            "justify_items": null,
            "left": null,
            "margin": null,
            "max_height": null,
            "max_width": null,
            "min_height": null,
            "min_width": null,
            "object_fit": null,
            "object_position": null,
            "order": null,
            "overflow": null,
            "overflow_x": null,
            "overflow_y": null,
            "padding": null,
            "right": null,
            "top": null,
            "visibility": null,
            "width": "50%"
          }
        },
        "975f2e99f51e4542850ef8b2338e9dad": {
          "model_module": "@jupyter-widgets/base",
          "model_name": "LayoutModel",
          "model_module_version": "1.2.0",
          "state": {
            "_model_module": "@jupyter-widgets/base",
            "_model_module_version": "1.2.0",
            "_model_name": "LayoutModel",
            "_view_count": null,
            "_view_module": "@jupyter-widgets/base",
            "_view_module_version": "1.2.0",
            "_view_name": "LayoutView",
            "align_content": null,
            "align_items": null,
            "align_self": null,
            "border": null,
            "bottom": null,
            "display": null,
            "flex": null,
            "flex_flow": null,
            "grid_area": null,
            "grid_auto_columns": null,
            "grid_auto_flow": null,
            "grid_auto_rows": null,
            "grid_column": null,
            "grid_gap": null,
            "grid_row": null,
            "grid_template_areas": null,
            "grid_template_columns": null,
            "grid_template_rows": null,
            "height": null,
            "justify_content": null,
            "justify_items": null,
            "left": null,
            "margin": null,
            "max_height": null,
            "max_width": null,
            "min_height": null,
            "min_width": null,
            "object_fit": null,
            "object_position": null,
            "order": null,
            "overflow": null,
            "overflow_x": null,
            "overflow_y": null,
            "padding": null,
            "right": null,
            "top": null,
            "visibility": null,
            "width": null
          }
        },
        "c9964029b15844799421fe428a227b9a": {
          "model_module": "@jupyter-widgets/controls",
          "model_name": "DescriptionStyleModel",
          "model_module_version": "1.5.0",
          "state": {
            "_model_module": "@jupyter-widgets/controls",
            "_model_module_version": "1.5.0",
            "_model_name": "DescriptionStyleModel",
            "_view_count": null,
            "_view_module": "@jupyter-widgets/base",
            "_view_module_version": "1.2.0",
            "_view_name": "StyleView",
            "description_width": ""
          }
        },
        "604eb1ed6e684a1ca3f71a317f5a2332": {
          "model_module": "@jupyter-widgets/base",
          "model_name": "LayoutModel",
          "model_module_version": "1.2.0",
          "state": {
            "_model_module": "@jupyter-widgets/base",
            "_model_module_version": "1.2.0",
            "_model_name": "LayoutModel",
            "_view_count": null,
            "_view_module": "@jupyter-widgets/base",
            "_view_module_version": "1.2.0",
            "_view_name": "LayoutView",
            "align_content": null,
            "align_items": null,
            "align_self": null,
            "border": null,
            "bottom": null,
            "display": null,
            "flex": null,
            "flex_flow": null,
            "grid_area": null,
            "grid_auto_columns": null,
            "grid_auto_flow": null,
            "grid_auto_rows": null,
            "grid_column": null,
            "grid_gap": null,
            "grid_row": null,
            "grid_template_areas": null,
            "grid_template_columns": null,
            "grid_template_rows": null,
            "height": null,
            "justify_content": null,
            "justify_items": null,
            "left": null,
            "margin": null,
            "max_height": null,
            "max_width": null,
            "min_height": null,
            "min_width": null,
            "object_fit": null,
            "object_position": null,
            "order": null,
            "overflow": null,
            "overflow_x": null,
            "overflow_y": null,
            "padding": null,
            "right": null,
            "top": null,
            "visibility": null,
            "width": null
          }
        },
        "737288acb1a24cf9b3f8776660d410e4": {
          "model_module": "@jupyter-widgets/controls",
          "model_name": "DescriptionStyleModel",
          "model_module_version": "1.5.0",
          "state": {
            "_model_module": "@jupyter-widgets/controls",
            "_model_module_version": "1.5.0",
            "_model_name": "DescriptionStyleModel",
            "_view_count": null,
            "_view_module": "@jupyter-widgets/base",
            "_view_module_version": "1.2.0",
            "_view_name": "StyleView",
            "description_width": ""
          }
        },
        "bac8de55c01f45ceada97286d3da82ca": {
          "model_module": "@jupyter-widgets/base",
          "model_name": "LayoutModel",
          "model_module_version": "1.2.0",
          "state": {
            "_model_module": "@jupyter-widgets/base",
            "_model_module_version": "1.2.0",
            "_model_name": "LayoutModel",
            "_view_count": null,
            "_view_module": "@jupyter-widgets/base",
            "_view_module_version": "1.2.0",
            "_view_name": "LayoutView",
            "align_content": null,
            "align_items": null,
            "align_self": null,
            "border": null,
            "bottom": null,
            "display": null,
            "flex": null,
            "flex_flow": null,
            "grid_area": null,
            "grid_auto_columns": null,
            "grid_auto_flow": null,
            "grid_auto_rows": null,
            "grid_column": null,
            "grid_gap": null,
            "grid_row": null,
            "grid_template_areas": null,
            "grid_template_columns": null,
            "grid_template_rows": null,
            "height": null,
            "justify_content": null,
            "justify_items": null,
            "left": null,
            "margin": null,
            "max_height": null,
            "max_width": null,
            "min_height": null,
            "min_width": null,
            "object_fit": null,
            "object_position": null,
            "order": null,
            "overflow": null,
            "overflow_x": null,
            "overflow_y": null,
            "padding": null,
            "right": null,
            "top": null,
            "visibility": null,
            "width": null
          }
        },
        "6a16eff908d24e8a93f32864873f1fb1": {
          "model_module": "@jupyter-widgets/controls",
          "model_name": "DescriptionStyleModel",
          "model_module_version": "1.5.0",
          "state": {
            "_model_module": "@jupyter-widgets/controls",
            "_model_module_version": "1.5.0",
            "_model_name": "DescriptionStyleModel",
            "_view_count": null,
            "_view_module": "@jupyter-widgets/base",
            "_view_module_version": "1.2.0",
            "_view_name": "StyleView",
            "description_width": ""
          }
        },
        "3ebbd565b9f24a6caa84cbbe486c075d": {
          "model_module": "@jupyter-widgets/base",
          "model_name": "LayoutModel",
          "model_module_version": "1.2.0",
          "state": {
            "_model_module": "@jupyter-widgets/base",
            "_model_module_version": "1.2.0",
            "_model_name": "LayoutModel",
            "_view_count": null,
            "_view_module": "@jupyter-widgets/base",
            "_view_module_version": "1.2.0",
            "_view_name": "LayoutView",
            "align_content": null,
            "align_items": null,
            "align_self": null,
            "border": null,
            "bottom": null,
            "display": null,
            "flex": null,
            "flex_flow": null,
            "grid_area": null,
            "grid_auto_columns": null,
            "grid_auto_flow": null,
            "grid_auto_rows": null,
            "grid_column": null,
            "grid_gap": null,
            "grid_row": null,
            "grid_template_areas": null,
            "grid_template_columns": null,
            "grid_template_rows": null,
            "height": null,
            "justify_content": null,
            "justify_items": null,
            "left": null,
            "margin": null,
            "max_height": null,
            "max_width": null,
            "min_height": null,
            "min_width": null,
            "object_fit": null,
            "object_position": null,
            "order": null,
            "overflow": null,
            "overflow_x": null,
            "overflow_y": null,
            "padding": null,
            "right": null,
            "top": null,
            "visibility": null,
            "width": null
          }
        },
        "7aeda740e6684a93988d1e5397a9d842": {
          "model_module": "@jupyter-widgets/controls",
          "model_name": "ButtonStyleModel",
          "model_module_version": "1.5.0",
          "state": {
            "_model_module": "@jupyter-widgets/controls",
            "_model_module_version": "1.5.0",
            "_model_name": "ButtonStyleModel",
            "_view_count": null,
            "_view_module": "@jupyter-widgets/base",
            "_view_module_version": "1.2.0",
            "_view_name": "StyleView",
            "button_color": null,
            "font_weight": ""
          }
        },
        "e161aff3ff9a43d3a802d95e7f055063": {
          "model_module": "@jupyter-widgets/base",
          "model_name": "LayoutModel",
          "model_module_version": "1.2.0",
          "state": {
            "_model_module": "@jupyter-widgets/base",
            "_model_module_version": "1.2.0",
            "_model_name": "LayoutModel",
            "_view_count": null,
            "_view_module": "@jupyter-widgets/base",
            "_view_module_version": "1.2.0",
            "_view_name": "LayoutView",
            "align_content": null,
            "align_items": null,
            "align_self": null,
            "border": null,
            "bottom": null,
            "display": null,
            "flex": null,
            "flex_flow": null,
            "grid_area": null,
            "grid_auto_columns": null,
            "grid_auto_flow": null,
            "grid_auto_rows": null,
            "grid_column": null,
            "grid_gap": null,
            "grid_row": null,
            "grid_template_areas": null,
            "grid_template_columns": null,
            "grid_template_rows": null,
            "height": null,
            "justify_content": null,
            "justify_items": null,
            "left": null,
            "margin": null,
            "max_height": null,
            "max_width": null,
            "min_height": null,
            "min_width": null,
            "object_fit": null,
            "object_position": null,
            "order": null,
            "overflow": null,
            "overflow_x": null,
            "overflow_y": null,
            "padding": null,
            "right": null,
            "top": null,
            "visibility": null,
            "width": null
          }
        },
        "03a7f6b8863e43378e5cb06b670688dd": {
          "model_module": "@jupyter-widgets/controls",
          "model_name": "DescriptionStyleModel",
          "model_module_version": "1.5.0",
          "state": {
            "_model_module": "@jupyter-widgets/controls",
            "_model_module_version": "1.5.0",
            "_model_name": "DescriptionStyleModel",
            "_view_count": null,
            "_view_module": "@jupyter-widgets/base",
            "_view_module_version": "1.2.0",
            "_view_name": "StyleView",
            "description_width": ""
          }
        },
        "ee556bdd0c9f4d9d8c3b45736802557b": {
          "model_module": "@jupyter-widgets/controls",
          "model_name": "HBoxModel",
          "model_module_version": "1.5.0",
          "state": {
            "_dom_classes": [],
            "_model_module": "@jupyter-widgets/controls",
            "_model_module_version": "1.5.0",
            "_model_name": "HBoxModel",
            "_view_count": null,
            "_view_module": "@jupyter-widgets/controls",
            "_view_module_version": "1.5.0",
            "_view_name": "HBoxView",
            "box_style": "",
            "children": [
              "IPY_MODEL_a0e210e7418f4cb0960c52293fd74dcd",
              "IPY_MODEL_a77b8be448634d37acfd19e06018d025",
              "IPY_MODEL_c31ccfc0952a4eac8ef2fc63cf111217"
            ],
            "layout": "IPY_MODEL_9987aa92653e4cebb2168c3521bd1535"
          }
        },
        "a0e210e7418f4cb0960c52293fd74dcd": {
          "model_module": "@jupyter-widgets/controls",
          "model_name": "HTMLModel",
          "model_module_version": "1.5.0",
          "state": {
            "_dom_classes": [],
            "_model_module": "@jupyter-widgets/controls",
            "_model_module_version": "1.5.0",
            "_model_name": "HTMLModel",
            "_view_count": null,
            "_view_module": "@jupyter-widgets/controls",
            "_view_module_version": "1.5.0",
            "_view_name": "HTMLView",
            "description": "",
            "description_tooltip": null,
            "layout": "IPY_MODEL_17678d91852b42dc96155adb579176ac",
            "placeholder": "​",
            "style": "IPY_MODEL_2ba1c07796e94d469c3192d1b20538c5",
            "value": "tokenizer_config.json: 100%"
          }
        },
        "a77b8be448634d37acfd19e06018d025": {
          "model_module": "@jupyter-widgets/controls",
          "model_name": "FloatProgressModel",
          "model_module_version": "1.5.0",
          "state": {
            "_dom_classes": [],
            "_model_module": "@jupyter-widgets/controls",
            "_model_module_version": "1.5.0",
            "_model_name": "FloatProgressModel",
            "_view_count": null,
            "_view_module": "@jupyter-widgets/controls",
            "_view_module_version": "1.5.0",
            "_view_name": "ProgressView",
            "bar_style": "success",
            "description": "",
            "description_tooltip": null,
            "layout": "IPY_MODEL_5c142147b42c445d8906e7293a5faba7",
            "max": 48,
            "min": 0,
            "orientation": "horizontal",
            "style": "IPY_MODEL_5a71104e55d445fa94637218e0d3fc78",
            "value": 48
          }
        },
        "c31ccfc0952a4eac8ef2fc63cf111217": {
          "model_module": "@jupyter-widgets/controls",
          "model_name": "HTMLModel",
          "model_module_version": "1.5.0",
          "state": {
            "_dom_classes": [],
            "_model_module": "@jupyter-widgets/controls",
            "_model_module_version": "1.5.0",
            "_model_name": "HTMLModel",
            "_view_count": null,
            "_view_module": "@jupyter-widgets/controls",
            "_view_module_version": "1.5.0",
            "_view_name": "HTMLView",
            "description": "",
            "description_tooltip": null,
            "layout": "IPY_MODEL_11a0b3e5e4554aa99ba7bd8a7e5e0b2c",
            "placeholder": "​",
            "style": "IPY_MODEL_84a6c241a9fd4bdabc860282cd550cc2",
            "value": " 48.0/48.0 [00:00&lt;00:00, 1.60kB/s]"
          }
        },
        "9987aa92653e4cebb2168c3521bd1535": {
          "model_module": "@jupyter-widgets/base",
          "model_name": "LayoutModel",
          "model_module_version": "1.2.0",
          "state": {
            "_model_module": "@jupyter-widgets/base",
            "_model_module_version": "1.2.0",
            "_model_name": "LayoutModel",
            "_view_count": null,
            "_view_module": "@jupyter-widgets/base",
            "_view_module_version": "1.2.0",
            "_view_name": "LayoutView",
            "align_content": null,
            "align_items": null,
            "align_self": null,
            "border": null,
            "bottom": null,
            "display": null,
            "flex": null,
            "flex_flow": null,
            "grid_area": null,
            "grid_auto_columns": null,
            "grid_auto_flow": null,
            "grid_auto_rows": null,
            "grid_column": null,
            "grid_gap": null,
            "grid_row": null,
            "grid_template_areas": null,
            "grid_template_columns": null,
            "grid_template_rows": null,
            "height": null,
            "justify_content": null,
            "justify_items": null,
            "left": null,
            "margin": null,
            "max_height": null,
            "max_width": null,
            "min_height": null,
            "min_width": null,
            "object_fit": null,
            "object_position": null,
            "order": null,
            "overflow": null,
            "overflow_x": null,
            "overflow_y": null,
            "padding": null,
            "right": null,
            "top": null,
            "visibility": null,
            "width": null
          }
        },
        "17678d91852b42dc96155adb579176ac": {
          "model_module": "@jupyter-widgets/base",
          "model_name": "LayoutModel",
          "model_module_version": "1.2.0",
          "state": {
            "_model_module": "@jupyter-widgets/base",
            "_model_module_version": "1.2.0",
            "_model_name": "LayoutModel",
            "_view_count": null,
            "_view_module": "@jupyter-widgets/base",
            "_view_module_version": "1.2.0",
            "_view_name": "LayoutView",
            "align_content": null,
            "align_items": null,
            "align_self": null,
            "border": null,
            "bottom": null,
            "display": null,
            "flex": null,
            "flex_flow": null,
            "grid_area": null,
            "grid_auto_columns": null,
            "grid_auto_flow": null,
            "grid_auto_rows": null,
            "grid_column": null,
            "grid_gap": null,
            "grid_row": null,
            "grid_template_areas": null,
            "grid_template_columns": null,
            "grid_template_rows": null,
            "height": null,
            "justify_content": null,
            "justify_items": null,
            "left": null,
            "margin": null,
            "max_height": null,
            "max_width": null,
            "min_height": null,
            "min_width": null,
            "object_fit": null,
            "object_position": null,
            "order": null,
            "overflow": null,
            "overflow_x": null,
            "overflow_y": null,
            "padding": null,
            "right": null,
            "top": null,
            "visibility": null,
            "width": null
          }
        },
        "2ba1c07796e94d469c3192d1b20538c5": {
          "model_module": "@jupyter-widgets/controls",
          "model_name": "DescriptionStyleModel",
          "model_module_version": "1.5.0",
          "state": {
            "_model_module": "@jupyter-widgets/controls",
            "_model_module_version": "1.5.0",
            "_model_name": "DescriptionStyleModel",
            "_view_count": null,
            "_view_module": "@jupyter-widgets/base",
            "_view_module_version": "1.2.0",
            "_view_name": "StyleView",
            "description_width": ""
          }
        },
        "5c142147b42c445d8906e7293a5faba7": {
          "model_module": "@jupyter-widgets/base",
          "model_name": "LayoutModel",
          "model_module_version": "1.2.0",
          "state": {
            "_model_module": "@jupyter-widgets/base",
            "_model_module_version": "1.2.0",
            "_model_name": "LayoutModel",
            "_view_count": null,
            "_view_module": "@jupyter-widgets/base",
            "_view_module_version": "1.2.0",
            "_view_name": "LayoutView",
            "align_content": null,
            "align_items": null,
            "align_self": null,
            "border": null,
            "bottom": null,
            "display": null,
            "flex": null,
            "flex_flow": null,
            "grid_area": null,
            "grid_auto_columns": null,
            "grid_auto_flow": null,
            "grid_auto_rows": null,
            "grid_column": null,
            "grid_gap": null,
            "grid_row": null,
            "grid_template_areas": null,
            "grid_template_columns": null,
            "grid_template_rows": null,
            "height": null,
            "justify_content": null,
            "justify_items": null,
            "left": null,
            "margin": null,
            "max_height": null,
            "max_width": null,
            "min_height": null,
            "min_width": null,
            "object_fit": null,
            "object_position": null,
            "order": null,
            "overflow": null,
            "overflow_x": null,
            "overflow_y": null,
            "padding": null,
            "right": null,
            "top": null,
            "visibility": null,
            "width": null
          }
        },
        "5a71104e55d445fa94637218e0d3fc78": {
          "model_module": "@jupyter-widgets/controls",
          "model_name": "ProgressStyleModel",
          "model_module_version": "1.5.0",
          "state": {
            "_model_module": "@jupyter-widgets/controls",
            "_model_module_version": "1.5.0",
            "_model_name": "ProgressStyleModel",
            "_view_count": null,
            "_view_module": "@jupyter-widgets/base",
            "_view_module_version": "1.2.0",
            "_view_name": "StyleView",
            "bar_color": null,
            "description_width": ""
          }
        },
        "11a0b3e5e4554aa99ba7bd8a7e5e0b2c": {
          "model_module": "@jupyter-widgets/base",
          "model_name": "LayoutModel",
          "model_module_version": "1.2.0",
          "state": {
            "_model_module": "@jupyter-widgets/base",
            "_model_module_version": "1.2.0",
            "_model_name": "LayoutModel",
            "_view_count": null,
            "_view_module": "@jupyter-widgets/base",
            "_view_module_version": "1.2.0",
            "_view_name": "LayoutView",
            "align_content": null,
            "align_items": null,
            "align_self": null,
            "border": null,
            "bottom": null,
            "display": null,
            "flex": null,
            "flex_flow": null,
            "grid_area": null,
            "grid_auto_columns": null,
            "grid_auto_flow": null,
            "grid_auto_rows": null,
            "grid_column": null,
            "grid_gap": null,
            "grid_row": null,
            "grid_template_areas": null,
            "grid_template_columns": null,
            "grid_template_rows": null,
            "height": null,
            "justify_content": null,
            "justify_items": null,
            "left": null,
            "margin": null,
            "max_height": null,
            "max_width": null,
            "min_height": null,
            "min_width": null,
            "object_fit": null,
            "object_position": null,
            "order": null,
            "overflow": null,
            "overflow_x": null,
            "overflow_y": null,
            "padding": null,
            "right": null,
            "top": null,
            "visibility": null,
            "width": null
          }
        },
        "84a6c241a9fd4bdabc860282cd550cc2": {
          "model_module": "@jupyter-widgets/controls",
          "model_name": "DescriptionStyleModel",
          "model_module_version": "1.5.0",
          "state": {
            "_model_module": "@jupyter-widgets/controls",
            "_model_module_version": "1.5.0",
            "_model_name": "DescriptionStyleModel",
            "_view_count": null,
            "_view_module": "@jupyter-widgets/base",
            "_view_module_version": "1.2.0",
            "_view_name": "StyleView",
            "description_width": ""
          }
        },
        "bdff5e683a5f4cc3a63f93107018f7b8": {
          "model_module": "@jupyter-widgets/controls",
          "model_name": "HBoxModel",
          "model_module_version": "1.5.0",
          "state": {
            "_dom_classes": [],
            "_model_module": "@jupyter-widgets/controls",
            "_model_module_version": "1.5.0",
            "_model_name": "HBoxModel",
            "_view_count": null,
            "_view_module": "@jupyter-widgets/controls",
            "_view_module_version": "1.5.0",
            "_view_name": "HBoxView",
            "box_style": "",
            "children": [
              "IPY_MODEL_28cd576d9ffd49fd9b303541d10cf1cb",
              "IPY_MODEL_4037ffb032fd4bda9f03776185b7551c",
              "IPY_MODEL_e5e484814c194a86947cd5057dffd9ea"
            ],
            "layout": "IPY_MODEL_f0b05964716c4d6ca956f6169595c021"
          }
        },
        "28cd576d9ffd49fd9b303541d10cf1cb": {
          "model_module": "@jupyter-widgets/controls",
          "model_name": "HTMLModel",
          "model_module_version": "1.5.0",
          "state": {
            "_dom_classes": [],
            "_model_module": "@jupyter-widgets/controls",
            "_model_module_version": "1.5.0",
            "_model_name": "HTMLModel",
            "_view_count": null,
            "_view_module": "@jupyter-widgets/controls",
            "_view_module_version": "1.5.0",
            "_view_name": "HTMLView",
            "description": "",
            "description_tooltip": null,
            "layout": "IPY_MODEL_9965dcafbc1842a8aeae6bc2631e74b4",
            "placeholder": "​",
            "style": "IPY_MODEL_427aeddd9c15445a9f390d1735e8a98a",
            "value": "vocab.txt: 100%"
          }
        },
        "4037ffb032fd4bda9f03776185b7551c": {
          "model_module": "@jupyter-widgets/controls",
          "model_name": "FloatProgressModel",
          "model_module_version": "1.5.0",
          "state": {
            "_dom_classes": [],
            "_model_module": "@jupyter-widgets/controls",
            "_model_module_version": "1.5.0",
            "_model_name": "FloatProgressModel",
            "_view_count": null,
            "_view_module": "@jupyter-widgets/controls",
            "_view_module_version": "1.5.0",
            "_view_name": "ProgressView",
            "bar_style": "success",
            "description": "",
            "description_tooltip": null,
            "layout": "IPY_MODEL_13cc391046f64499b8030c84c965515e",
            "max": 231508,
            "min": 0,
            "orientation": "horizontal",
            "style": "IPY_MODEL_ebf808ac7e2b4cad8a57b1c0b93f8a70",
            "value": 231508
          }
        },
        "e5e484814c194a86947cd5057dffd9ea": {
          "model_module": "@jupyter-widgets/controls",
          "model_name": "HTMLModel",
          "model_module_version": "1.5.0",
          "state": {
            "_dom_classes": [],
            "_model_module": "@jupyter-widgets/controls",
            "_model_module_version": "1.5.0",
            "_model_name": "HTMLModel",
            "_view_count": null,
            "_view_module": "@jupyter-widgets/controls",
            "_view_module_version": "1.5.0",
            "_view_name": "HTMLView",
            "description": "",
            "description_tooltip": null,
            "layout": "IPY_MODEL_b86108eb9e3c43b2a11b642c45851a1f",
            "placeholder": "​",
            "style": "IPY_MODEL_36bfb83bd55a41eda33a3246ce405cbd",
            "value": " 232k/232k [00:00&lt;00:00, 3.28MB/s]"
          }
        },
        "f0b05964716c4d6ca956f6169595c021": {
          "model_module": "@jupyter-widgets/base",
          "model_name": "LayoutModel",
          "model_module_version": "1.2.0",
          "state": {
            "_model_module": "@jupyter-widgets/base",
            "_model_module_version": "1.2.0",
            "_model_name": "LayoutModel",
            "_view_count": null,
            "_view_module": "@jupyter-widgets/base",
            "_view_module_version": "1.2.0",
            "_view_name": "LayoutView",
            "align_content": null,
            "align_items": null,
            "align_self": null,
            "border": null,
            "bottom": null,
            "display": null,
            "flex": null,
            "flex_flow": null,
            "grid_area": null,
            "grid_auto_columns": null,
            "grid_auto_flow": null,
            "grid_auto_rows": null,
            "grid_column": null,
            "grid_gap": null,
            "grid_row": null,
            "grid_template_areas": null,
            "grid_template_columns": null,
            "grid_template_rows": null,
            "height": null,
            "justify_content": null,
            "justify_items": null,
            "left": null,
            "margin": null,
            "max_height": null,
            "max_width": null,
            "min_height": null,
            "min_width": null,
            "object_fit": null,
            "object_position": null,
            "order": null,
            "overflow": null,
            "overflow_x": null,
            "overflow_y": null,
            "padding": null,
            "right": null,
            "top": null,
            "visibility": null,
            "width": null
          }
        },
        "9965dcafbc1842a8aeae6bc2631e74b4": {
          "model_module": "@jupyter-widgets/base",
          "model_name": "LayoutModel",
          "model_module_version": "1.2.0",
          "state": {
            "_model_module": "@jupyter-widgets/base",
            "_model_module_version": "1.2.0",
            "_model_name": "LayoutModel",
            "_view_count": null,
            "_view_module": "@jupyter-widgets/base",
            "_view_module_version": "1.2.0",
            "_view_name": "LayoutView",
            "align_content": null,
            "align_items": null,
            "align_self": null,
            "border": null,
            "bottom": null,
            "display": null,
            "flex": null,
            "flex_flow": null,
            "grid_area": null,
            "grid_auto_columns": null,
            "grid_auto_flow": null,
            "grid_auto_rows": null,
            "grid_column": null,
            "grid_gap": null,
            "grid_row": null,
            "grid_template_areas": null,
            "grid_template_columns": null,
            "grid_template_rows": null,
            "height": null,
            "justify_content": null,
            "justify_items": null,
            "left": null,
            "margin": null,
            "max_height": null,
            "max_width": null,
            "min_height": null,
            "min_width": null,
            "object_fit": null,
            "object_position": null,
            "order": null,
            "overflow": null,
            "overflow_x": null,
            "overflow_y": null,
            "padding": null,
            "right": null,
            "top": null,
            "visibility": null,
            "width": null
          }
        },
        "427aeddd9c15445a9f390d1735e8a98a": {
          "model_module": "@jupyter-widgets/controls",
          "model_name": "DescriptionStyleModel",
          "model_module_version": "1.5.0",
          "state": {
            "_model_module": "@jupyter-widgets/controls",
            "_model_module_version": "1.5.0",
            "_model_name": "DescriptionStyleModel",
            "_view_count": null,
            "_view_module": "@jupyter-widgets/base",
            "_view_module_version": "1.2.0",
            "_view_name": "StyleView",
            "description_width": ""
          }
        },
        "13cc391046f64499b8030c84c965515e": {
          "model_module": "@jupyter-widgets/base",
          "model_name": "LayoutModel",
          "model_module_version": "1.2.0",
          "state": {
            "_model_module": "@jupyter-widgets/base",
            "_model_module_version": "1.2.0",
            "_model_name": "LayoutModel",
            "_view_count": null,
            "_view_module": "@jupyter-widgets/base",
            "_view_module_version": "1.2.0",
            "_view_name": "LayoutView",
            "align_content": null,
            "align_items": null,
            "align_self": null,
            "border": null,
            "bottom": null,
            "display": null,
            "flex": null,
            "flex_flow": null,
            "grid_area": null,
            "grid_auto_columns": null,
            "grid_auto_flow": null,
            "grid_auto_rows": null,
            "grid_column": null,
            "grid_gap": null,
            "grid_row": null,
            "grid_template_areas": null,
            "grid_template_columns": null,
            "grid_template_rows": null,
            "height": null,
            "justify_content": null,
            "justify_items": null,
            "left": null,
            "margin": null,
            "max_height": null,
            "max_width": null,
            "min_height": null,
            "min_width": null,
            "object_fit": null,
            "object_position": null,
            "order": null,
            "overflow": null,
            "overflow_x": null,
            "overflow_y": null,
            "padding": null,
            "right": null,
            "top": null,
            "visibility": null,
            "width": null
          }
        },
        "ebf808ac7e2b4cad8a57b1c0b93f8a70": {
          "model_module": "@jupyter-widgets/controls",
          "model_name": "ProgressStyleModel",
          "model_module_version": "1.5.0",
          "state": {
            "_model_module": "@jupyter-widgets/controls",
            "_model_module_version": "1.5.0",
            "_model_name": "ProgressStyleModel",
            "_view_count": null,
            "_view_module": "@jupyter-widgets/base",
            "_view_module_version": "1.2.0",
            "_view_name": "StyleView",
            "bar_color": null,
            "description_width": ""
          }
        },
        "b86108eb9e3c43b2a11b642c45851a1f": {
          "model_module": "@jupyter-widgets/base",
          "model_name": "LayoutModel",
          "model_module_version": "1.2.0",
          "state": {
            "_model_module": "@jupyter-widgets/base",
            "_model_module_version": "1.2.0",
            "_model_name": "LayoutModel",
            "_view_count": null,
            "_view_module": "@jupyter-widgets/base",
            "_view_module_version": "1.2.0",
            "_view_name": "LayoutView",
            "align_content": null,
            "align_items": null,
            "align_self": null,
            "border": null,
            "bottom": null,
            "display": null,
            "flex": null,
            "flex_flow": null,
            "grid_area": null,
            "grid_auto_columns": null,
            "grid_auto_flow": null,
            "grid_auto_rows": null,
            "grid_column": null,
            "grid_gap": null,
            "grid_row": null,
            "grid_template_areas": null,
            "grid_template_columns": null,
            "grid_template_rows": null,
            "height": null,
            "justify_content": null,
            "justify_items": null,
            "left": null,
            "margin": null,
            "max_height": null,
            "max_width": null,
            "min_height": null,
            "min_width": null,
            "object_fit": null,
            "object_position": null,
            "order": null,
            "overflow": null,
            "overflow_x": null,
            "overflow_y": null,
            "padding": null,
            "right": null,
            "top": null,
            "visibility": null,
            "width": null
          }
        },
        "36bfb83bd55a41eda33a3246ce405cbd": {
          "model_module": "@jupyter-widgets/controls",
          "model_name": "DescriptionStyleModel",
          "model_module_version": "1.5.0",
          "state": {
            "_model_module": "@jupyter-widgets/controls",
            "_model_module_version": "1.5.0",
            "_model_name": "DescriptionStyleModel",
            "_view_count": null,
            "_view_module": "@jupyter-widgets/base",
            "_view_module_version": "1.2.0",
            "_view_name": "StyleView",
            "description_width": ""
          }
        },
        "58d387f06b864ec289f3113fe7c07aa2": {
          "model_module": "@jupyter-widgets/controls",
          "model_name": "HBoxModel",
          "model_module_version": "1.5.0",
          "state": {
            "_dom_classes": [],
            "_model_module": "@jupyter-widgets/controls",
            "_model_module_version": "1.5.0",
            "_model_name": "HBoxModel",
            "_view_count": null,
            "_view_module": "@jupyter-widgets/controls",
            "_view_module_version": "1.5.0",
            "_view_name": "HBoxView",
            "box_style": "",
            "children": [
              "IPY_MODEL_c07631c978fd439eae472a6e919f5bc1",
              "IPY_MODEL_2678afd3bed440e593a2660e6019b4c7",
              "IPY_MODEL_54a678585e3f49ef89ef3223bbbc048c"
            ],
            "layout": "IPY_MODEL_b5d70c582c154cc0ad98525ad0549822"
          }
        },
        "c07631c978fd439eae472a6e919f5bc1": {
          "model_module": "@jupyter-widgets/controls",
          "model_name": "HTMLModel",
          "model_module_version": "1.5.0",
          "state": {
            "_dom_classes": [],
            "_model_module": "@jupyter-widgets/controls",
            "_model_module_version": "1.5.0",
            "_model_name": "HTMLModel",
            "_view_count": null,
            "_view_module": "@jupyter-widgets/controls",
            "_view_module_version": "1.5.0",
            "_view_name": "HTMLView",
            "description": "",
            "description_tooltip": null,
            "layout": "IPY_MODEL_4a039c78a8ab43ecb5cf84f906833d9c",
            "placeholder": "​",
            "style": "IPY_MODEL_f5a601b5a16047ae8691a51550ea8742",
            "value": "tokenizer.json: 100%"
          }
        },
        "2678afd3bed440e593a2660e6019b4c7": {
          "model_module": "@jupyter-widgets/controls",
          "model_name": "FloatProgressModel",
          "model_module_version": "1.5.0",
          "state": {
            "_dom_classes": [],
            "_model_module": "@jupyter-widgets/controls",
            "_model_module_version": "1.5.0",
            "_model_name": "FloatProgressModel",
            "_view_count": null,
            "_view_module": "@jupyter-widgets/controls",
            "_view_module_version": "1.5.0",
            "_view_name": "ProgressView",
            "bar_style": "success",
            "description": "",
            "description_tooltip": null,
            "layout": "IPY_MODEL_649ca1b5ec38411ab64d9dc7363507f0",
            "max": 466062,
            "min": 0,
            "orientation": "horizontal",
            "style": "IPY_MODEL_4122c105c008497689e8c62ee8e02181",
            "value": 466062
          }
        },
        "54a678585e3f49ef89ef3223bbbc048c": {
          "model_module": "@jupyter-widgets/controls",
          "model_name": "HTMLModel",
          "model_module_version": "1.5.0",
          "state": {
            "_dom_classes": [],
            "_model_module": "@jupyter-widgets/controls",
            "_model_module_version": "1.5.0",
            "_model_name": "HTMLModel",
            "_view_count": null,
            "_view_module": "@jupyter-widgets/controls",
            "_view_module_version": "1.5.0",
            "_view_name": "HTMLView",
            "description": "",
            "description_tooltip": null,
            "layout": "IPY_MODEL_72313ca2c9e9489cae12c3b38fabb219",
            "placeholder": "​",
            "style": "IPY_MODEL_5ecc06e575674e798bbe53b669562c9c",
            "value": " 466k/466k [00:00&lt;00:00, 10.8MB/s]"
          }
        },
        "b5d70c582c154cc0ad98525ad0549822": {
          "model_module": "@jupyter-widgets/base",
          "model_name": "LayoutModel",
          "model_module_version": "1.2.0",
          "state": {
            "_model_module": "@jupyter-widgets/base",
            "_model_module_version": "1.2.0",
            "_model_name": "LayoutModel",
            "_view_count": null,
            "_view_module": "@jupyter-widgets/base",
            "_view_module_version": "1.2.0",
            "_view_name": "LayoutView",
            "align_content": null,
            "align_items": null,
            "align_self": null,
            "border": null,
            "bottom": null,
            "display": null,
            "flex": null,
            "flex_flow": null,
            "grid_area": null,
            "grid_auto_columns": null,
            "grid_auto_flow": null,
            "grid_auto_rows": null,
            "grid_column": null,
            "grid_gap": null,
            "grid_row": null,
            "grid_template_areas": null,
            "grid_template_columns": null,
            "grid_template_rows": null,
            "height": null,
            "justify_content": null,
            "justify_items": null,
            "left": null,
            "margin": null,
            "max_height": null,
            "max_width": null,
            "min_height": null,
            "min_width": null,
            "object_fit": null,
            "object_position": null,
            "order": null,
            "overflow": null,
            "overflow_x": null,
            "overflow_y": null,
            "padding": null,
            "right": null,
            "top": null,
            "visibility": null,
            "width": null
          }
        },
        "4a039c78a8ab43ecb5cf84f906833d9c": {
          "model_module": "@jupyter-widgets/base",
          "model_name": "LayoutModel",
          "model_module_version": "1.2.0",
          "state": {
            "_model_module": "@jupyter-widgets/base",
            "_model_module_version": "1.2.0",
            "_model_name": "LayoutModel",
            "_view_count": null,
            "_view_module": "@jupyter-widgets/base",
            "_view_module_version": "1.2.0",
            "_view_name": "LayoutView",
            "align_content": null,
            "align_items": null,
            "align_self": null,
            "border": null,
            "bottom": null,
            "display": null,
            "flex": null,
            "flex_flow": null,
            "grid_area": null,
            "grid_auto_columns": null,
            "grid_auto_flow": null,
            "grid_auto_rows": null,
            "grid_column": null,
            "grid_gap": null,
            "grid_row": null,
            "grid_template_areas": null,
            "grid_template_columns": null,
            "grid_template_rows": null,
            "height": null,
            "justify_content": null,
            "justify_items": null,
            "left": null,
            "margin": null,
            "max_height": null,
            "max_width": null,
            "min_height": null,
            "min_width": null,
            "object_fit": null,
            "object_position": null,
            "order": null,
            "overflow": null,
            "overflow_x": null,
            "overflow_y": null,
            "padding": null,
            "right": null,
            "top": null,
            "visibility": null,
            "width": null
          }
        },
        "f5a601b5a16047ae8691a51550ea8742": {
          "model_module": "@jupyter-widgets/controls",
          "model_name": "DescriptionStyleModel",
          "model_module_version": "1.5.0",
          "state": {
            "_model_module": "@jupyter-widgets/controls",
            "_model_module_version": "1.5.0",
            "_model_name": "DescriptionStyleModel",
            "_view_count": null,
            "_view_module": "@jupyter-widgets/base",
            "_view_module_version": "1.2.0",
            "_view_name": "StyleView",
            "description_width": ""
          }
        },
        "649ca1b5ec38411ab64d9dc7363507f0": {
          "model_module": "@jupyter-widgets/base",
          "model_name": "LayoutModel",
          "model_module_version": "1.2.0",
          "state": {
            "_model_module": "@jupyter-widgets/base",
            "_model_module_version": "1.2.0",
            "_model_name": "LayoutModel",
            "_view_count": null,
            "_view_module": "@jupyter-widgets/base",
            "_view_module_version": "1.2.0",
            "_view_name": "LayoutView",
            "align_content": null,
            "align_items": null,
            "align_self": null,
            "border": null,
            "bottom": null,
            "display": null,
            "flex": null,
            "flex_flow": null,
            "grid_area": null,
            "grid_auto_columns": null,
            "grid_auto_flow": null,
            "grid_auto_rows": null,
            "grid_column": null,
            "grid_gap": null,
            "grid_row": null,
            "grid_template_areas": null,
            "grid_template_columns": null,
            "grid_template_rows": null,
            "height": null,
            "justify_content": null,
            "justify_items": null,
            "left": null,
            "margin": null,
            "max_height": null,
            "max_width": null,
            "min_height": null,
            "min_width": null,
            "object_fit": null,
            "object_position": null,
            "order": null,
            "overflow": null,
            "overflow_x": null,
            "overflow_y": null,
            "padding": null,
            "right": null,
            "top": null,
            "visibility": null,
            "width": null
          }
        },
        "4122c105c008497689e8c62ee8e02181": {
          "model_module": "@jupyter-widgets/controls",
          "model_name": "ProgressStyleModel",
          "model_module_version": "1.5.0",
          "state": {
            "_model_module": "@jupyter-widgets/controls",
            "_model_module_version": "1.5.0",
            "_model_name": "ProgressStyleModel",
            "_view_count": null,
            "_view_module": "@jupyter-widgets/base",
            "_view_module_version": "1.2.0",
            "_view_name": "StyleView",
            "bar_color": null,
            "description_width": ""
          }
        },
        "72313ca2c9e9489cae12c3b38fabb219": {
          "model_module": "@jupyter-widgets/base",
          "model_name": "LayoutModel",
          "model_module_version": "1.2.0",
          "state": {
            "_model_module": "@jupyter-widgets/base",
            "_model_module_version": "1.2.0",
            "_model_name": "LayoutModel",
            "_view_count": null,
            "_view_module": "@jupyter-widgets/base",
            "_view_module_version": "1.2.0",
            "_view_name": "LayoutView",
            "align_content": null,
            "align_items": null,
            "align_self": null,
            "border": null,
            "bottom": null,
            "display": null,
            "flex": null,
            "flex_flow": null,
            "grid_area": null,
            "grid_auto_columns": null,
            "grid_auto_flow": null,
            "grid_auto_rows": null,
            "grid_column": null,
            "grid_gap": null,
            "grid_row": null,
            "grid_template_areas": null,
            "grid_template_columns": null,
            "grid_template_rows": null,
            "height": null,
            "justify_content": null,
            "justify_items": null,
            "left": null,
            "margin": null,
            "max_height": null,
            "max_width": null,
            "min_height": null,
            "min_width": null,
            "object_fit": null,
            "object_position": null,
            "order": null,
            "overflow": null,
            "overflow_x": null,
            "overflow_y": null,
            "padding": null,
            "right": null,
            "top": null,
            "visibility": null,
            "width": null
          }
        },
        "5ecc06e575674e798bbe53b669562c9c": {
          "model_module": "@jupyter-widgets/controls",
          "model_name": "DescriptionStyleModel",
          "model_module_version": "1.5.0",
          "state": {
            "_model_module": "@jupyter-widgets/controls",
            "_model_module_version": "1.5.0",
            "_model_name": "DescriptionStyleModel",
            "_view_count": null,
            "_view_module": "@jupyter-widgets/base",
            "_view_module_version": "1.2.0",
            "_view_name": "StyleView",
            "description_width": ""
          }
        },
        "6b6f85b98c3940f1abcc7bad3b5ce784": {
          "model_module": "@jupyter-widgets/controls",
          "model_name": "HBoxModel",
          "model_module_version": "1.5.0",
          "state": {
            "_dom_classes": [],
            "_model_module": "@jupyter-widgets/controls",
            "_model_module_version": "1.5.0",
            "_model_name": "HBoxModel",
            "_view_count": null,
            "_view_module": "@jupyter-widgets/controls",
            "_view_module_version": "1.5.0",
            "_view_name": "HBoxView",
            "box_style": "",
            "children": [
              "IPY_MODEL_472a2a6b938d464eae5a3c4f1cb69533",
              "IPY_MODEL_8d70d37a2b544fe3ac2db4066736f853",
              "IPY_MODEL_86a02841d7e74b2b9500023072220c0a"
            ],
            "layout": "IPY_MODEL_f8cca702cf7d4d298b49a22d017d423c"
          }
        },
        "472a2a6b938d464eae5a3c4f1cb69533": {
          "model_module": "@jupyter-widgets/controls",
          "model_name": "HTMLModel",
          "model_module_version": "1.5.0",
          "state": {
            "_dom_classes": [],
            "_model_module": "@jupyter-widgets/controls",
            "_model_module_version": "1.5.0",
            "_model_name": "HTMLModel",
            "_view_count": null,
            "_view_module": "@jupyter-widgets/controls",
            "_view_module_version": "1.5.0",
            "_view_name": "HTMLView",
            "description": "",
            "description_tooltip": null,
            "layout": "IPY_MODEL_d51d8bc515da45a8ab8cf31b59eb7d71",
            "placeholder": "​",
            "style": "IPY_MODEL_a7eee11f213a4e87b54b85f4a611278c",
            "value": "config.json: 100%"
          }
        },
        "8d70d37a2b544fe3ac2db4066736f853": {
          "model_module": "@jupyter-widgets/controls",
          "model_name": "FloatProgressModel",
          "model_module_version": "1.5.0",
          "state": {
            "_dom_classes": [],
            "_model_module": "@jupyter-widgets/controls",
            "_model_module_version": "1.5.0",
            "_model_name": "FloatProgressModel",
            "_view_count": null,
            "_view_module": "@jupyter-widgets/controls",
            "_view_module_version": "1.5.0",
            "_view_name": "ProgressView",
            "bar_style": "success",
            "description": "",
            "description_tooltip": null,
            "layout": "IPY_MODEL_9c14b5bdbac04d939a33766f611115c1",
            "max": 571,
            "min": 0,
            "orientation": "horizontal",
            "style": "IPY_MODEL_f9c6f764517f4e32a90e716e1bc764e0",
            "value": 571
          }
        },
        "86a02841d7e74b2b9500023072220c0a": {
          "model_module": "@jupyter-widgets/controls",
          "model_name": "HTMLModel",
          "model_module_version": "1.5.0",
          "state": {
            "_dom_classes": [],
            "_model_module": "@jupyter-widgets/controls",
            "_model_module_version": "1.5.0",
            "_model_name": "HTMLModel",
            "_view_count": null,
            "_view_module": "@jupyter-widgets/controls",
            "_view_module_version": "1.5.0",
            "_view_name": "HTMLView",
            "description": "",
            "description_tooltip": null,
            "layout": "IPY_MODEL_a82bdba4e23047999c97cda28ef622b8",
            "placeholder": "​",
            "style": "IPY_MODEL_073f5e12cf8f48fcbc7deb73bc07cfe0",
            "value": " 571/571 [00:00&lt;00:00, 58.7kB/s]"
          }
        },
        "f8cca702cf7d4d298b49a22d017d423c": {
          "model_module": "@jupyter-widgets/base",
          "model_name": "LayoutModel",
          "model_module_version": "1.2.0",
          "state": {
            "_model_module": "@jupyter-widgets/base",
            "_model_module_version": "1.2.0",
            "_model_name": "LayoutModel",
            "_view_count": null,
            "_view_module": "@jupyter-widgets/base",
            "_view_module_version": "1.2.0",
            "_view_name": "LayoutView",
            "align_content": null,
            "align_items": null,
            "align_self": null,
            "border": null,
            "bottom": null,
            "display": null,
            "flex": null,
            "flex_flow": null,
            "grid_area": null,
            "grid_auto_columns": null,
            "grid_auto_flow": null,
            "grid_auto_rows": null,
            "grid_column": null,
            "grid_gap": null,
            "grid_row": null,
            "grid_template_areas": null,
            "grid_template_columns": null,
            "grid_template_rows": null,
            "height": null,
            "justify_content": null,
            "justify_items": null,
            "left": null,
            "margin": null,
            "max_height": null,
            "max_width": null,
            "min_height": null,
            "min_width": null,
            "object_fit": null,
            "object_position": null,
            "order": null,
            "overflow": null,
            "overflow_x": null,
            "overflow_y": null,
            "padding": null,
            "right": null,
            "top": null,
            "visibility": null,
            "width": null
          }
        },
        "d51d8bc515da45a8ab8cf31b59eb7d71": {
          "model_module": "@jupyter-widgets/base",
          "model_name": "LayoutModel",
          "model_module_version": "1.2.0",
          "state": {
            "_model_module": "@jupyter-widgets/base",
            "_model_module_version": "1.2.0",
            "_model_name": "LayoutModel",
            "_view_count": null,
            "_view_module": "@jupyter-widgets/base",
            "_view_module_version": "1.2.0",
            "_view_name": "LayoutView",
            "align_content": null,
            "align_items": null,
            "align_self": null,
            "border": null,
            "bottom": null,
            "display": null,
            "flex": null,
            "flex_flow": null,
            "grid_area": null,
            "grid_auto_columns": null,
            "grid_auto_flow": null,
            "grid_auto_rows": null,
            "grid_column": null,
            "grid_gap": null,
            "grid_row": null,
            "grid_template_areas": null,
            "grid_template_columns": null,
            "grid_template_rows": null,
            "height": null,
            "justify_content": null,
            "justify_items": null,
            "left": null,
            "margin": null,
            "max_height": null,
            "max_width": null,
            "min_height": null,
            "min_width": null,
            "object_fit": null,
            "object_position": null,
            "order": null,
            "overflow": null,
            "overflow_x": null,
            "overflow_y": null,
            "padding": null,
            "right": null,
            "top": null,
            "visibility": null,
            "width": null
          }
        },
        "a7eee11f213a4e87b54b85f4a611278c": {
          "model_module": "@jupyter-widgets/controls",
          "model_name": "DescriptionStyleModel",
          "model_module_version": "1.5.0",
          "state": {
            "_model_module": "@jupyter-widgets/controls",
            "_model_module_version": "1.5.0",
            "_model_name": "DescriptionStyleModel",
            "_view_count": null,
            "_view_module": "@jupyter-widgets/base",
            "_view_module_version": "1.2.0",
            "_view_name": "StyleView",
            "description_width": ""
          }
        },
        "9c14b5bdbac04d939a33766f611115c1": {
          "model_module": "@jupyter-widgets/base",
          "model_name": "LayoutModel",
          "model_module_version": "1.2.0",
          "state": {
            "_model_module": "@jupyter-widgets/base",
            "_model_module_version": "1.2.0",
            "_model_name": "LayoutModel",
            "_view_count": null,
            "_view_module": "@jupyter-widgets/base",
            "_view_module_version": "1.2.0",
            "_view_name": "LayoutView",
            "align_content": null,
            "align_items": null,
            "align_self": null,
            "border": null,
            "bottom": null,
            "display": null,
            "flex": null,
            "flex_flow": null,
            "grid_area": null,
            "grid_auto_columns": null,
            "grid_auto_flow": null,
            "grid_auto_rows": null,
            "grid_column": null,
            "grid_gap": null,
            "grid_row": null,
            "grid_template_areas": null,
            "grid_template_columns": null,
            "grid_template_rows": null,
            "height": null,
            "justify_content": null,
            "justify_items": null,
            "left": null,
            "margin": null,
            "max_height": null,
            "max_width": null,
            "min_height": null,
            "min_width": null,
            "object_fit": null,
            "object_position": null,
            "order": null,
            "overflow": null,
            "overflow_x": null,
            "overflow_y": null,
            "padding": null,
            "right": null,
            "top": null,
            "visibility": null,
            "width": null
          }
        },
        "f9c6f764517f4e32a90e716e1bc764e0": {
          "model_module": "@jupyter-widgets/controls",
          "model_name": "ProgressStyleModel",
          "model_module_version": "1.5.0",
          "state": {
            "_model_module": "@jupyter-widgets/controls",
            "_model_module_version": "1.5.0",
            "_model_name": "ProgressStyleModel",
            "_view_count": null,
            "_view_module": "@jupyter-widgets/base",
            "_view_module_version": "1.2.0",
            "_view_name": "StyleView",
            "bar_color": null,
            "description_width": ""
          }
        },
        "a82bdba4e23047999c97cda28ef622b8": {
          "model_module": "@jupyter-widgets/base",
          "model_name": "LayoutModel",
          "model_module_version": "1.2.0",
          "state": {
            "_model_module": "@jupyter-widgets/base",
            "_model_module_version": "1.2.0",
            "_model_name": "LayoutModel",
            "_view_count": null,
            "_view_module": "@jupyter-widgets/base",
            "_view_module_version": "1.2.0",
            "_view_name": "LayoutView",
            "align_content": null,
            "align_items": null,
            "align_self": null,
            "border": null,
            "bottom": null,
            "display": null,
            "flex": null,
            "flex_flow": null,
            "grid_area": null,
            "grid_auto_columns": null,
            "grid_auto_flow": null,
            "grid_auto_rows": null,
            "grid_column": null,
            "grid_gap": null,
            "grid_row": null,
            "grid_template_areas": null,
            "grid_template_columns": null,
            "grid_template_rows": null,
            "height": null,
            "justify_content": null,
            "justify_items": null,
            "left": null,
            "margin": null,
            "max_height": null,
            "max_width": null,
            "min_height": null,
            "min_width": null,
            "object_fit": null,
            "object_position": null,
            "order": null,
            "overflow": null,
            "overflow_x": null,
            "overflow_y": null,
            "padding": null,
            "right": null,
            "top": null,
            "visibility": null,
            "width": null
          }
        },
        "073f5e12cf8f48fcbc7deb73bc07cfe0": {
          "model_module": "@jupyter-widgets/controls",
          "model_name": "DescriptionStyleModel",
          "model_module_version": "1.5.0",
          "state": {
            "_model_module": "@jupyter-widgets/controls",
            "_model_module_version": "1.5.0",
            "_model_name": "DescriptionStyleModel",
            "_view_count": null,
            "_view_module": "@jupyter-widgets/base",
            "_view_module_version": "1.2.0",
            "_view_name": "StyleView",
            "description_width": ""
          }
        },
        "9f205ea56d484225935afc11958ae012": {
          "model_module": "@jupyter-widgets/controls",
          "model_name": "HBoxModel",
          "model_module_version": "1.5.0",
          "state": {
            "_dom_classes": [],
            "_model_module": "@jupyter-widgets/controls",
            "_model_module_version": "1.5.0",
            "_model_name": "HBoxModel",
            "_view_count": null,
            "_view_module": "@jupyter-widgets/controls",
            "_view_module_version": "1.5.0",
            "_view_name": "HBoxView",
            "box_style": "",
            "children": [
              "IPY_MODEL_a29a1b70cc814fabbb8354745fdcd9d3",
              "IPY_MODEL_5fd8f4999d744b39bf6266340a95a6f6",
              "IPY_MODEL_530bea57b54446a5b1bb8b1b886a86be"
            ],
            "layout": "IPY_MODEL_5bc004027b08434c9d1e82ed6f1aabdb"
          }
        },
        "a29a1b70cc814fabbb8354745fdcd9d3": {
          "model_module": "@jupyter-widgets/controls",
          "model_name": "HTMLModel",
          "model_module_version": "1.5.0",
          "state": {
            "_dom_classes": [],
            "_model_module": "@jupyter-widgets/controls",
            "_model_module_version": "1.5.0",
            "_model_name": "HTMLModel",
            "_view_count": null,
            "_view_module": "@jupyter-widgets/controls",
            "_view_module_version": "1.5.0",
            "_view_name": "HTMLView",
            "description": "",
            "description_tooltip": null,
            "layout": "IPY_MODEL_93806564a9574226a5b5299dad203095",
            "placeholder": "​",
            "style": "IPY_MODEL_9527a813c8b14045b410559b95628f79",
            "value": "config.json: 100%"
          }
        },
        "5fd8f4999d744b39bf6266340a95a6f6": {
          "model_module": "@jupyter-widgets/controls",
          "model_name": "FloatProgressModel",
          "model_module_version": "1.5.0",
          "state": {
            "_dom_classes": [],
            "_model_module": "@jupyter-widgets/controls",
            "_model_module_version": "1.5.0",
            "_model_name": "FloatProgressModel",
            "_view_count": null,
            "_view_module": "@jupyter-widgets/controls",
            "_view_module_version": "1.5.0",
            "_view_name": "ProgressView",
            "bar_style": "success",
            "description": "",
            "description_tooltip": null,
            "layout": "IPY_MODEL_2fce2c89b384463ba9b655ee19d73e23",
            "max": 570,
            "min": 0,
            "orientation": "horizontal",
            "style": "IPY_MODEL_7e09cd58cbd94733acfa79d9077c0818",
            "value": 570
          }
        },
        "530bea57b54446a5b1bb8b1b886a86be": {
          "model_module": "@jupyter-widgets/controls",
          "model_name": "HTMLModel",
          "model_module_version": "1.5.0",
          "state": {
            "_dom_classes": [],
            "_model_module": "@jupyter-widgets/controls",
            "_model_module_version": "1.5.0",
            "_model_name": "HTMLModel",
            "_view_count": null,
            "_view_module": "@jupyter-widgets/controls",
            "_view_module_version": "1.5.0",
            "_view_name": "HTMLView",
            "description": "",
            "description_tooltip": null,
            "layout": "IPY_MODEL_d533dc4ad0c34fcca413f774136b2318",
            "placeholder": "​",
            "style": "IPY_MODEL_6b2ce27cd1d04cd89a51ee51d54d87d2",
            "value": " 570/570 [00:00&lt;00:00, 57.4kB/s]"
          }
        },
        "5bc004027b08434c9d1e82ed6f1aabdb": {
          "model_module": "@jupyter-widgets/base",
          "model_name": "LayoutModel",
          "model_module_version": "1.2.0",
          "state": {
            "_model_module": "@jupyter-widgets/base",
            "_model_module_version": "1.2.0",
            "_model_name": "LayoutModel",
            "_view_count": null,
            "_view_module": "@jupyter-widgets/base",
            "_view_module_version": "1.2.0",
            "_view_name": "LayoutView",
            "align_content": null,
            "align_items": null,
            "align_self": null,
            "border": null,
            "bottom": null,
            "display": null,
            "flex": null,
            "flex_flow": null,
            "grid_area": null,
            "grid_auto_columns": null,
            "grid_auto_flow": null,
            "grid_auto_rows": null,
            "grid_column": null,
            "grid_gap": null,
            "grid_row": null,
            "grid_template_areas": null,
            "grid_template_columns": null,
            "grid_template_rows": null,
            "height": null,
            "justify_content": null,
            "justify_items": null,
            "left": null,
            "margin": null,
            "max_height": null,
            "max_width": null,
            "min_height": null,
            "min_width": null,
            "object_fit": null,
            "object_position": null,
            "order": null,
            "overflow": null,
            "overflow_x": null,
            "overflow_y": null,
            "padding": null,
            "right": null,
            "top": null,
            "visibility": null,
            "width": null
          }
        },
        "93806564a9574226a5b5299dad203095": {
          "model_module": "@jupyter-widgets/base",
          "model_name": "LayoutModel",
          "model_module_version": "1.2.0",
          "state": {
            "_model_module": "@jupyter-widgets/base",
            "_model_module_version": "1.2.0",
            "_model_name": "LayoutModel",
            "_view_count": null,
            "_view_module": "@jupyter-widgets/base",
            "_view_module_version": "1.2.0",
            "_view_name": "LayoutView",
            "align_content": null,
            "align_items": null,
            "align_self": null,
            "border": null,
            "bottom": null,
            "display": null,
            "flex": null,
            "flex_flow": null,
            "grid_area": null,
            "grid_auto_columns": null,
            "grid_auto_flow": null,
            "grid_auto_rows": null,
            "grid_column": null,
            "grid_gap": null,
            "grid_row": null,
            "grid_template_areas": null,
            "grid_template_columns": null,
            "grid_template_rows": null,
            "height": null,
            "justify_content": null,
            "justify_items": null,
            "left": null,
            "margin": null,
            "max_height": null,
            "max_width": null,
            "min_height": null,
            "min_width": null,
            "object_fit": null,
            "object_position": null,
            "order": null,
            "overflow": null,
            "overflow_x": null,
            "overflow_y": null,
            "padding": null,
            "right": null,
            "top": null,
            "visibility": null,
            "width": null
          }
        },
        "9527a813c8b14045b410559b95628f79": {
          "model_module": "@jupyter-widgets/controls",
          "model_name": "DescriptionStyleModel",
          "model_module_version": "1.5.0",
          "state": {
            "_model_module": "@jupyter-widgets/controls",
            "_model_module_version": "1.5.0",
            "_model_name": "DescriptionStyleModel",
            "_view_count": null,
            "_view_module": "@jupyter-widgets/base",
            "_view_module_version": "1.2.0",
            "_view_name": "StyleView",
            "description_width": ""
          }
        },
        "2fce2c89b384463ba9b655ee19d73e23": {
          "model_module": "@jupyter-widgets/base",
          "model_name": "LayoutModel",
          "model_module_version": "1.2.0",
          "state": {
            "_model_module": "@jupyter-widgets/base",
            "_model_module_version": "1.2.0",
            "_model_name": "LayoutModel",
            "_view_count": null,
            "_view_module": "@jupyter-widgets/base",
            "_view_module_version": "1.2.0",
            "_view_name": "LayoutView",
            "align_content": null,
            "align_items": null,
            "align_self": null,
            "border": null,
            "bottom": null,
            "display": null,
            "flex": null,
            "flex_flow": null,
            "grid_area": null,
            "grid_auto_columns": null,
            "grid_auto_flow": null,
            "grid_auto_rows": null,
            "grid_column": null,
            "grid_gap": null,
            "grid_row": null,
            "grid_template_areas": null,
            "grid_template_columns": null,
            "grid_template_rows": null,
            "height": null,
            "justify_content": null,
            "justify_items": null,
            "left": null,
            "margin": null,
            "max_height": null,
            "max_width": null,
            "min_height": null,
            "min_width": null,
            "object_fit": null,
            "object_position": null,
            "order": null,
            "overflow": null,
            "overflow_x": null,
            "overflow_y": null,
            "padding": null,
            "right": null,
            "top": null,
            "visibility": null,
            "width": null
          }
        },
        "7e09cd58cbd94733acfa79d9077c0818": {
          "model_module": "@jupyter-widgets/controls",
          "model_name": "ProgressStyleModel",
          "model_module_version": "1.5.0",
          "state": {
            "_model_module": "@jupyter-widgets/controls",
            "_model_module_version": "1.5.0",
            "_model_name": "ProgressStyleModel",
            "_view_count": null,
            "_view_module": "@jupyter-widgets/base",
            "_view_module_version": "1.2.0",
            "_view_name": "StyleView",
            "bar_color": null,
            "description_width": ""
          }
        },
        "d533dc4ad0c34fcca413f774136b2318": {
          "model_module": "@jupyter-widgets/base",
          "model_name": "LayoutModel",
          "model_module_version": "1.2.0",
          "state": {
            "_model_module": "@jupyter-widgets/base",
            "_model_module_version": "1.2.0",
            "_model_name": "LayoutModel",
            "_view_count": null,
            "_view_module": "@jupyter-widgets/base",
            "_view_module_version": "1.2.0",
            "_view_name": "LayoutView",
            "align_content": null,
            "align_items": null,
            "align_self": null,
            "border": null,
            "bottom": null,
            "display": null,
            "flex": null,
            "flex_flow": null,
            "grid_area": null,
            "grid_auto_columns": null,
            "grid_auto_flow": null,
            "grid_auto_rows": null,
            "grid_column": null,
            "grid_gap": null,
            "grid_row": null,
            "grid_template_areas": null,
            "grid_template_columns": null,
            "grid_template_rows": null,
            "height": null,
            "justify_content": null,
            "justify_items": null,
            "left": null,
            "margin": null,
            "max_height": null,
            "max_width": null,
            "min_height": null,
            "min_width": null,
            "object_fit": null,
            "object_position": null,
            "order": null,
            "overflow": null,
            "overflow_x": null,
            "overflow_y": null,
            "padding": null,
            "right": null,
            "top": null,
            "visibility": null,
            "width": null
          }
        },
        "6b2ce27cd1d04cd89a51ee51d54d87d2": {
          "model_module": "@jupyter-widgets/controls",
          "model_name": "DescriptionStyleModel",
          "model_module_version": "1.5.0",
          "state": {
            "_model_module": "@jupyter-widgets/controls",
            "_model_module_version": "1.5.0",
            "_model_name": "DescriptionStyleModel",
            "_view_count": null,
            "_view_module": "@jupyter-widgets/base",
            "_view_module_version": "1.2.0",
            "_view_name": "StyleView",
            "description_width": ""
          }
        },
        "da49aecd0c0c4482a5ad3592d1ce53e1": {
          "model_module": "@jupyter-widgets/controls",
          "model_name": "HBoxModel",
          "model_module_version": "1.5.0",
          "state": {
            "_dom_classes": [],
            "_model_module": "@jupyter-widgets/controls",
            "_model_module_version": "1.5.0",
            "_model_name": "HBoxModel",
            "_view_count": null,
            "_view_module": "@jupyter-widgets/controls",
            "_view_module_version": "1.5.0",
            "_view_name": "HBoxView",
            "box_style": "",
            "children": [
              "IPY_MODEL_365dd1fd54d84dfb965249457a310e95",
              "IPY_MODEL_c7958749f5cf4250b88c85f1b900cef0",
              "IPY_MODEL_0e13cbede4164e2a865f68e807864b79"
            ],
            "layout": "IPY_MODEL_6b5c3fc1d8b74038a2c47f5ca1cec4fe"
          }
        },
        "365dd1fd54d84dfb965249457a310e95": {
          "model_module": "@jupyter-widgets/controls",
          "model_name": "HTMLModel",
          "model_module_version": "1.5.0",
          "state": {
            "_dom_classes": [],
            "_model_module": "@jupyter-widgets/controls",
            "_model_module_version": "1.5.0",
            "_model_name": "HTMLModel",
            "_view_count": null,
            "_view_module": "@jupyter-widgets/controls",
            "_view_module_version": "1.5.0",
            "_view_name": "HTMLView",
            "description": "",
            "description_tooltip": null,
            "layout": "IPY_MODEL_c0f046c281ec466abbea1ef2cbdedaa2",
            "placeholder": "​",
            "style": "IPY_MODEL_58f8d4af946b41d8ad99d42c36d01124",
            "value": "model.safetensors: 100%"
          }
        },
        "c7958749f5cf4250b88c85f1b900cef0": {
          "model_module": "@jupyter-widgets/controls",
          "model_name": "FloatProgressModel",
          "model_module_version": "1.5.0",
          "state": {
            "_dom_classes": [],
            "_model_module": "@jupyter-widgets/controls",
            "_model_module_version": "1.5.0",
            "_model_name": "FloatProgressModel",
            "_view_count": null,
            "_view_module": "@jupyter-widgets/controls",
            "_view_module_version": "1.5.0",
            "_view_name": "ProgressView",
            "bar_style": "success",
            "description": "",
            "description_tooltip": null,
            "layout": "IPY_MODEL_0a03ba217f294870b6d0061272a0b2a5",
            "max": 440449768,
            "min": 0,
            "orientation": "horizontal",
            "style": "IPY_MODEL_15c44c93cdad4fab9a1033393844dc4e",
            "value": 440449768
          }
        },
        "0e13cbede4164e2a865f68e807864b79": {
          "model_module": "@jupyter-widgets/controls",
          "model_name": "HTMLModel",
          "model_module_version": "1.5.0",
          "state": {
            "_dom_classes": [],
            "_model_module": "@jupyter-widgets/controls",
            "_model_module_version": "1.5.0",
            "_model_name": "HTMLModel",
            "_view_count": null,
            "_view_module": "@jupyter-widgets/controls",
            "_view_module_version": "1.5.0",
            "_view_name": "HTMLView",
            "description": "",
            "description_tooltip": null,
            "layout": "IPY_MODEL_804446e355fc4a31ade2522bfa6a0c7d",
            "placeholder": "​",
            "style": "IPY_MODEL_ff22dda4b3dc473fa57fd250e6cdaf87",
            "value": " 440M/440M [00:07&lt;00:00, 46.8MB/s]"
          }
        },
        "6b5c3fc1d8b74038a2c47f5ca1cec4fe": {
          "model_module": "@jupyter-widgets/base",
          "model_name": "LayoutModel",
          "model_module_version": "1.2.0",
          "state": {
            "_model_module": "@jupyter-widgets/base",
            "_model_module_version": "1.2.0",
            "_model_name": "LayoutModel",
            "_view_count": null,
            "_view_module": "@jupyter-widgets/base",
            "_view_module_version": "1.2.0",
            "_view_name": "LayoutView",
            "align_content": null,
            "align_items": null,
            "align_self": null,
            "border": null,
            "bottom": null,
            "display": null,
            "flex": null,
            "flex_flow": null,
            "grid_area": null,
            "grid_auto_columns": null,
            "grid_auto_flow": null,
            "grid_auto_rows": null,
            "grid_column": null,
            "grid_gap": null,
            "grid_row": null,
            "grid_template_areas": null,
            "grid_template_columns": null,
            "grid_template_rows": null,
            "height": null,
            "justify_content": null,
            "justify_items": null,
            "left": null,
            "margin": null,
            "max_height": null,
            "max_width": null,
            "min_height": null,
            "min_width": null,
            "object_fit": null,
            "object_position": null,
            "order": null,
            "overflow": null,
            "overflow_x": null,
            "overflow_y": null,
            "padding": null,
            "right": null,
            "top": null,
            "visibility": null,
            "width": null
          }
        },
        "c0f046c281ec466abbea1ef2cbdedaa2": {
          "model_module": "@jupyter-widgets/base",
          "model_name": "LayoutModel",
          "model_module_version": "1.2.0",
          "state": {
            "_model_module": "@jupyter-widgets/base",
            "_model_module_version": "1.2.0",
            "_model_name": "LayoutModel",
            "_view_count": null,
            "_view_module": "@jupyter-widgets/base",
            "_view_module_version": "1.2.0",
            "_view_name": "LayoutView",
            "align_content": null,
            "align_items": null,
            "align_self": null,
            "border": null,
            "bottom": null,
            "display": null,
            "flex": null,
            "flex_flow": null,
            "grid_area": null,
            "grid_auto_columns": null,
            "grid_auto_flow": null,
            "grid_auto_rows": null,
            "grid_column": null,
            "grid_gap": null,
            "grid_row": null,
            "grid_template_areas": null,
            "grid_template_columns": null,
            "grid_template_rows": null,
            "height": null,
            "justify_content": null,
            "justify_items": null,
            "left": null,
            "margin": null,
            "max_height": null,
            "max_width": null,
            "min_height": null,
            "min_width": null,
            "object_fit": null,
            "object_position": null,
            "order": null,
            "overflow": null,
            "overflow_x": null,
            "overflow_y": null,
            "padding": null,
            "right": null,
            "top": null,
            "visibility": null,
            "width": null
          }
        },
        "58f8d4af946b41d8ad99d42c36d01124": {
          "model_module": "@jupyter-widgets/controls",
          "model_name": "DescriptionStyleModel",
          "model_module_version": "1.5.0",
          "state": {
            "_model_module": "@jupyter-widgets/controls",
            "_model_module_version": "1.5.0",
            "_model_name": "DescriptionStyleModel",
            "_view_count": null,
            "_view_module": "@jupyter-widgets/base",
            "_view_module_version": "1.2.0",
            "_view_name": "StyleView",
            "description_width": ""
          }
        },
        "0a03ba217f294870b6d0061272a0b2a5": {
          "model_module": "@jupyter-widgets/base",
          "model_name": "LayoutModel",
          "model_module_version": "1.2.0",
          "state": {
            "_model_module": "@jupyter-widgets/base",
            "_model_module_version": "1.2.0",
            "_model_name": "LayoutModel",
            "_view_count": null,
            "_view_module": "@jupyter-widgets/base",
            "_view_module_version": "1.2.0",
            "_view_name": "LayoutView",
            "align_content": null,
            "align_items": null,
            "align_self": null,
            "border": null,
            "bottom": null,
            "display": null,
            "flex": null,
            "flex_flow": null,
            "grid_area": null,
            "grid_auto_columns": null,
            "grid_auto_flow": null,
            "grid_auto_rows": null,
            "grid_column": null,
            "grid_gap": null,
            "grid_row": null,
            "grid_template_areas": null,
            "grid_template_columns": null,
            "grid_template_rows": null,
            "height": null,
            "justify_content": null,
            "justify_items": null,
            "left": null,
            "margin": null,
            "max_height": null,
            "max_width": null,
            "min_height": null,
            "min_width": null,
            "object_fit": null,
            "object_position": null,
            "order": null,
            "overflow": null,
            "overflow_x": null,
            "overflow_y": null,
            "padding": null,
            "right": null,
            "top": null,
            "visibility": null,
            "width": null
          }
        },
        "15c44c93cdad4fab9a1033393844dc4e": {
          "model_module": "@jupyter-widgets/controls",
          "model_name": "ProgressStyleModel",
          "model_module_version": "1.5.0",
          "state": {
            "_model_module": "@jupyter-widgets/controls",
            "_model_module_version": "1.5.0",
            "_model_name": "ProgressStyleModel",
            "_view_count": null,
            "_view_module": "@jupyter-widgets/base",
            "_view_module_version": "1.2.0",
            "_view_name": "StyleView",
            "bar_color": null,
            "description_width": ""
          }
        },
        "804446e355fc4a31ade2522bfa6a0c7d": {
          "model_module": "@jupyter-widgets/base",
          "model_name": "LayoutModel",
          "model_module_version": "1.2.0",
          "state": {
            "_model_module": "@jupyter-widgets/base",
            "_model_module_version": "1.2.0",
            "_model_name": "LayoutModel",
            "_view_count": null,
            "_view_module": "@jupyter-widgets/base",
            "_view_module_version": "1.2.0",
            "_view_name": "LayoutView",
            "align_content": null,
            "align_items": null,
            "align_self": null,
            "border": null,
            "bottom": null,
            "display": null,
            "flex": null,
            "flex_flow": null,
            "grid_area": null,
            "grid_auto_columns": null,
            "grid_auto_flow": null,
            "grid_auto_rows": null,
            "grid_column": null,
            "grid_gap": null,
            "grid_row": null,
            "grid_template_areas": null,
            "grid_template_columns": null,
            "grid_template_rows": null,
            "height": null,
            "justify_content": null,
            "justify_items": null,
            "left": null,
            "margin": null,
            "max_height": null,
            "max_width": null,
            "min_height": null,
            "min_width": null,
            "object_fit": null,
            "object_position": null,
            "order": null,
            "overflow": null,
            "overflow_x": null,
            "overflow_y": null,
            "padding": null,
            "right": null,
            "top": null,
            "visibility": null,
            "width": null
          }
        },
        "ff22dda4b3dc473fa57fd250e6cdaf87": {
          "model_module": "@jupyter-widgets/controls",
          "model_name": "DescriptionStyleModel",
          "model_module_version": "1.5.0",
          "state": {
            "_model_module": "@jupyter-widgets/controls",
            "_model_module_version": "1.5.0",
            "_model_name": "DescriptionStyleModel",
            "_view_count": null,
            "_view_module": "@jupyter-widgets/base",
            "_view_module_version": "1.2.0",
            "_view_name": "StyleView",
            "description_width": ""
          }
        }
      }
    }
  },
  "cells": [
    {
      "cell_type": "markdown",
      "source": [
        "![Final-Fantasy-Logo-Featured.png](data:image/png;base64,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)"
      ],
      "metadata": {
        "id": "bMbybw7wRDB_"
      }
    },
    {
      "cell_type": "markdown",
      "source": [
        "# Section A:  Problem Description\n",
        "> What are we trying to do in this project?\n",
        "\n",
        "\n",
        "\n"
      ],
      "metadata": {
        "id": "J_gmiOBsMeeU"
      }
    },
    {
      "cell_type": "markdown",
      "source": [
        "***Users need more sophisticated ways to classify information for datasets that rely on more than just keywords, but can also use context clues. One new method introduced by our team is to evolve a language model that will be able to recognize more than just words, but also pick up on a character’s personality as well.***"
      ],
      "metadata": {
        "id": "98NWhfPEQIjM"
      }
    },
    {
      "cell_type": "markdown",
      "source": [
        "***Our objective with the project is to make a language model that is able to quickly and accurately predict what character a person is roleplaying as. We want the model to appear like it is able to identify not just words, but the personality of the characters.***"
      ],
      "metadata": {
        "id": "QlcrzxL0P9VD"
      }
    },
    {
      "cell_type": "markdown",
      "source": [
        "# Section B: Dataset Preparation\n",
        "> Provide a description of your data, print its dimension, visualize it if possible.\n",
        "\n"
      ],
      "metadata": {
        "id": "R_wSF0Y2M6DF"
      }
    },
    {
      "cell_type": "markdown",
      "source": [
        "***The dataset we are going to be using for this project is a compilation of character quotes, and dialogue scripts. We’ll use an online dataset that has a list of compiled dialogue from the series (bit.ly/3wdpYJj).\n",
        "At first this will be limited in scope in order to test how well the model is functioning, but once we have a solid foundation we can add more scripts and quotes to the training data in order to expand the list of possible characters for the user.***"
      ],
      "metadata": {
        "id": "4m4fDp2mQfSy"
      }
    },
    {
      "cell_type": "markdown",
      "source": [
        "We begin by importing the necesseties in order to run the model.\n",
        "After this, we then import the dataset that we are using."
      ],
      "metadata": {
        "id": "JssD6aKQIx9y"
      }
    },
    {
      "cell_type": "code",
      "source": [
        "!pip install accelerate -U\n",
        "!pip install transformers[torch] -U"
      ],
      "metadata": {
        "id": "5olTaDO-b86r",
        "colab": {
          "base_uri": "https://localhost:8080/"
        },
        "outputId": "248c9722-97de-4714-c58c-f6402b3ea8fa"
      },
      "execution_count": null,
      "outputs": [
        {
          "output_type": "stream",
          "name": "stdout",
          "text": [
            "Requirement already satisfied: accelerate in /usr/local/lib/python3.10/dist-packages (0.29.3)\n",
            "Requirement already satisfied: numpy>=1.17 in /usr/local/lib/python3.10/dist-packages (from accelerate) (1.25.2)\n",
            "Requirement already satisfied: packaging>=20.0 in /usr/local/lib/python3.10/dist-packages (from accelerate) (24.0)\n",
            "Requirement already satisfied: psutil in /usr/local/lib/python3.10/dist-packages (from accelerate) (5.9.5)\n",
            "Requirement already satisfied: pyyaml in /usr/local/lib/python3.10/dist-packages (from accelerate) (6.0.1)\n",
            "Requirement already satisfied: torch>=1.10.0 in /usr/local/lib/python3.10/dist-packages (from accelerate) (2.2.1+cu121)\n",
            "Requirement already satisfied: huggingface-hub in /usr/local/lib/python3.10/dist-packages (from accelerate) (0.20.3)\n",
            "Requirement already satisfied: safetensors>=0.3.1 in /usr/local/lib/python3.10/dist-packages (from accelerate) (0.4.2)\n",
            "Requirement already satisfied: filelock in /usr/local/lib/python3.10/dist-packages (from torch>=1.10.0->accelerate) (3.13.3)\n",
            "Requirement already satisfied: typing-extensions>=4.8.0 in /usr/local/lib/python3.10/dist-packages (from torch>=1.10.0->accelerate) (4.10.0)\n",
            "Requirement already satisfied: sympy in /usr/local/lib/python3.10/dist-packages (from torch>=1.10.0->accelerate) (1.12)\n",
            "Requirement already satisfied: networkx in /usr/local/lib/python3.10/dist-packages (from torch>=1.10.0->accelerate) (3.2.1)\n",
            "Requirement already satisfied: jinja2 in /usr/local/lib/python3.10/dist-packages (from torch>=1.10.0->accelerate) (3.1.3)\n",
            "Requirement already satisfied: fsspec in /usr/local/lib/python3.10/dist-packages (from torch>=1.10.0->accelerate) (2023.6.0)\n",
            "Requirement already satisfied: nvidia-cuda-nvrtc-cu12==12.1.105 in /usr/local/lib/python3.10/dist-packages (from torch>=1.10.0->accelerate) (12.1.105)\n",
            "Requirement already satisfied: nvidia-cuda-runtime-cu12==12.1.105 in /usr/local/lib/python3.10/dist-packages (from torch>=1.10.0->accelerate) (12.1.105)\n",
            "Requirement already satisfied: nvidia-cuda-cupti-cu12==12.1.105 in /usr/local/lib/python3.10/dist-packages (from torch>=1.10.0->accelerate) (12.1.105)\n",
            "Requirement already satisfied: nvidia-cudnn-cu12==8.9.2.26 in /usr/local/lib/python3.10/dist-packages (from torch>=1.10.0->accelerate) (8.9.2.26)\n",
            "Requirement already satisfied: nvidia-cublas-cu12==12.1.3.1 in /usr/local/lib/python3.10/dist-packages (from torch>=1.10.0->accelerate) (12.1.3.1)\n",
            "Requirement already satisfied: nvidia-cufft-cu12==11.0.2.54 in /usr/local/lib/python3.10/dist-packages (from torch>=1.10.0->accelerate) (11.0.2.54)\n",
            "Requirement already satisfied: nvidia-curand-cu12==10.3.2.106 in /usr/local/lib/python3.10/dist-packages (from torch>=1.10.0->accelerate) (10.3.2.106)\n",
            "Requirement already satisfied: nvidia-cusolver-cu12==11.4.5.107 in /usr/local/lib/python3.10/dist-packages (from torch>=1.10.0->accelerate) (11.4.5.107)\n",
            "Requirement already satisfied: nvidia-cusparse-cu12==12.1.0.106 in /usr/local/lib/python3.10/dist-packages (from torch>=1.10.0->accelerate) (12.1.0.106)\n",
            "Requirement already satisfied: nvidia-nccl-cu12==2.19.3 in /usr/local/lib/python3.10/dist-packages (from torch>=1.10.0->accelerate) (2.19.3)\n",
            "Requirement already satisfied: nvidia-nvtx-cu12==12.1.105 in /usr/local/lib/python3.10/dist-packages (from torch>=1.10.0->accelerate) (12.1.105)\n",
            "Requirement already satisfied: triton==2.2.0 in /usr/local/lib/python3.10/dist-packages (from torch>=1.10.0->accelerate) (2.2.0)\n",
            "Requirement already satisfied: nvidia-nvjitlink-cu12 in /usr/local/lib/python3.10/dist-packages (from nvidia-cusolver-cu12==11.4.5.107->torch>=1.10.0->accelerate) (12.4.127)\n",
            "Requirement already satisfied: requests in /usr/local/lib/python3.10/dist-packages (from huggingface-hub->accelerate) (2.31.0)\n",
            "Requirement already satisfied: tqdm>=4.42.1 in /usr/local/lib/python3.10/dist-packages (from huggingface-hub->accelerate) (4.66.2)\n",
            "Requirement already satisfied: MarkupSafe>=2.0 in /usr/local/lib/python3.10/dist-packages (from jinja2->torch>=1.10.0->accelerate) (2.1.5)\n",
            "Requirement already satisfied: charset-normalizer<4,>=2 in /usr/local/lib/python3.10/dist-packages (from requests->huggingface-hub->accelerate) (3.3.2)\n",
            "Requirement already satisfied: idna<4,>=2.5 in /usr/local/lib/python3.10/dist-packages (from requests->huggingface-hub->accelerate) (3.6)\n",
            "Requirement already satisfied: urllib3<3,>=1.21.1 in /usr/local/lib/python3.10/dist-packages (from requests->huggingface-hub->accelerate) (2.0.7)\n",
            "Requirement already satisfied: certifi>=2017.4.17 in /usr/local/lib/python3.10/dist-packages (from requests->huggingface-hub->accelerate) (2024.2.2)\n",
            "Requirement already satisfied: mpmath>=0.19 in /usr/local/lib/python3.10/dist-packages (from sympy->torch>=1.10.0->accelerate) (1.3.0)\n",
            "Requirement already satisfied: transformers[torch] in /usr/local/lib/python3.10/dist-packages (4.40.1)\n",
            "Requirement already satisfied: filelock in /usr/local/lib/python3.10/dist-packages (from transformers[torch]) (3.13.3)\n",
            "Requirement already satisfied: huggingface-hub<1.0,>=0.19.3 in /usr/local/lib/python3.10/dist-packages (from transformers[torch]) (0.20.3)\n",
            "Requirement already satisfied: numpy>=1.17 in /usr/local/lib/python3.10/dist-packages (from transformers[torch]) (1.25.2)\n",
            "Requirement already satisfied: packaging>=20.0 in /usr/local/lib/python3.10/dist-packages (from transformers[torch]) (24.0)\n",
            "Requirement already satisfied: pyyaml>=5.1 in /usr/local/lib/python3.10/dist-packages (from transformers[torch]) (6.0.1)\n",
            "Requirement already satisfied: regex!=2019.12.17 in /usr/local/lib/python3.10/dist-packages (from transformers[torch]) (2023.12.25)\n",
            "Requirement already satisfied: requests in /usr/local/lib/python3.10/dist-packages (from transformers[torch]) (2.31.0)\n",
            "Requirement already satisfied: tokenizers<0.20,>=0.19 in /usr/local/lib/python3.10/dist-packages (from transformers[torch]) (0.19.1)\n",
            "Requirement already satisfied: safetensors>=0.4.1 in /usr/local/lib/python3.10/dist-packages (from transformers[torch]) (0.4.2)\n",
            "Requirement already satisfied: tqdm>=4.27 in /usr/local/lib/python3.10/dist-packages (from transformers[torch]) (4.66.2)\n",
            "Requirement already satisfied: torch in /usr/local/lib/python3.10/dist-packages (from transformers[torch]) (2.2.1+cu121)\n",
            "Requirement already satisfied: accelerate>=0.21.0 in /usr/local/lib/python3.10/dist-packages (from transformers[torch]) (0.29.3)\n",
            "Requirement already satisfied: psutil in /usr/local/lib/python3.10/dist-packages (from accelerate>=0.21.0->transformers[torch]) (5.9.5)\n",
            "Requirement already satisfied: fsspec>=2023.5.0 in /usr/local/lib/python3.10/dist-packages (from huggingface-hub<1.0,>=0.19.3->transformers[torch]) (2023.6.0)\n",
            "Requirement already satisfied: typing-extensions>=3.7.4.3 in /usr/local/lib/python3.10/dist-packages (from huggingface-hub<1.0,>=0.19.3->transformers[torch]) (4.10.0)\n",
            "Requirement already satisfied: sympy in /usr/local/lib/python3.10/dist-packages (from torch->transformers[torch]) (1.12)\n",
            "Requirement already satisfied: networkx in /usr/local/lib/python3.10/dist-packages (from torch->transformers[torch]) (3.2.1)\n",
            "Requirement already satisfied: jinja2 in /usr/local/lib/python3.10/dist-packages (from torch->transformers[torch]) (3.1.3)\n",
            "Requirement already satisfied: nvidia-cuda-nvrtc-cu12==12.1.105 in /usr/local/lib/python3.10/dist-packages (from torch->transformers[torch]) (12.1.105)\n",
            "Requirement already satisfied: nvidia-cuda-runtime-cu12==12.1.105 in /usr/local/lib/python3.10/dist-packages (from torch->transformers[torch]) (12.1.105)\n",
            "Requirement already satisfied: nvidia-cuda-cupti-cu12==12.1.105 in /usr/local/lib/python3.10/dist-packages (from torch->transformers[torch]) (12.1.105)\n",
            "Requirement already satisfied: nvidia-cudnn-cu12==8.9.2.26 in /usr/local/lib/python3.10/dist-packages (from torch->transformers[torch]) (8.9.2.26)\n",
            "Requirement already satisfied: nvidia-cublas-cu12==12.1.3.1 in /usr/local/lib/python3.10/dist-packages (from torch->transformers[torch]) (12.1.3.1)\n",
            "Requirement already satisfied: nvidia-cufft-cu12==11.0.2.54 in /usr/local/lib/python3.10/dist-packages (from torch->transformers[torch]) (11.0.2.54)\n",
            "Requirement already satisfied: nvidia-curand-cu12==10.3.2.106 in /usr/local/lib/python3.10/dist-packages (from torch->transformers[torch]) (10.3.2.106)\n",
            "Requirement already satisfied: nvidia-cusolver-cu12==11.4.5.107 in /usr/local/lib/python3.10/dist-packages (from torch->transformers[torch]) (11.4.5.107)\n",
            "Requirement already satisfied: nvidia-cusparse-cu12==12.1.0.106 in /usr/local/lib/python3.10/dist-packages (from torch->transformers[torch]) (12.1.0.106)\n",
            "Requirement already satisfied: nvidia-nccl-cu12==2.19.3 in /usr/local/lib/python3.10/dist-packages (from torch->transformers[torch]) (2.19.3)\n",
            "Requirement already satisfied: nvidia-nvtx-cu12==12.1.105 in /usr/local/lib/python3.10/dist-packages (from torch->transformers[torch]) (12.1.105)\n",
            "Requirement already satisfied: triton==2.2.0 in /usr/local/lib/python3.10/dist-packages (from torch->transformers[torch]) (2.2.0)\n",
            "Requirement already satisfied: nvidia-nvjitlink-cu12 in /usr/local/lib/python3.10/dist-packages (from nvidia-cusolver-cu12==11.4.5.107->torch->transformers[torch]) (12.4.127)\n",
            "Requirement already satisfied: charset-normalizer<4,>=2 in /usr/local/lib/python3.10/dist-packages (from requests->transformers[torch]) (3.3.2)\n",
            "Requirement already satisfied: idna<4,>=2.5 in /usr/local/lib/python3.10/dist-packages (from requests->transformers[torch]) (3.6)\n",
            "Requirement already satisfied: urllib3<3,>=1.21.1 in /usr/local/lib/python3.10/dist-packages (from requests->transformers[torch]) (2.0.7)\n",
            "Requirement already satisfied: certifi>=2017.4.17 in /usr/local/lib/python3.10/dist-packages (from requests->transformers[torch]) (2024.2.2)\n",
            "Requirement already satisfied: MarkupSafe>=2.0 in /usr/local/lib/python3.10/dist-packages (from jinja2->torch->transformers[torch]) (2.1.5)\n",
            "Requirement already satisfied: mpmath>=0.19 in /usr/local/lib/python3.10/dist-packages (from sympy->torch->transformers[torch]) (1.3.0)\n"
          ]
        }
      ]
    },
    {
      "cell_type": "code",
      "source": [
        "import transformers\n",
        "import accelerate\n",
        "\n",
        "print(\"Transformers version:\", transformers.__version__)\n",
        "print(\"Accelerate version:\", accelerate.__version__)"
      ],
      "metadata": {
        "id": "71r-ewvrE9xK",
        "colab": {
          "base_uri": "https://localhost:8080/"
        },
        "outputId": "496d0166-4761-40f9-8424-97cb5cb62053"
      },
      "execution_count": null,
      "outputs": [
        {
          "output_type": "stream",
          "name": "stdout",
          "text": [
            "Transformers version: 4.40.1\n",
            "Accelerate version: 0.29.3\n"
          ]
        }
      ]
    },
    {
      "cell_type": "code",
      "source": [
        "import torch\n",
        "import os\n",
        "import pandas as pd\n",
        "from transformers import GPT2LMHeadModel\n",
        "from transformers import GPT2Tokenizer, Trainer, TrainingArguments,  pipeline, BertForSequenceClassification, BertTokenizerFast\n",
        "from huggingface_hub import notebook_login, HfApi, HfFolder\n",
        "from torch.utils.data import Dataset\n",
        "\n",
        "token = os.getenv('HF_TOKEN')\n",
        "if token is None:\n",
        "    print(\"Please set the HF_TOKEN environment variable.\")\n",
        "    notebook_login()\n",
        "else:\n",
        "    # Authenticate session\n",
        "    from huggingface_hub import HfFolder\n",
        "    HfFolder.save_token(token)\n",
        "\n",
        "api = HfApi()\n",
        "try:\n",
        "    user_models = api.list_models(use_auth_token=token)\n",
        "    model_list = list(user_models)  # Safely handle the generator\n",
        "    print(\"Authentication successful! Number of accessible models: \", len(model_list))\n",
        "except Exception as e:\n",
        "    print(\"Failed to authenticate or retrieve models:\", str(e))"
      ],
      "metadata": {
        "id": "Oy8KAq2DcPRs",
        "colab": {
          "base_uri": "https://localhost:8080/",
          "height": 423,
          "referenced_widgets": [
            "c0406709dc644ad68c428275a63d2c3b",
            "1090091656db47ec91b166e0aaf0267a",
            "ef072cd15d6147748b401fce350e3b2e",
            "34eadf866e6545a28293dae6e99190fa",
            "0012e6316dad4f09ae0596fddd2d483b",
            "f48095dc64a549e5bdfe62e215e23355",
            "494e9c05f5884b21ac4805745e82c608",
            "975f2e99f51e4542850ef8b2338e9dad",
            "c9964029b15844799421fe428a227b9a",
            "604eb1ed6e684a1ca3f71a317f5a2332",
            "737288acb1a24cf9b3f8776660d410e4",
            "bac8de55c01f45ceada97286d3da82ca",
            "6a16eff908d24e8a93f32864873f1fb1",
            "3ebbd565b9f24a6caa84cbbe486c075d",
            "7aeda740e6684a93988d1e5397a9d842",
            "e161aff3ff9a43d3a802d95e7f055063",
            "03a7f6b8863e43378e5cb06b670688dd"
          ]
        },
        "outputId": "6f70caca-fb02-4ae0-ff85-9d0aac902e03"
      },
      "execution_count": null,
      "outputs": [
        {
          "output_type": "stream",
          "name": "stdout",
          "text": [
            "Please set the HF_TOKEN environment variable.\n"
          ]
        },
        {
          "output_type": "display_data",
          "data": {
            "text/plain": [
              "VBox(children=(HTML(value='<center> <img\\nsrc=https://huggingface.co/front/assets/huggingface_logo-noborder.sv…"
            ],
            "application/vnd.jupyter.widget-view+json": {
              "version_major": 2,
              "version_minor": 0,
              "model_id": "c0406709dc644ad68c428275a63d2c3b"
            }
          },
          "metadata": {}
        },
        {
          "output_type": "stream",
          "name": "stdout",
          "text": [
            "Authentication successful! Number of accessible models:  618236\n"
          ]
        }
      ]
    },
    {
      "cell_type": "markdown",
      "source": [
        "# Section C: Model Training\n",
        ">Using Bert & GPT-2 to handle language input and classify characters based on dialogue dataset(s).\n"
      ],
      "metadata": {
        "id": "KJEByHRXKLG3"
      }
    },
    {
      "cell_type": "markdown",
      "source": [
        "#(Section C part 1) GPT2 Layer"
      ],
      "metadata": {
        "id": "AW6fiDsLIV3p"
      }
    },
    {
      "cell_type": "markdown",
      "source": [
        ">Using pretrained Transformer model from huggingFace before tuning."
      ],
      "metadata": {
        "id": "pW7o0JShd9TM"
      }
    },
    {
      "cell_type": "code",
      "source": [
        "model_name = 'gpt2'\n",
        "gptTokenizer = GPT2Tokenizer.from_pretrained(model_name)\n",
        "if gptTokenizer.pad_token is None:\n",
        "    gptTokenizer.pad_token = gptTokenizer.eos_token\n",
        "model = GPT2LMHeadModel.from_pretrained(model_name)"
      ],
      "metadata": {
        "id": "IzjIpVhidtz0"
      },
      "execution_count": null,
      "outputs": []
    },
    {
      "cell_type": "code",
      "source": [
        "df = pd.read_csv('ff7-simplified.csv')\n",
        "df['formatted_text'] = df['Character'] + \": \" + df['Dialogue']"
      ],
      "metadata": {
        "id": "N4PxmGAee4RA"
      },
      "execution_count": null,
      "outputs": []
    },
    {
      "cell_type": "code",
      "source": [
        "training_data = gptTokenizer(df['formatted_text'].tolist(), add_special_tokens=True, return_tensors='pt', max_length=512, padding=\"max_length\", truncation=True)\n"
      ],
      "metadata": {
        "id": "9l1cPRjBe8xL"
      },
      "execution_count": null,
      "outputs": []
    },
    {
      "cell_type": "code",
      "source": [
        "class CustomDataset(torch.utils.data.Dataset):\n",
        "    def __init__(self, encodings):\n",
        "        self.encodings = encodings\n",
        "\n",
        "    def __len__(self):\n",
        "        return len(self.encodings.input_ids)\n",
        "\n",
        "    def __getitem__(self, idx):\n",
        "        item = {key: val[idx].clone().detach() for key, val in self.encodings.items()}\n",
        "        item['labels'] = item['input_ids'].clone()\n",
        "        return item\n"
      ],
      "metadata": {
        "id": "jVQrP5LNfLPt"
      },
      "execution_count": null,
      "outputs": []
    },
    {
      "cell_type": "code",
      "source": [
        "dataset = CustomDataset(training_data)"
      ],
      "metadata": {
        "id": "fsmW-EalfNPs"
      },
      "execution_count": null,
      "outputs": []
    },
    {
      "cell_type": "code",
      "source": [
        "def calculate_perplexity(model, dataloader):\n",
        "    model.eval()  # Set the model to evaluation mode\n",
        "    total_loss = 0\n",
        "    with torch.no_grad():  # No need to track gradients for evaluation\n",
        "        for batch in dataloader:\n",
        "            # Move all tensors in the batch to the same device as the model\n",
        "            inputs = {k: v.to(model.device) for k, v in batch.items()}\n",
        "            outputs = model(input_ids=inputs['input_ids'], labels=inputs['labels'])\n",
        "            logits = outputs.logits\n",
        "            # Calculate the cross-entropy loss between the predictions and the labels\n",
        "            loss = torch.nn.functional.cross_entropy(logits.view(-1, logits.size(-1)), inputs['labels'].view(-1))\n",
        "            total_loss += loss.item()\n",
        "    # Calculate the average loss across all batches and exponentiate for perplexity\n",
        "    average_loss = total_loss / len(dataloader)\n",
        "    perplexity = torch.exp(torch.tensor(average_loss))\n",
        "    return perplexity"
      ],
      "metadata": {
        "id": "aiCl3nvl-wQ1"
      },
      "execution_count": null,
      "outputs": []
    },
    {
      "cell_type": "code",
      "source": [
        "\n",
        "training_args = TrainingArguments(\n",
        "    output_dir='./results',\n",
        "    num_train_epochs=2,\n",
        "    per_device_train_batch_size=16,\n",
        "    warmup_steps=500,\n",
        "    weight_decay=0.01,\n",
        "    logging_dir='./logs',\n",
        "    logging_steps=10\n",
        ")"
      ],
      "metadata": {
        "id": "_1IVmNY-ZFyM"
      },
      "execution_count": null,
      "outputs": []
    },
    {
      "cell_type": "code",
      "source": [
        "gptTrainer = Trainer(\n",
        "    model=model,\n",
        "    args=training_args,\n",
        "    train_dataset=dataset,\n",
        "    tokenizer=gptTokenizer\n",
        ")"
      ],
      "metadata": {
        "id": "UuRT2xQQZH2F"
      },
      "execution_count": null,
      "outputs": []
    },
    {
      "cell_type": "code",
      "source": [
        "gptTrainer.train()"
      ],
      "metadata": {
        "id": "QWXvkNMYfQu-",
        "colab": {
          "base_uri": "https://localhost:8080/",
          "height": 1000
        },
        "outputId": "1fdeb896-6832-4bf5-9130-95a2ac9d20f0"
      },
      "execution_count": null,
      "outputs": [
        {
          "output_type": "display_data",
          "data": {
            "text/plain": [
              "<IPython.core.display.HTML object>"
            ],
            "text/html": [
              "\n",
              "    <div>\n",
              "      \n",
              "      <progress value='586' max='586' style='width:300px; height:20px; vertical-align: middle;'></progress>\n",
              "      [586/586 3:53:24, Epoch 2/2]\n",
              "    </div>\n",
              "    <table border=\"1\" class=\"dataframe\">\n",
              "  <thead>\n",
              " <tr style=\"text-align: left;\">\n",
              "      <th>Step</th>\n",
              "      <th>Training Loss</th>\n",
              "    </tr>\n",
              "  </thead>\n",
              "  <tbody>\n",
              "    <tr>\n",
              "      <td>10</td>\n",
              "      <td>9.798200</td>\n",
              "    </tr>\n",
              "    <tr>\n",
              "      <td>20</td>\n",
              "      <td>8.914800</td>\n",
              "    </tr>\n",
              "    <tr>\n",
              "      <td>30</td>\n",
              "      <td>7.409400</td>\n",
              "    </tr>\n",
              "    <tr>\n",
              "      <td>40</td>\n",
              "      <td>5.360100</td>\n",
              "    </tr>\n",
              "    <tr>\n",
              "      <td>50</td>\n",
              "      <td>2.809700</td>\n",
              "    </tr>\n",
              "    <tr>\n",
              "      <td>60</td>\n",
              "      <td>0.848700</td>\n",
              "    </tr>\n",
              "    <tr>\n",
              "      <td>70</td>\n",
              "      <td>0.185400</td>\n",
              "    </tr>\n",
              "    <tr>\n",
              "      <td>80</td>\n",
              "      <td>0.120400</td>\n",
              "    </tr>\n",
              "    <tr>\n",
              "      <td>90</td>\n",
              "      <td>0.102200</td>\n",
              "    </tr>\n",
              "    <tr>\n",
              "      <td>100</td>\n",
              "      <td>0.095400</td>\n",
              "    </tr>\n",
              "    <tr>\n",
              "      <td>110</td>\n",
              "      <td>0.095300</td>\n",
              "    </tr>\n",
              "    <tr>\n",
              "      <td>120</td>\n",
              "      <td>0.090900</td>\n",
              "    </tr>\n",
              "    <tr>\n",
              "      <td>130</td>\n",
              "      <td>0.083400</td>\n",
              "    </tr>\n",
              "    <tr>\n",
              "      <td>140</td>\n",
              "      <td>0.078500</td>\n",
              "    </tr>\n",
              "    <tr>\n",
              "      <td>150</td>\n",
              "      <td>0.080600</td>\n",
              "    </tr>\n",
              "    <tr>\n",
              "      <td>160</td>\n",
              "      <td>0.076500</td>\n",
              "    </tr>\n",
              "    <tr>\n",
              "      <td>170</td>\n",
              "      <td>0.083500</td>\n",
              "    </tr>\n",
              "    <tr>\n",
              "      <td>180</td>\n",
              "      <td>0.080300</td>\n",
              "    </tr>\n",
              "    <tr>\n",
              "      <td>190</td>\n",
              "      <td>0.084500</td>\n",
              "    </tr>\n",
              "    <tr>\n",
              "      <td>200</td>\n",
              "      <td>0.080600</td>\n",
              "    </tr>\n",
              "    <tr>\n",
              "      <td>210</td>\n",
              "      <td>0.084300</td>\n",
              "    </tr>\n",
              "    <tr>\n",
              "      <td>220</td>\n",
              "      <td>0.075400</td>\n",
              "    </tr>\n",
              "    <tr>\n",
              "      <td>230</td>\n",
              "      <td>0.076300</td>\n",
              "    </tr>\n",
              "    <tr>\n",
              "      <td>240</td>\n",
              "      <td>0.065100</td>\n",
              "    </tr>\n",
              "    <tr>\n",
              "      <td>250</td>\n",
              "      <td>0.077900</td>\n",
              "    </tr>\n",
              "    <tr>\n",
              "      <td>260</td>\n",
              "      <td>0.071400</td>\n",
              "    </tr>\n",
              "    <tr>\n",
              "      <td>270</td>\n",
              "      <td>0.085100</td>\n",
              "    </tr>\n",
              "    <tr>\n",
              "      <td>280</td>\n",
              "      <td>0.074700</td>\n",
              "    </tr>\n",
              "    <tr>\n",
              "      <td>290</td>\n",
              "      <td>0.072200</td>\n",
              "    </tr>\n",
              "    <tr>\n",
              "      <td>300</td>\n",
              "      <td>0.068900</td>\n",
              "    </tr>\n",
              "    <tr>\n",
              "      <td>310</td>\n",
              "      <td>0.083600</td>\n",
              "    </tr>\n",
              "    <tr>\n",
              "      <td>320</td>\n",
              "      <td>0.074600</td>\n",
              "    </tr>\n",
              "    <tr>\n",
              "      <td>330</td>\n",
              "      <td>0.072700</td>\n",
              "    </tr>\n",
              "    <tr>\n",
              "      <td>340</td>\n",
              "      <td>0.083000</td>\n",
              "    </tr>\n",
              "    <tr>\n",
              "      <td>350</td>\n",
              "      <td>0.079000</td>\n",
              "    </tr>\n",
              "    <tr>\n",
              "      <td>360</td>\n",
              "      <td>0.072300</td>\n",
              "    </tr>\n",
              "    <tr>\n",
              "      <td>370</td>\n",
              "      <td>0.068400</td>\n",
              "    </tr>\n",
              "    <tr>\n",
              "      <td>380</td>\n",
              "      <td>0.070900</td>\n",
              "    </tr>\n",
              "    <tr>\n",
              "      <td>390</td>\n",
              "      <td>0.070500</td>\n",
              "    </tr>\n",
              "    <tr>\n",
              "      <td>400</td>\n",
              "      <td>0.068700</td>\n",
              "    </tr>\n",
              "    <tr>\n",
              "      <td>410</td>\n",
              "      <td>0.074400</td>\n",
              "    </tr>\n",
              "    <tr>\n",
              "      <td>420</td>\n",
              "      <td>0.071200</td>\n",
              "    </tr>\n",
              "    <tr>\n",
              "      <td>430</td>\n",
              "      <td>0.068800</td>\n",
              "    </tr>\n",
              "    <tr>\n",
              "      <td>440</td>\n",
              "      <td>0.068600</td>\n",
              "    </tr>\n",
              "    <tr>\n",
              "      <td>450</td>\n",
              "      <td>0.063400</td>\n",
              "    </tr>\n",
              "    <tr>\n",
              "      <td>460</td>\n",
              "      <td>0.065200</td>\n",
              "    </tr>\n",
              "    <tr>\n",
              "      <td>470</td>\n",
              "      <td>0.066800</td>\n",
              "    </tr>\n",
              "    <tr>\n",
              "      <td>480</td>\n",
              "      <td>0.063600</td>\n",
              "    </tr>\n",
              "    <tr>\n",
              "      <td>490</td>\n",
              "      <td>0.060700</td>\n",
              "    </tr>\n",
              "    <tr>\n",
              "      <td>500</td>\n",
              "      <td>0.077900</td>\n",
              "    </tr>\n",
              "    <tr>\n",
              "      <td>510</td>\n",
              "      <td>0.073900</td>\n",
              "    </tr>\n",
              "    <tr>\n",
              "      <td>520</td>\n",
              "      <td>0.083500</td>\n",
              "    </tr>\n",
              "    <tr>\n",
              "      <td>530</td>\n",
              "      <td>0.068700</td>\n",
              "    </tr>\n",
              "    <tr>\n",
              "      <td>540</td>\n",
              "      <td>0.069900</td>\n",
              "    </tr>\n",
              "    <tr>\n",
              "      <td>550</td>\n",
              "      <td>0.082400</td>\n",
              "    </tr>\n",
              "    <tr>\n",
              "      <td>560</td>\n",
              "      <td>0.072000</td>\n",
              "    </tr>\n",
              "    <tr>\n",
              "      <td>570</td>\n",
              "      <td>0.068900</td>\n",
              "    </tr>\n",
              "    <tr>\n",
              "      <td>580</td>\n",
              "      <td>0.078500</td>\n",
              "    </tr>\n",
              "  </tbody>\n",
              "</table><p>"
            ]
          },
          "metadata": {}
        },
        {
          "output_type": "execute_result",
          "data": {
            "text/plain": [
              "TrainOutput(global_step=586, training_loss=0.670611537052096, metrics={'train_runtime': 14027.1299, 'train_samples_per_second': 0.667, 'train_steps_per_second': 0.042, 'total_flos': 2444648251392000.0, 'train_loss': 0.670611537052096, 'epoch': 2.0})"
            ]
          },
          "metadata": {},
          "execution_count": 21
        }
      ]
    },
    {
      "cell_type": "code",
      "source": [
        "import matplotlib.pyplot as plt\n",
        "\n",
        "print(\"Starting perplexity calculation...\")\n",
        "def calculate_perplexity(model, dataloader):\n",
        "    print(\"Model set to eval mode.\")\n",
        "    model.eval()\n",
        "    total_loss = 0\n",
        "    print(\"Entering the loop over DataLoader...\")\n",
        "    with torch.no_grad():\n",
        "        for i, batch in enumerate(dataloader):\n",
        "            print(f\"Processing batch {i+1}/{len(dataloader)}\")\n",
        "            inputs = {k: v.to(model.device) for k, v in batch.items()}\n",
        "            outputs = model(input_ids=inputs['input_ids'], labels=inputs['labels'])\n",
        "            logits = outputs.logits\n",
        "            loss = torch.nn.functional.cross_entropy(logits.view(-1, logits.size(-1)), inputs['labels'].view(-1))\n",
        "            total_loss += loss.item()\n",
        "        average_loss = total_loss / len(dataloader)\n",
        "        perplexity = torch.exp(torch.tensor(average_loss))\n",
        "        print(f\"Calculated perplexity: {perplexity}\")\n",
        "        return perplexity"
      ],
      "metadata": {
        "id": "I9FnbddD3nKP",
        "colab": {
          "base_uri": "https://localhost:8080/"
        },
        "outputId": "35199c17-f529-45e8-9cba-9fb9373b9335"
      },
      "execution_count": null,
      "outputs": [
        {
          "output_type": "stream",
          "name": "stdout",
          "text": [
            "Starting perplexity calculation...\n"
          ]
        }
      ]
    },
    {
      "cell_type": "code",
      "source": [
        "# After training, calculate perplexity\n",
        "perplexity = calculate_perplexity(model, eval_loader)\n",
        "\n",
        "plt.figure(figsize=(6, 4))\n",
        "plt.bar(['Perplexity'], [perplexity.item()])  # Perplexity value as a bar chart\n",
        "plt.ylabel('Perplexity')\n",
        "plt.title('Model Perplexity')\n",
        "plt.ylim(top=perplexity.item() + 10)  # Adjust ylim according to the perplexity value for better visualization\n",
        "plt.show()"
      ],
      "metadata": {
        "id": "HJMPl4iy-1KF",
        "colab": {
          "base_uri": "https://localhost:8080/",
          "height": 214
        },
        "outputId": "25953639-7bc4-4f5c-cee1-346838627af7"
      },
      "execution_count": null,
      "outputs": [
        {
          "output_type": "error",
          "ename": "NameError",
          "evalue": "name 'eval_loader' is not defined",
          "traceback": [
            "\u001b[0;31m---------------------------------------------------------------------------\u001b[0m",
            "\u001b[0;31mNameError\u001b[0m                                 Traceback (most recent call last)",
            "\u001b[0;32m<ipython-input-23-70d9adb9439e>\u001b[0m in \u001b[0;36m<cell line: 2>\u001b[0;34m()\u001b[0m\n\u001b[1;32m      1\u001b[0m \u001b[0;31m# After training, calculate perplexity\u001b[0m\u001b[0;34m\u001b[0m\u001b[0;34m\u001b[0m\u001b[0m\n\u001b[0;32m----> 2\u001b[0;31m \u001b[0mperplexity\u001b[0m \u001b[0;34m=\u001b[0m \u001b[0mcalculate_perplexity\u001b[0m\u001b[0;34m(\u001b[0m\u001b[0mmodel\u001b[0m\u001b[0;34m,\u001b[0m \u001b[0meval_loader\u001b[0m\u001b[0;34m)\u001b[0m\u001b[0;34m\u001b[0m\u001b[0;34m\u001b[0m\u001b[0m\n\u001b[0m\u001b[1;32m      3\u001b[0m \u001b[0;34m\u001b[0m\u001b[0m\n\u001b[1;32m      4\u001b[0m \u001b[0mplt\u001b[0m\u001b[0;34m.\u001b[0m\u001b[0mfigure\u001b[0m\u001b[0;34m(\u001b[0m\u001b[0mfigsize\u001b[0m\u001b[0;34m=\u001b[0m\u001b[0;34m(\u001b[0m\u001b[0;36m6\u001b[0m\u001b[0;34m,\u001b[0m \u001b[0;36m4\u001b[0m\u001b[0;34m)\u001b[0m\u001b[0;34m)\u001b[0m\u001b[0;34m\u001b[0m\u001b[0;34m\u001b[0m\u001b[0m\n\u001b[1;32m      5\u001b[0m \u001b[0mplt\u001b[0m\u001b[0;34m.\u001b[0m\u001b[0mbar\u001b[0m\u001b[0;34m(\u001b[0m\u001b[0;34m[\u001b[0m\u001b[0;34m'Perplexity'\u001b[0m\u001b[0;34m]\u001b[0m\u001b[0;34m,\u001b[0m \u001b[0;34m[\u001b[0m\u001b[0mperplexity\u001b[0m\u001b[0;34m.\u001b[0m\u001b[0mitem\u001b[0m\u001b[0;34m(\u001b[0m\u001b[0;34m)\u001b[0m\u001b[0;34m]\u001b[0m\u001b[0;34m)\u001b[0m  \u001b[0;31m# Perplexity value as a bar chart\u001b[0m\u001b[0;34m\u001b[0m\u001b[0;34m\u001b[0m\u001b[0m\n",
            "\u001b[0;31mNameError\u001b[0m: name 'eval_loader' is not defined"
          ]
        }
      ]
    },
    {
      "cell_type": "markdown",
      "source": [
        "# (Section C part 2)Bert Layer"
      ],
      "metadata": {
        "id": "0UxPdVXWfSki"
      }
    },
    {
      "cell_type": "code",
      "source": [
        "file_path = 'ff7-simp\n",
        "lified.csv'\n",
        "df_org = pd.read_csv(file_path)\n",
        "df_org = df_org.sample(frac=1.0, random_state=42)\n",
        "df_org.head()"
      ],
      "metadata": {
        "colab": {
          "base_uri": "https://localhost:8080/",
          "height": 206
        },
        "id": "0Cr9DqEzUOor",
        "outputId": "580e2784-11bc-48fe-af07-f35903e0a9ca"
      },
      "execution_count": null,
      "outputs": [
        {
          "output_type": "execute_result",
          "data": {
            "text/plain": [
              "     Character                                           Dialogue\n",
              "2495     Cloud                                          You good?\n",
              "33      Barret                                    Say that again!\n",
              "3685    Barret                                               Huh?\n",
              "4382    Yuffie  did you say \"materia\"!? So...you're the Grandm...\n",
              "3485      Tifa    That one there—that's a Shinra truck, isn't it?"
            ],
            "text/html": [
              "\n",
              "  <div id=\"df-d0b0d092-fa23-4ad5-9b20-8bd80555f0a3\" class=\"colab-df-container\">\n",
              "    <div>\n",
              "<style scoped>\n",
              "    .dataframe tbody tr th:only-of-type {\n",
              "        vertical-align: middle;\n",
              "    }\n",
              "\n",
              "    .dataframe tbody tr th {\n",
              "        vertical-align: top;\n",
              "    }\n",
              "\n",
              "    .dataframe thead th {\n",
              "        text-align: right;\n",
              "    }\n",
              "</style>\n",
              "<table border=\"1\" class=\"dataframe\">\n",
              "  <thead>\n",
              "    <tr style=\"text-align: right;\">\n",
              "      <th></th>\n",
              "      <th>Character</th>\n",
              "      <th>Dialogue</th>\n",
              "    </tr>\n",
              "  </thead>\n",
              "  <tbody>\n",
              "    <tr>\n",
              "      <th>2495</th>\n",
              "      <td>Cloud</td>\n",
              "      <td>You good?</td>\n",
              "    </tr>\n",
              "    <tr>\n",
              "      <th>33</th>\n",
              "      <td>Barret</td>\n",
              "      <td>Say that again!</td>\n",
              "    </tr>\n",
              "    <tr>\n",
              "      <th>3685</th>\n",
              "      <td>Barret</td>\n",
              "      <td>Huh?</td>\n",
              "    </tr>\n",
              "    <tr>\n",
              "      <th>4382</th>\n",
              "      <td>Yuffie</td>\n",
              "      <td>did you say \"materia\"!? So...you're the Grandm...</td>\n",
              "    </tr>\n",
              "    <tr>\n",
              "      <th>3485</th>\n",
              "      <td>Tifa</td>\n",
              "      <td>That one there—that's a Shinra truck, isn't it?</td>\n",
              "    </tr>\n",
              "  </tbody>\n",
              "</table>\n",
              "</div>\n",
              "    <div class=\"colab-df-buttons\">\n",
              "\n",
              "  <div class=\"colab-df-container\">\n",
              "    <button class=\"colab-df-convert\" onclick=\"convertToInteractive('df-d0b0d092-fa23-4ad5-9b20-8bd80555f0a3')\"\n",
              "            title=\"Convert this dataframe to an interactive table.\"\n",
              "            style=\"display:none;\">\n",
              "\n",
              "  <svg xmlns=\"http://www.w3.org/2000/svg\" height=\"24px\" viewBox=\"0 -960 960 960\">\n",
              "    <path d=\"M120-120v-720h720v720H120Zm60-500h600v-160H180v160Zm220 220h160v-160H400v160Zm0 220h160v-160H400v160ZM180-400h160v-160H180v160Zm440 0h160v-160H620v160ZM180-180h160v-160H180v160Zm440 0h160v-160H620v160Z\"/>\n",
              "  </svg>\n",
              "    </button>\n",
              "\n",
              "  <style>\n",
              "    .colab-df-container {\n",
              "      display:flex;\n",
              "      gap: 12px;\n",
              "    }\n",
              "\n",
              "    .colab-df-convert {\n",
              "      background-color: #E8F0FE;\n",
              "      border: none;\n",
              "      border-radius: 50%;\n",
              "      cursor: pointer;\n",
              "      display: none;\n",
              "      fill: #1967D2;\n",
              "      height: 32px;\n",
              "      padding: 0 0 0 0;\n",
              "      width: 32px;\n",
              "    }\n",
              "\n",
              "    .colab-df-convert:hover {\n",
              "      background-color: #E2EBFA;\n",
              "      box-shadow: 0px 1px 2px rgba(60, 64, 67, 0.3), 0px 1px 3px 1px rgba(60, 64, 67, 0.15);\n",
              "      fill: #174EA6;\n",
              "    }\n",
              "\n",
              "    .colab-df-buttons div {\n",
              "      margin-bottom: 4px;\n",
              "    }\n",
              "\n",
              "    [theme=dark] .colab-df-convert {\n",
              "      background-color: #3B4455;\n",
              "      fill: #D2E3FC;\n",
              "    }\n",
              "\n",
              "    [theme=dark] .colab-df-convert:hover {\n",
              "      background-color: #434B5C;\n",
              "      box-shadow: 0px 1px 3px 1px rgba(0, 0, 0, 0.15);\n",
              "      filter: drop-shadow(0px 1px 2px rgba(0, 0, 0, 0.3));\n",
              "      fill: #FFFFFF;\n",
              "    }\n",
              "  </style>\n",
              "\n",
              "    <script>\n",
              "      const buttonEl =\n",
              "        document.querySelector('#df-d0b0d092-fa23-4ad5-9b20-8bd80555f0a3 button.colab-df-convert');\n",
              "      buttonEl.style.display =\n",
              "        google.colab.kernel.accessAllowed ? 'block' : 'none';\n",
              "\n",
              "      async function convertToInteractive(key) {\n",
              "        const element = document.querySelector('#df-d0b0d092-fa23-4ad5-9b20-8bd80555f0a3');\n",
              "        const dataTable =\n",
              "          await google.colab.kernel.invokeFunction('convertToInteractive',\n",
              "                                                    [key], {});\n",
              "        if (!dataTable) return;\n",
              "\n",
              "        const docLinkHtml = 'Like what you see? Visit the ' +\n",
              "          '<a target=\"_blank\" href=https://colab.research.google.com/notebooks/data_table.ipynb>data table notebook</a>'\n",
              "          + ' to learn more about interactive tables.';\n",
              "        element.innerHTML = '';\n",
              "        dataTable['output_type'] = 'display_data';\n",
              "        await google.colab.output.renderOutput(dataTable, element);\n",
              "        const docLink = document.createElement('div');\n",
              "        docLink.innerHTML = docLinkHtml;\n",
              "        element.appendChild(docLink);\n",
              "      }\n",
              "    </script>\n",
              "  </div>\n",
              "\n",
              "\n",
              "<div id=\"df-1e98632a-7da5-488a-887e-6d106775985d\">\n",
              "  <button class=\"colab-df-quickchart\" onclick=\"quickchart('df-1e98632a-7da5-488a-887e-6d106775985d')\"\n",
              "            title=\"Suggest charts\"\n",
              "            style=\"display:none;\">\n",
              "\n",
              "<svg xmlns=\"http://www.w3.org/2000/svg\" height=\"24px\"viewBox=\"0 0 24 24\"\n",
              "     width=\"24px\">\n",
              "    <g>\n",
              "        <path d=\"M19 3H5c-1.1 0-2 .9-2 2v14c0 1.1.9 2 2 2h14c1.1 0 2-.9 2-2V5c0-1.1-.9-2-2-2zM9 17H7v-7h2v7zm4 0h-2V7h2v10zm4 0h-2v-4h2v4z\"/>\n",
              "    </g>\n",
              "</svg>\n",
              "  </button>\n",
              "\n",
              "<style>\n",
              "  .colab-df-quickchart {\n",
              "      --bg-color: #E8F0FE;\n",
              "      --fill-color: #1967D2;\n",
              "      --hover-bg-color: #E2EBFA;\n",
              "      --hover-fill-color: #174EA6;\n",
              "      --disabled-fill-color: #AAA;\n",
              "      --disabled-bg-color: #DDD;\n",
              "  }\n",
              "\n",
              "  [theme=dark] .colab-df-quickchart {\n",
              "      --bg-color: #3B4455;\n",
              "      --fill-color: #D2E3FC;\n",
              "      --hover-bg-color: #434B5C;\n",
              "      --hover-fill-color: #FFFFFF;\n",
              "      --disabled-bg-color: #3B4455;\n",
              "      --disabled-fill-color: #666;\n",
              "  }\n",
              "\n",
              "  .colab-df-quickchart {\n",
              "    background-color: var(--bg-color);\n",
              "    border: none;\n",
              "    border-radius: 50%;\n",
              "    cursor: pointer;\n",
              "    display: none;\n",
              "    fill: var(--fill-color);\n",
              "    height: 32px;\n",
              "    padding: 0;\n",
              "    width: 32px;\n",
              "  }\n",
              "\n",
              "  .colab-df-quickchart:hover {\n",
              "    background-color: var(--hover-bg-color);\n",
              "    box-shadow: 0 1px 2px rgba(60, 64, 67, 0.3), 0 1px 3px 1px rgba(60, 64, 67, 0.15);\n",
              "    fill: var(--button-hover-fill-color);\n",
              "  }\n",
              "\n",
              "  .colab-df-quickchart-complete:disabled,\n",
              "  .colab-df-quickchart-complete:disabled:hover {\n",
              "    background-color: var(--disabled-bg-color);\n",
              "    fill: var(--disabled-fill-color);\n",
              "    box-shadow: none;\n",
              "  }\n",
              "\n",
              "  .colab-df-spinner {\n",
              "    border: 2px solid var(--fill-color);\n",
              "    border-color: transparent;\n",
              "    border-bottom-color: var(--fill-color);\n",
              "    animation:\n",
              "      spin 1s steps(1) infinite;\n",
              "  }\n",
              "\n",
              "  @keyframes spin {\n",
              "    0% {\n",
              "      border-color: transparent;\n",
              "      border-bottom-color: var(--fill-color);\n",
              "      border-left-color: var(--fill-color);\n",
              "    }\n",
              "    20% {\n",
              "      border-color: transparent;\n",
              "      border-left-color: var(--fill-color);\n",
              "      border-top-color: var(--fill-color);\n",
              "    }\n",
              "    30% {\n",
              "      border-color: transparent;\n",
              "      border-left-color: var(--fill-color);\n",
              "      border-top-color: var(--fill-color);\n",
              "      border-right-color: var(--fill-color);\n",
              "    }\n",
              "    40% {\n",
              "      border-color: transparent;\n",
              "      border-right-color: var(--fill-color);\n",
              "      border-top-color: var(--fill-color);\n",
              "    }\n",
              "    60% {\n",
              "      border-color: transparent;\n",
              "      border-right-color: var(--fill-color);\n",
              "    }\n",
              "    80% {\n",
              "      border-color: transparent;\n",
              "      border-right-color: var(--fill-color);\n",
              "      border-bottom-color: var(--fill-color);\n",
              "    }\n",
              "    90% {\n",
              "      border-color: transparent;\n",
              "      border-bottom-color: var(--fill-color);\n",
              "    }\n",
              "  }\n",
              "</style>\n",
              "\n",
              "  <script>\n",
              "    async function quickchart(key) {\n",
              "      const quickchartButtonEl =\n",
              "        document.querySelector('#' + key + ' button');\n",
              "      quickchartButtonEl.disabled = true;  // To prevent multiple clicks.\n",
              "      quickchartButtonEl.classList.add('colab-df-spinner');\n",
              "      try {\n",
              "        const charts = await google.colab.kernel.invokeFunction(\n",
              "            'suggestCharts', [key], {});\n",
              "      } catch (error) {\n",
              "        console.error('Error during call to suggestCharts:', error);\n",
              "      }\n",
              "      quickchartButtonEl.classList.remove('colab-df-spinner');\n",
              "      quickchartButtonEl.classList.add('colab-df-quickchart-complete');\n",
              "    }\n",
              "    (() => {\n",
              "      let quickchartButtonEl =\n",
              "        document.querySelector('#df-1e98632a-7da5-488a-887e-6d106775985d button');\n",
              "      quickchartButtonEl.style.display =\n",
              "        google.colab.kernel.accessAllowed ? 'block' : 'none';\n",
              "    })();\n",
              "  </script>\n",
              "</div>\n",
              "\n",
              "    </div>\n",
              "  </div>\n"
            ],
            "application/vnd.google.colaboratory.intrinsic+json": {
              "type": "dataframe",
              "variable_name": "df_org",
              "summary": "{\n  \"name\": \"df_org\",\n  \"rows\": 4678,\n  \"fields\": [\n    {\n      \"column\": \"Character\",\n      \"properties\": {\n        \"dtype\": \"category\",\n        \"num_unique_values\": 6,\n        \"samples\": [\n          \"Cloud\",\n          \"Barret\",\n          \"Sephiroth\"\n        ],\n        \"semantic_type\": \"\",\n        \"description\": \"\"\n      }\n    },\n    {\n      \"column\": \"Dialogue\",\n      \"properties\": {\n        \"dtype\": \"string\",\n        \"num_unique_values\": 4183,\n        \"samples\": [\n          \"Weird. They're not attacking.\",\n          \"Up for giving it a try? It might not work out, but it's the only idea I've got.\",\n          \"...That's right.\"\n        ],\n        \"semantic_type\": \"\",\n        \"description\": \"\"\n      }\n    }\n  ]\n}"
            }
          },
          "metadata": {},
          "execution_count": 24
        }
      ]
    },
    {
      "cell_type": "code",
      "source": [
        "labels=df_org['Character'].unique().tolist()\n",
        "labels=[s.strip() for s in labels]\n",
        "labels\n"
      ],
      "metadata": {
        "colab": {
          "base_uri": "https://localhost:8080/"
        },
        "id": "49GwitEUUig7",
        "outputId": "4376dda1-941c-47e3-d7ce-2ae376e88c01"
      },
      "execution_count": null,
      "outputs": [
        {
          "output_type": "execute_result",
          "data": {
            "text/plain": [
              "['Cloud', 'Barret', 'Yuffie', 'Tifa', 'Aerith', 'Sephiroth']"
            ]
          },
          "metadata": {},
          "execution_count": 25
        }
      ]
    },
    {
      "cell_type": "code",
      "source": [
        "for key, value in enumerate(labels):\n",
        "  print(value)"
      ],
      "metadata": {
        "colab": {
          "base_uri": "https://localhost:8080/"
        },
        "id": "B3b770GAUmbN",
        "outputId": "7bd5ab7f-3c52-44ca-e9fe-f404f79dbeca"
      },
      "execution_count": null,
      "outputs": [
        {
          "output_type": "stream",
          "name": "stdout",
          "text": [
            "Cloud\n",
            "Barret\n",
            "Yuffie\n",
            "Tifa\n",
            "Aerith\n",
            "Sephiroth\n"
          ]
        }
      ]
    },
    {
      "cell_type": "code",
      "source": [
        "NUM_LABELS=len(labels)\n",
        "id2label={id:label for id,label in enumerate(labels)}\n",
        "label2id={label:id for id,label in enumerate(labels)}"
      ],
      "metadata": {
        "id": "2RlVRpAwUrqD"
      },
      "execution_count": null,
      "outputs": []
    },
    {
      "cell_type": "code",
      "source": [
        "label2id"
      ],
      "metadata": {
        "colab": {
          "base_uri": "https://localhost:8080/"
        },
        "id": "TunvQ3-0U8RS",
        "outputId": "c4e0dc1a-1b76-490d-9b55-e630577bc6ce"
      },
      "execution_count": null,
      "outputs": [
        {
          "output_type": "execute_result",
          "data": {
            "text/plain": [
              "{'Cloud': 0, 'Barret': 1, 'Yuffie': 2, 'Tifa': 3, 'Aerith': 4, 'Sephiroth': 5}"
            ]
          },
          "metadata": {},
          "execution_count": 28
        }
      ]
    },
    {
      "cell_type": "code",
      "source": [
        "df_org[\"labels\"]=df_org.Character.map(lambda x: label2id[x.strip()])"
      ],
      "metadata": {
        "id": "kjosK-wuU93V"
      },
      "execution_count": null,
      "outputs": []
    },
    {
      "cell_type": "code",
      "source": [
        "df_org.head()"
      ],
      "metadata": {
        "colab": {
          "base_uri": "https://localhost:8080/",
          "height": 206
        },
        "id": "A_JYITg5U-9D",
        "outputId": "a6c45996-ccc7-4f80-988d-832ac76cda18"
      },
      "execution_count": null,
      "outputs": [
        {
          "output_type": "execute_result",
          "data": {
            "text/plain": [
              "     Character                                           Dialogue  labels\n",
              "2495     Cloud                                          You good?       0\n",
              "33      Barret                                    Say that again!       1\n",
              "3685    Barret                                               Huh?       1\n",
              "4382    Yuffie  did you say \"materia\"!? So...you're the Grandm...       2\n",
              "3485      Tifa    That one there—that's a Shinra truck, isn't it?       3"
            ],
            "text/html": [
              "\n",
              "  <div id=\"df-7d391038-76ea-4c87-9533-a0e08512d947\" class=\"colab-df-container\">\n",
              "    <div>\n",
              "<style scoped>\n",
              "    .dataframe tbody tr th:only-of-type {\n",
              "        vertical-align: middle;\n",
              "    }\n",
              "\n",
              "    .dataframe tbody tr th {\n",
              "        vertical-align: top;\n",
              "    }\n",
              "\n",
              "    .dataframe thead th {\n",
              "        text-align: right;\n",
              "    }\n",
              "</style>\n",
              "<table border=\"1\" class=\"dataframe\">\n",
              "  <thead>\n",
              "    <tr style=\"text-align: right;\">\n",
              "      <th></th>\n",
              "      <th>Character</th>\n",
              "      <th>Dialogue</th>\n",
              "      <th>labels</th>\n",
              "    </tr>\n",
              "  </thead>\n",
              "  <tbody>\n",
              "    <tr>\n",
              "      <th>2495</th>\n",
              "      <td>Cloud</td>\n",
              "      <td>You good?</td>\n",
              "      <td>0</td>\n",
              "    </tr>\n",
              "    <tr>\n",
              "      <th>33</th>\n",
              "      <td>Barret</td>\n",
              "      <td>Say that again!</td>\n",
              "      <td>1</td>\n",
              "    </tr>\n",
              "    <tr>\n",
              "      <th>3685</th>\n",
              "      <td>Barret</td>\n",
              "      <td>Huh?</td>\n",
              "      <td>1</td>\n",
              "    </tr>\n",
              "    <tr>\n",
              "      <th>4382</th>\n",
              "      <td>Yuffie</td>\n",
              "      <td>did you say \"materia\"!? So...you're the Grandm...</td>\n",
              "      <td>2</td>\n",
              "    </tr>\n",
              "    <tr>\n",
              "      <th>3485</th>\n",
              "      <td>Tifa</td>\n",
              "      <td>That one there—that's a Shinra truck, isn't it?</td>\n",
              "      <td>3</td>\n",
              "    </tr>\n",
              "  </tbody>\n",
              "</table>\n",
              "</div>\n",
              "    <div class=\"colab-df-buttons\">\n",
              "\n",
              "  <div class=\"colab-df-container\">\n",
              "    <button class=\"colab-df-convert\" onclick=\"convertToInteractive('df-7d391038-76ea-4c87-9533-a0e08512d947')\"\n",
              "            title=\"Convert this dataframe to an interactive table.\"\n",
              "            style=\"display:none;\">\n",
              "\n",
              "  <svg xmlns=\"http://www.w3.org/2000/svg\" height=\"24px\" viewBox=\"0 -960 960 960\">\n",
              "    <path d=\"M120-120v-720h720v720H120Zm60-500h600v-160H180v160Zm220 220h160v-160H400v160Zm0 220h160v-160H400v160ZM180-400h160v-160H180v160Zm440 0h160v-160H620v160ZM180-180h160v-160H180v160Zm440 0h160v-160H620v160Z\"/>\n",
              "  </svg>\n",
              "    </button>\n",
              "\n",
              "  <style>\n",
              "    .colab-df-container {\n",
              "      display:flex;\n",
              "      gap: 12px;\n",
              "    }\n",
              "\n",
              "    .colab-df-convert {\n",
              "      background-color: #E8F0FE;\n",
              "      border: none;\n",
              "      border-radius: 50%;\n",
              "      cursor: pointer;\n",
              "      display: none;\n",
              "      fill: #1967D2;\n",
              "      height: 32px;\n",
              "      padding: 0 0 0 0;\n",
              "      width: 32px;\n",
              "    }\n",
              "\n",
              "    .colab-df-convert:hover {\n",
              "      background-color: #E2EBFA;\n",
              "      box-shadow: 0px 1px 2px rgba(60, 64, 67, 0.3), 0px 1px 3px 1px rgba(60, 64, 67, 0.15);\n",
              "      fill: #174EA6;\n",
              "    }\n",
              "\n",
              "    .colab-df-buttons div {\n",
              "      margin-bottom: 4px;\n",
              "    }\n",
              "\n",
              "    [theme=dark] .colab-df-convert {\n",
              "      background-color: #3B4455;\n",
              "      fill: #D2E3FC;\n",
              "    }\n",
              "\n",
              "    [theme=dark] .colab-df-convert:hover {\n",
              "      background-color: #434B5C;\n",
              "      box-shadow: 0px 1px 3px 1px rgba(0, 0, 0, 0.15);\n",
              "      filter: drop-shadow(0px 1px 2px rgba(0, 0, 0, 0.3));\n",
              "      fill: #FFFFFF;\n",
              "    }\n",
              "  </style>\n",
              "\n",
              "    <script>\n",
              "      const buttonEl =\n",
              "        document.querySelector('#df-7d391038-76ea-4c87-9533-a0e08512d947 button.colab-df-convert');\n",
              "      buttonEl.style.display =\n",
              "        google.colab.kernel.accessAllowed ? 'block' : 'none';\n",
              "\n",
              "      async function convertToInteractive(key) {\n",
              "        const element = document.querySelector('#df-7d391038-76ea-4c87-9533-a0e08512d947');\n",
              "        const dataTable =\n",
              "          await google.colab.kernel.invokeFunction('convertToInteractive',\n",
              "                                                    [key], {});\n",
              "        if (!dataTable) return;\n",
              "\n",
              "        const docLinkHtml = 'Like what you see? Visit the ' +\n",
              "          '<a target=\"_blank\" href=https://colab.research.google.com/notebooks/data_table.ipynb>data table notebook</a>'\n",
              "          + ' to learn more about interactive tables.';\n",
              "        element.innerHTML = '';\n",
              "        dataTable['output_type'] = 'display_data';\n",
              "        await google.colab.output.renderOutput(dataTable, element);\n",
              "        const docLink = document.createElement('div');\n",
              "        docLink.innerHTML = docLinkHtml;\n",
              "        element.appendChild(docLink);\n",
              "      }\n",
              "    </script>\n",
              "  </div>\n",
              "\n",
              "\n",
              "<div id=\"df-9f231c50-7bfa-42ab-a972-a9ecca23fde9\">\n",
              "  <button class=\"colab-df-quickchart\" onclick=\"quickchart('df-9f231c50-7bfa-42ab-a972-a9ecca23fde9')\"\n",
              "            title=\"Suggest charts\"\n",
              "            style=\"display:none;\">\n",
              "\n",
              "<svg xmlns=\"http://www.w3.org/2000/svg\" height=\"24px\"viewBox=\"0 0 24 24\"\n",
              "     width=\"24px\">\n",
              "    <g>\n",
              "        <path d=\"M19 3H5c-1.1 0-2 .9-2 2v14c0 1.1.9 2 2 2h14c1.1 0 2-.9 2-2V5c0-1.1-.9-2-2-2zM9 17H7v-7h2v7zm4 0h-2V7h2v10zm4 0h-2v-4h2v4z\"/>\n",
              "    </g>\n",
              "</svg>\n",
              "  </button>\n",
              "\n",
              "<style>\n",
              "  .colab-df-quickchart {\n",
              "      --bg-color: #E8F0FE;\n",
              "      --fill-color: #1967D2;\n",
              "      --hover-bg-color: #E2EBFA;\n",
              "      --hover-fill-color: #174EA6;\n",
              "      --disabled-fill-color: #AAA;\n",
              "      --disabled-bg-color: #DDD;\n",
              "  }\n",
              "\n",
              "  [theme=dark] .colab-df-quickchart {\n",
              "      --bg-color: #3B4455;\n",
              "      --fill-color: #D2E3FC;\n",
              "      --hover-bg-color: #434B5C;\n",
              "      --hover-fill-color: #FFFFFF;\n",
              "      --disabled-bg-color: #3B4455;\n",
              "      --disabled-fill-color: #666;\n",
              "  }\n",
              "\n",
              "  .colab-df-quickchart {\n",
              "    background-color: var(--bg-color);\n",
              "    border: none;\n",
              "    border-radius: 50%;\n",
              "    cursor: pointer;\n",
              "    display: none;\n",
              "    fill: var(--fill-color);\n",
              "    height: 32px;\n",
              "    padding: 0;\n",
              "    width: 32px;\n",
              "  }\n",
              "\n",
              "  .colab-df-quickchart:hover {\n",
              "    background-color: var(--hover-bg-color);\n",
              "    box-shadow: 0 1px 2px rgba(60, 64, 67, 0.3), 0 1px 3px 1px rgba(60, 64, 67, 0.15);\n",
              "    fill: var(--button-hover-fill-color);\n",
              "  }\n",
              "\n",
              "  .colab-df-quickchart-complete:disabled,\n",
              "  .colab-df-quickchart-complete:disabled:hover {\n",
              "    background-color: var(--disabled-bg-color);\n",
              "    fill: var(--disabled-fill-color);\n",
              "    box-shadow: none;\n",
              "  }\n",
              "\n",
              "  .colab-df-spinner {\n",
              "    border: 2px solid var(--fill-color);\n",
              "    border-color: transparent;\n",
              "    border-bottom-color: var(--fill-color);\n",
              "    animation:\n",
              "      spin 1s steps(1) infinite;\n",
              "  }\n",
              "\n",
              "  @keyframes spin {\n",
              "    0% {\n",
              "      border-color: transparent;\n",
              "      border-bottom-color: var(--fill-color);\n",
              "      border-left-color: var(--fill-color);\n",
              "    }\n",
              "    20% {\n",
              "      border-color: transparent;\n",
              "      border-left-color: var(--fill-color);\n",
              "      border-top-color: var(--fill-color);\n",
              "    }\n",
              "    30% {\n",
              "      border-color: transparent;\n",
              "      border-left-color: var(--fill-color);\n",
              "      border-top-color: var(--fill-color);\n",
              "      border-right-color: var(--fill-color);\n",
              "    }\n",
              "    40% {\n",
              "      border-color: transparent;\n",
              "      border-right-color: var(--fill-color);\n",
              "      border-top-color: var(--fill-color);\n",
              "    }\n",
              "    60% {\n",
              "      border-color: transparent;\n",
              "      border-right-color: var(--fill-color);\n",
              "    }\n",
              "    80% {\n",
              "      border-color: transparent;\n",
              "      border-right-color: var(--fill-color);\n",
              "      border-bottom-color: var(--fill-color);\n",
              "    }\n",
              "    90% {\n",
              "      border-color: transparent;\n",
              "      border-bottom-color: var(--fill-color);\n",
              "    }\n",
              "  }\n",
              "</style>\n",
              "\n",
              "  <script>\n",
              "    async function quickchart(key) {\n",
              "      const quickchartButtonEl =\n",
              "        document.querySelector('#' + key + ' button');\n",
              "      quickchartButtonEl.disabled = true;  // To prevent multiple clicks.\n",
              "      quickchartButtonEl.classList.add('colab-df-spinner');\n",
              "      try {\n",
              "        const charts = await google.colab.kernel.invokeFunction(\n",
              "            'suggestCharts', [key], {});\n",
              "      } catch (error) {\n",
              "        console.error('Error during call to suggestCharts:', error);\n",
              "      }\n",
              "      quickchartButtonEl.classList.remove('colab-df-spinner');\n",
              "      quickchartButtonEl.classList.add('colab-df-quickchart-complete');\n",
              "    }\n",
              "    (() => {\n",
              "      let quickchartButtonEl =\n",
              "        document.querySelector('#df-9f231c50-7bfa-42ab-a972-a9ecca23fde9 button');\n",
              "      quickchartButtonEl.style.display =\n",
              "        google.colab.kernel.accessAllowed ? 'block' : 'none';\n",
              "    })();\n",
              "  </script>\n",
              "</div>\n",
              "\n",
              "    </div>\n",
              "  </div>\n"
            ],
            "application/vnd.google.colaboratory.intrinsic+json": {
              "type": "dataframe",
              "variable_name": "df_org",
              "summary": "{\n  \"name\": \"df_org\",\n  \"rows\": 4678,\n  \"fields\": [\n    {\n      \"column\": \"Character\",\n      \"properties\": {\n        \"dtype\": \"category\",\n        \"num_unique_values\": 6,\n        \"samples\": [\n          \"Cloud\",\n          \"Barret\",\n          \"Sephiroth\"\n        ],\n        \"semantic_type\": \"\",\n        \"description\": \"\"\n      }\n    },\n    {\n      \"column\": \"Dialogue\",\n      \"properties\": {\n        \"dtype\": \"string\",\n        \"num_unique_values\": 4183,\n        \"samples\": [\n          \"Weird. They're not attacking.\",\n          \"Up for giving it a try? It might not work out, but it's the only idea I've got.\",\n          \"...That's right.\"\n        ],\n        \"semantic_type\": \"\",\n        \"description\": \"\"\n      }\n    },\n    {\n      \"column\": \"labels\",\n      \"properties\": {\n        \"dtype\": \"number\",\n        \"std\": 1,\n        \"min\": 0,\n        \"max\": 5,\n        \"num_unique_values\": 6,\n        \"samples\": [\n          0,\n          1,\n          5\n        ],\n        \"semantic_type\": \"\",\n        \"description\": \"\"\n      }\n    }\n  ]\n}"
            }
          },
          "metadata": {},
          "execution_count": 30
        }
      ]
    },
    {
      "cell_type": "code",
      "source": [
        "df_org.Character.value_counts().plot(kind='pie', figsize=(8,8))"
      ],
      "metadata": {
        "colab": {
          "base_uri": "https://localhost:8080/",
          "height": 671
        },
        "id": "0ATaXuiEVARx",
        "outputId": "ad2de039-27a3-425a-e24a-6f5e9ab2f3d0"
      },
      "execution_count": null,
      "outputs": [
        {
          "output_type": "execute_result",
          "data": {
            "text/plain": [
              "<Axes: ylabel='Character'>"
            ]
          },
          "metadata": {},
          "execution_count": 31
        },
        {
          "output_type": "display_data",
          "data": {
            "text/plain": [
              "<Figure size 800x800 with 1 Axes>"
            ],
            "image/png": "[encoded data removed]"
          },
          "metadata": {}
        }
      ]
    },
    {
      "cell_type": "code",
      "source": [
        "bertTokenizer = BertTokenizerFast.from_pretrained('bert-large-uncased')"
      ],
      "metadata": {
        "id": "ApaEOpvZVCtl",
        "colab": {
          "base_uri": "https://localhost:8080/",
          "height": 145,
          "referenced_widgets": [
            "ee556bdd0c9f4d9d8c3b45736802557b",
            "a0e210e7418f4cb0960c52293fd74dcd",
            "a77b8be448634d37acfd19e06018d025",
            "c31ccfc0952a4eac8ef2fc63cf111217",
            "9987aa92653e4cebb2168c3521bd1535",
            "17678d91852b42dc96155adb579176ac",
            "2ba1c07796e94d469c3192d1b20538c5",
            "5c142147b42c445d8906e7293a5faba7",
            "5a71104e55d445fa94637218e0d3fc78",
            "11a0b3e5e4554aa99ba7bd8a7e5e0b2c",
            "84a6c241a9fd4bdabc860282cd550cc2",
            "bdff5e683a5f4cc3a63f93107018f7b8",
            "28cd576d9ffd49fd9b303541d10cf1cb",
            "4037ffb032fd4bda9f03776185b7551c",
            "e5e484814c194a86947cd5057dffd9ea",
            "f0b05964716c4d6ca956f6169595c021",
            "9965dcafbc1842a8aeae6bc2631e74b4",
            "427aeddd9c15445a9f390d1735e8a98a",
            "13cc391046f64499b8030c84c965515e",
            "ebf808ac7e2b4cad8a57b1c0b93f8a70",
            "b86108eb9e3c43b2a11b642c45851a1f",
            "36bfb83bd55a41eda33a3246ce405cbd",
            "58d387f06b864ec289f3113fe7c07aa2",
            "c07631c978fd439eae472a6e919f5bc1",
            "2678afd3bed440e593a2660e6019b4c7",
            "54a678585e3f49ef89ef3223bbbc048c",
            "b5d70c582c154cc0ad98525ad0549822",
            "4a039c78a8ab43ecb5cf84f906833d9c",
            "f5a601b5a16047ae8691a51550ea8742",
            "649ca1b5ec38411ab64d9dc7363507f0",
            "4122c105c008497689e8c62ee8e02181",
            "72313ca2c9e9489cae12c3b38fabb219",
            "5ecc06e575674e798bbe53b669562c9c",
            "6b6f85b98c3940f1abcc7bad3b5ce784",
            "472a2a6b938d464eae5a3c4f1cb69533",
            "8d70d37a2b544fe3ac2db4066736f853",
            "86a02841d7e74b2b9500023072220c0a",
            "f8cca702cf7d4d298b49a22d017d423c",
            "d51d8bc515da45a8ab8cf31b59eb7d71",
            "a7eee11f213a4e87b54b85f4a611278c",
            "9c14b5bdbac04d939a33766f611115c1",
            "f9c6f764517f4e32a90e716e1bc764e0",
            "a82bdba4e23047999c97cda28ef622b8",
            "073f5e12cf8f48fcbc7deb73bc07cfe0"
          ]
        },
        "outputId": "1b25538a-50fc-4efd-cd66-8704873ea10c"
      },
      "execution_count": null,
      "outputs": [
        {
          "output_type": "display_data",
          "data": {
            "text/plain": [
              "tokenizer_config.json:   0%|          | 0.00/48.0 [00:00<?, ?B/s]"
            ],
            "application/vnd.jupyter.widget-view+json": {
              "version_major": 2,
              "version_minor": 0,
              "model_id": "ee556bdd0c9f4d9d8c3b45736802557b"
            }
          },
          "metadata": {}
        },
        {
          "output_type": "display_data",
          "data": {
            "text/plain": [
              "vocab.txt:   0%|          | 0.00/232k [00:00<?, ?B/s]"
            ],
            "application/vnd.jupyter.widget-view+json": {
              "version_major": 2,
              "version_minor": 0,
              "model_id": "bdff5e683a5f4cc3a63f93107018f7b8"
            }
          },
          "metadata": {}
        },
        {
          "output_type": "display_data",
          "data": {
            "text/plain": [
              "tokenizer.json:   0%|          | 0.00/466k [00:00<?, ?B/s]"
            ],
            "application/vnd.jupyter.widget-view+json": {
              "version_major": 2,
              "version_minor": 0,
              "model_id": "58d387f06b864ec289f3113fe7c07aa2"
            }
          },
          "metadata": {}
        },
        {
          "output_type": "display_data",
          "data": {
            "text/plain": [
              "config.json:   0%|          | 0.00/571 [00:00<?, ?B/s]"
            ],
            "application/vnd.jupyter.widget-view+json": {
              "version_major": 2,
              "version_minor": 0,
              "model_id": "6b6f85b98c3940f1abcc7bad3b5ce784"
            }
          },
          "metadata": {}
        }
      ]
    },
    {
      "cell_type": "code",
      "source": [
        "model = BertForSequenceClassification.from_pretrained('bert-base-uncased', num_labels=NUM_LABELS, id2label=id2label, label2id=label2id)\n",
        "device = torch.device(\"cuda\" if torch.cuda.is_available() else \"cpu\")\n",
        "model.to(device)"
      ],
      "metadata": {
        "colab": {
          "base_uri": "https://localhost:8080/",
          "height": 934,
          "referenced_widgets": [
            "9f205ea56d484225935afc11958ae012",
            "a29a1b70cc814fabbb8354745fdcd9d3",
            "5fd8f4999d744b39bf6266340a95a6f6",
            "530bea57b54446a5b1bb8b1b886a86be",
            "5bc004027b08434c9d1e82ed6f1aabdb",
            "93806564a9574226a5b5299dad203095",
            "9527a813c8b14045b410559b95628f79",
            "2fce2c89b384463ba9b655ee19d73e23",
            "7e09cd58cbd94733acfa79d9077c0818",
            "d533dc4ad0c34fcca413f774136b2318",
            "6b2ce27cd1d04cd89a51ee51d54d87d2",
            "da49aecd0c0c4482a5ad3592d1ce53e1",
            "365dd1fd54d84dfb965249457a310e95",
            "c7958749f5cf4250b88c85f1b900cef0",
            "0e13cbede4164e2a865f68e807864b79",
            "6b5c3fc1d8b74038a2c47f5ca1cec4fe",
            "c0f046c281ec466abbea1ef2cbdedaa2",
            "58f8d4af946b41d8ad99d42c36d01124",
            "0a03ba217f294870b6d0061272a0b2a5",
            "15c44c93cdad4fab9a1033393844dc4e",
            "804446e355fc4a31ade2522bfa6a0c7d",
            "ff22dda4b3dc473fa57fd250e6cdaf87"
          ]
        },
        "id": "Km1jaNLiVIEZ",
        "outputId": "f83ae473-8fc1-4524-bb59-adc2da486e50"
      },
      "execution_count": null,
      "outputs": [
        {
          "output_type": "display_data",
          "data": {
            "text/plain": [
              "config.json:   0%|          | 0.00/570 [00:00<?, ?B/s]"
            ],
            "application/vnd.jupyter.widget-view+json": {
              "version_major": 2,
              "version_minor": 0,
              "model_id": "9f205ea56d484225935afc11958ae012"
            }
          },
          "metadata": {}
        },
        {
          "output_type": "display_data",
          "data": {
            "text/plain": [
              "model.safetensors:   0%|          | 0.00/440M [00:00<?, ?B/s]"
            ],
            "application/vnd.jupyter.widget-view+json": {
              "version_major": 2,
              "version_minor": 0,
              "model_id": "da49aecd0c0c4482a5ad3592d1ce53e1"
            }
          },
          "metadata": {}
        },
        {
          "output_type": "stream",
          "name": "stderr",
          "text": [
            "Some weights of BertForSequenceClassification were not initialized from the model checkpoint at bert-base-uncased and are newly initialized: ['classifier.bias', 'classifier.weight']\n",
            "You should probably TRAIN this model on a down-stream task to be able to use it for predictions and inference.\n"
          ]
        },
        {
          "output_type": "execute_result",
          "data": {
            "text/plain": [
              "BertForSequenceClassification(\n",
              "  (bert): BertModel(\n",
              "    (embeddings): BertEmbeddings(\n",
              "      (word_embeddings): Embedding(30522, 768, padding_idx=0)\n",
              "      (position_embeddings): Embedding(512, 768)\n",
              "      (token_type_embeddings): Embedding(2, 768)\n",
              "      (LayerNorm): LayerNorm((768,), eps=1e-12, elementwise_affine=True)\n",
              "      (dropout): Dropout(p=0.1, inplace=False)\n",
              "    )\n",
              "    (encoder): BertEncoder(\n",
              "      (layer): ModuleList(\n",
              "        (0-11): 12 x BertLayer(\n",
              "          (attention): BertAttention(\n",
              "            (self): BertSelfAttention(\n",
              "              (query): Linear(in_features=768, out_features=768, bias=True)\n",
              "              (key): Linear(in_features=768, out_features=768, bias=True)\n",
              "              (value): Linear(in_features=768, out_features=768, bias=True)\n",
              "              (dropout): Dropout(p=0.1, inplace=False)\n",
              "            )\n",
              "            (output): BertSelfOutput(\n",
              "              (dense): Linear(in_features=768, out_features=768, bias=True)\n",
              "              (LayerNorm): LayerNorm((768,), eps=1e-12, elementwise_affine=True)\n",
              "              (dropout): Dropout(p=0.1, inplace=False)\n",
              "            )\n",
              "          )\n",
              "          (intermediate): BertIntermediate(\n",
              "            (dense): Linear(in_features=768, out_features=3072, bias=True)\n",
              "            (intermediate_act_fn): GELUActivation()\n",
              "          )\n",
              "          (output): BertOutput(\n",
              "            (dense): Linear(in_features=3072, out_features=768, bias=True)\n",
              "            (LayerNorm): LayerNorm((768,), eps=1e-12, elementwise_affine=True)\n",
              "            (dropout): Dropout(p=0.1, inplace=False)\n",
              "          )\n",
              "        )\n",
              "      )\n",
              "    )\n",
              "    (pooler): BertPooler(\n",
              "      (dense): Linear(in_features=768, out_features=768, bias=True)\n",
              "      (activation): Tanh()\n",
              "    )\n",
              "  )\n",
              "  (dropout): Dropout(p=0.1, inplace=False)\n",
              "  (classifier): Linear(in_features=768, out_features=6, bias=True)\n",
              ")"
            ]
          },
          "metadata": {},
          "execution_count": 33
        }
      ]
    },
    {
      "cell_type": "code",
      "source": [
        "SIZE=df_org.shape[0]\n",
        "train_dialogue=list(df_org.Dialogue[:SIZE//2])\n",
        "val_dialogue=list(df_org.Dialogue[SIZE//2:(3*SIZE)//4 ])\n",
        "test_dialogue=list(df_org.Dialogue[(3*SIZE)//4:])\n",
        "train_labels=list(df_org.labels[:SIZE//2])\n",
        "val_labels=list(df_org.Dialogue[SIZE//2:(3*SIZE)//4 ])\n",
        "test_labels=list(df_org.Dialogue[(3*SIZE)//4:])"
      ],
      "metadata": {
        "id": "xf_JttZ3VKim"
      },
      "execution_count": null,
      "outputs": []
    },
    {
      "cell_type": "code",
      "source": [
        "len(train_dialogue), len(val_dialogue), len(test_dialogue)"
      ],
      "metadata": {
        "colab": {
          "base_uri": "https://localhost:8080/"
        },
        "id": "CQ1C_JGOVMit",
        "outputId": "afb9cac5-0c7f-4a4b-c430-78faf42b0713"
      },
      "execution_count": null,
      "outputs": [
        {
          "output_type": "execute_result",
          "data": {
            "text/plain": [
              "(2339, 1169, 1170)"
            ]
          },
          "metadata": {},
          "execution_count": 35
        }
      ]
    },
    {
      "cell_type": "code",
      "source": [
        "train_encodings = bertTokenizer(train_dialogue, truncation=True, padding=True)\n",
        "val_encodings = bertTokenizer(val_dialogue, truncation=True, padding=True)\n",
        "test_encodings = bertTokenizer(test_dialogue, truncation=True, padding=True)"
      ],
      "metadata": {
        "id": "s1dEEiAIVOUc"
      },
      "execution_count": null,
      "outputs": []
    },
    {
      "cell_type": "code",
      "source": [
        "from sklearn.preprocessing import LabelEncoder\n",
        "label_encoder = LabelEncoder()\n",
        "\n",
        "\n",
        "class DialogueDataset(Dataset):\n",
        "    def __init__(self, encodings, labels):\n",
        "        self.encodings = encodings\n",
        "        self.labels = labels\n",
        "        encoded_labels = label_encoder.fit_transform(self.labels)\n",
        "\n",
        "    def __getitem__(self, idx):\n",
        "      encoded_labels = label_encoder.fit_transform(self.labels)\n",
        "      item = {key: torch.tensor(val[idx]) for key, val in self.encodings.items()}\n",
        "      item['labels'] = torch.tensor(encoded_labels[idx])\n",
        "      return item\n",
        "\n",
        "    def __len__(self):\n",
        "        return len(self.labels)"
      ],
      "metadata": {
        "id": "p1LLWcnxVP80"
      },
      "execution_count": null,
      "outputs": []
    },
    {
      "cell_type": "code",
      "source": [
        "train_dataloader = DialogueDataset(train_encodings, train_labels)\n",
        "val_dataloader = DialogueDataset(val_encodings, val_labels)\n",
        "test_dataset = DialogueDataset(test_encodings, test_labels)"
      ],
      "metadata": {
        "id": "JVJm6AD9VSLd"
      },
      "execution_count": null,
      "outputs": []
    },
    {
      "cell_type": "code",
      "source": [
        "from transformers import TrainingArguments, Trainer\n",
        "from sklearn.metrics import accuracy_score, precision_recall_fscore_support\n",
        "!pip install transformers[torch]\n",
        "!pip install accelerate\n",
        "import accelerate\n",
        "print(accelerate.__version__)"
      ],
      "metadata": {
        "colab": {
          "base_uri": "https://localhost:8080/"
        },
        "id": "UdriQRSdVT4P",
        "outputId": "b25162a0-0b00-4b87-f40c-3ac0bd2885bd"
      },
      "execution_count": null,
      "outputs": [
        {
          "output_type": "stream",
          "name": "stdout",
          "text": [
            "Requirement already satisfied: transformers[torch] in /usr/local/lib/python3.10/dist-packages (4.40.1)\n",
            "Requirement already satisfied: filelock in /usr/local/lib/python3.10/dist-packages (from transformers[torch]) (3.13.3)\n",
            "Requirement already satisfied: huggingface-hub<1.0,>=0.19.3 in /usr/local/lib/python3.10/dist-packages (from transformers[torch]) (0.20.3)\n",
            "Requirement already satisfied: numpy>=1.17 in /usr/local/lib/python3.10/dist-packages (from transformers[torch]) (1.25.2)\n",
            "Requirement already satisfied: packaging>=20.0 in /usr/local/lib/python3.10/dist-packages (from transformers[torch]) (24.0)\n",
            "Requirement already satisfied: pyyaml>=5.1 in /usr/local/lib/python3.10/dist-packages (from transformers[torch]) (6.0.1)\n",
            "Requirement already satisfied: regex!=2019.12.17 in /usr/local/lib/python3.10/dist-packages (from transformers[torch]) (2023.12.25)\n",
            "Requirement already satisfied: requests in /usr/local/lib/python3.10/dist-packages (from transformers[torch]) (2.31.0)\n",
            "Requirement already satisfied: tokenizers<0.20,>=0.19 in /usr/local/lib/python3.10/dist-packages (from transformers[torch]) (0.19.1)\n",
            "Requirement already satisfied: safetensors>=0.4.1 in /usr/local/lib/python3.10/dist-packages (from transformers[torch]) (0.4.2)\n",
            "Requirement already satisfied: tqdm>=4.27 in /usr/local/lib/python3.10/dist-packages (from transformers[torch]) (4.66.2)\n",
            "Requirement already satisfied: torch in /usr/local/lib/python3.10/dist-packages (from transformers[torch]) (2.2.1+cu121)\n",
            "Requirement already satisfied: accelerate>=0.21.0 in /usr/local/lib/python3.10/dist-packages (from transformers[torch]) (0.29.3)\n",
            "Requirement already satisfied: psutil in /usr/local/lib/python3.10/dist-packages (from accelerate>=0.21.0->transformers[torch]) (5.9.5)\n",
            "Requirement already satisfied: fsspec>=2023.5.0 in /usr/local/lib/python3.10/dist-packages (from huggingface-hub<1.0,>=0.19.3->transformers[torch]) (2023.6.0)\n",
            "Requirement already satisfied: typing-extensions>=3.7.4.3 in /usr/local/lib/python3.10/dist-packages (from huggingface-hub<1.0,>=0.19.3->transformers[torch]) (4.10.0)\n",
            "Requirement already satisfied: sympy in /usr/local/lib/python3.10/dist-packages (from torch->transformers[torch]) (1.12)\n",
            "Requirement already satisfied: networkx in /usr/local/lib/python3.10/dist-packages (from torch->transformers[torch]) (3.2.1)\n",
            "Requirement already satisfied: jinja2 in /usr/local/lib/python3.10/dist-packages (from torch->transformers[torch]) (3.1.3)\n",
            "Requirement already satisfied: nvidia-cuda-nvrtc-cu12==12.1.105 in /usr/local/lib/python3.10/dist-packages (from torch->transformers[torch]) (12.1.105)\n",
            "Requirement already satisfied: nvidia-cuda-runtime-cu12==12.1.105 in /usr/local/lib/python3.10/dist-packages (from torch->transformers[torch]) (12.1.105)\n",
            "Requirement already satisfied: nvidia-cuda-cupti-cu12==12.1.105 in /usr/local/lib/python3.10/dist-packages (from torch->transformers[torch]) (12.1.105)\n",
            "Requirement already satisfied: nvidia-cudnn-cu12==8.9.2.26 in /usr/local/lib/python3.10/dist-packages (from torch->transformers[torch]) (8.9.2.26)\n",
            "Requirement already satisfied: nvidia-cublas-cu12==12.1.3.1 in /usr/local/lib/python3.10/dist-packages (from torch->transformers[torch]) (12.1.3.1)\n",
            "Requirement already satisfied: nvidia-cufft-cu12==11.0.2.54 in /usr/local/lib/python3.10/dist-packages (from torch->transformers[torch]) (11.0.2.54)\n",
            "Requirement already satisfied: nvidia-curand-cu12==10.3.2.106 in /usr/local/lib/python3.10/dist-packages (from torch->transformers[torch]) (10.3.2.106)\n",
            "Requirement already satisfied: nvidia-cusolver-cu12==11.4.5.107 in /usr/local/lib/python3.10/dist-packages (from torch->transformers[torch]) (11.4.5.107)\n",
            "Requirement already satisfied: nvidia-cusparse-cu12==12.1.0.106 in /usr/local/lib/python3.10/dist-packages (from torch->transformers[torch]) (12.1.0.106)\n",
            "Requirement already satisfied: nvidia-nccl-cu12==2.19.3 in /usr/local/lib/python3.10/dist-packages (from torch->transformers[torch]) (2.19.3)\n",
            "Requirement already satisfied: nvidia-nvtx-cu12==12.1.105 in /usr/local/lib/python3.10/dist-packages (from torch->transformers[torch]) (12.1.105)\n",
            "Requirement already satisfied: triton==2.2.0 in /usr/local/lib/python3.10/dist-packages (from torch->transformers[torch]) (2.2.0)\n",
            "Requirement already satisfied: nvidia-nvjitlink-cu12 in /usr/local/lib/python3.10/dist-packages (from nvidia-cusolver-cu12==11.4.5.107->torch->transformers[torch]) (12.4.127)\n",
            "Requirement already satisfied: charset-normalizer<4,>=2 in /usr/local/lib/python3.10/dist-packages (from requests->transformers[torch]) (3.3.2)\n",
            "Requirement already satisfied: idna<4,>=2.5 in /usr/local/lib/python3.10/dist-packages (from requests->transformers[torch]) (3.6)\n",
            "Requirement already satisfied: urllib3<3,>=1.21.1 in /usr/local/lib/python3.10/dist-packages (from requests->transformers[torch]) (2.0.7)\n",
            "Requirement already satisfied: certifi>=2017.4.17 in /usr/local/lib/python3.10/dist-packages (from requests->transformers[torch]) (2024.2.2)\n",
            "Requirement already satisfied: MarkupSafe>=2.0 in /usr/local/lib/python3.10/dist-packages (from jinja2->torch->transformers[torch]) (2.1.5)\n",
            "Requirement already satisfied: mpmath>=0.19 in /usr/local/lib/python3.10/dist-packages (from sympy->torch->transformers[torch]) (1.3.0)\n",
            "Requirement already satisfied: accelerate in /usr/local/lib/python3.10/dist-packages (0.29.3)\n",
            "Requirement already satisfied: numpy>=1.17 in /usr/local/lib/python3.10/dist-packages (from accelerate) (1.25.2)\n",
            "Requirement already satisfied: packaging>=20.0 in /usr/local/lib/python3.10/dist-packages (from accelerate) (24.0)\n",
            "Requirement already satisfied: psutil in /usr/local/lib/python3.10/dist-packages (from accelerate) (5.9.5)\n",
            "Requirement already satisfied: pyyaml in /usr/local/lib/python3.10/dist-packages (from accelerate) (6.0.1)\n",
            "Requirement already satisfied: torch>=1.10.0 in /usr/local/lib/python3.10/dist-packages (from accelerate) (2.2.1+cu121)\n",
            "Requirement already satisfied: huggingface-hub in /usr/local/lib/python3.10/dist-packages (from accelerate) (0.20.3)\n",
            "Requirement already satisfied: safetensors>=0.3.1 in /usr/local/lib/python3.10/dist-packages (from accelerate) (0.4.2)\n",
            "Requirement already satisfied: filelock in /usr/local/lib/python3.10/dist-packages (from torch>=1.10.0->accelerate) (3.13.3)\n",
            "Requirement already satisfied: typing-extensions>=4.8.0 in /usr/local/lib/python3.10/dist-packages (from torch>=1.10.0->accelerate) (4.10.0)\n",
            "Requirement already satisfied: sympy in /usr/local/lib/python3.10/dist-packages (from torch>=1.10.0->accelerate) (1.12)\n",
            "Requirement already satisfied: networkx in /usr/local/lib/python3.10/dist-packages (from torch>=1.10.0->accelerate) (3.2.1)\n",
            "Requirement already satisfied: jinja2 in /usr/local/lib/python3.10/dist-packages (from torch>=1.10.0->accelerate) (3.1.3)\n",
            "Requirement already satisfied: fsspec in /usr/local/lib/python3.10/dist-packages (from torch>=1.10.0->accelerate) (2023.6.0)\n",
            "Requirement already satisfied: nvidia-cuda-nvrtc-cu12==12.1.105 in /usr/local/lib/python3.10/dist-packages (from torch>=1.10.0->accelerate) (12.1.105)\n",
            "Requirement already satisfied: nvidia-cuda-runtime-cu12==12.1.105 in /usr/local/lib/python3.10/dist-packages (from torch>=1.10.0->accelerate) (12.1.105)\n",
            "Requirement already satisfied: nvidia-cuda-cupti-cu12==12.1.105 in /usr/local/lib/python3.10/dist-packages (from torch>=1.10.0->accelerate) (12.1.105)\n",
            "Requirement already satisfied: nvidia-cudnn-cu12==8.9.2.26 in /usr/local/lib/python3.10/dist-packages (from torch>=1.10.0->accelerate) (8.9.2.26)\n",
            "Requirement already satisfied: nvidia-cublas-cu12==12.1.3.1 in /usr/local/lib/python3.10/dist-packages (from torch>=1.10.0->accelerate) (12.1.3.1)\n",
            "Requirement already satisfied: nvidia-cufft-cu12==11.0.2.54 in /usr/local/lib/python3.10/dist-packages (from torch>=1.10.0->accelerate) (11.0.2.54)\n",
            "Requirement already satisfied: nvidia-curand-cu12==10.3.2.106 in /usr/local/lib/python3.10/dist-packages (from torch>=1.10.0->accelerate) (10.3.2.106)\n",
            "Requirement already satisfied: nvidia-cusolver-cu12==11.4.5.107 in /usr/local/lib/python3.10/dist-packages (from torch>=1.10.0->accelerate) (11.4.5.107)\n",
            "Requirement already satisfied: nvidia-cusparse-cu12==12.1.0.106 in /usr/local/lib/python3.10/dist-packages (from torch>=1.10.0->accelerate) (12.1.0.106)\n",
            "Requirement already satisfied: nvidia-nccl-cu12==2.19.3 in /usr/local/lib/python3.10/dist-packages (from torch>=1.10.0->accelerate) (2.19.3)\n",
            "Requirement already satisfied: nvidia-nvtx-cu12==12.1.105 in /usr/local/lib/python3.10/dist-packages (from torch>=1.10.0->accelerate) (12.1.105)\n",
            "Requirement already satisfied: triton==2.2.0 in /usr/local/lib/python3.10/dist-packages (from torch>=1.10.0->accelerate) (2.2.0)\n",
            "Requirement already satisfied: nvidia-nvjitlink-cu12 in /usr/local/lib/python3.10/dist-packages (from nvidia-cusolver-cu12==11.4.5.107->torch>=1.10.0->accelerate) (12.4.127)\n",
            "Requirement already satisfied: requests in /usr/local/lib/python3.10/dist-packages (from huggingface-hub->accelerate) (2.31.0)\n",
            "Requirement already satisfied: tqdm>=4.42.1 in /usr/local/lib/python3.10/dist-packages (from huggingface-hub->accelerate) (4.66.2)\n",
            "Requirement already satisfied: MarkupSafe>=2.0 in /usr/local/lib/python3.10/dist-packages (from jinja2->torch>=1.10.0->accelerate) (2.1.5)\n",
            "Requirement already satisfied: charset-normalizer<4,>=2 in /usr/local/lib/python3.10/dist-packages (from requests->huggingface-hub->accelerate) (3.3.2)\n",
            "Requirement already satisfied: idna<4,>=2.5 in /usr/local/lib/python3.10/dist-packages (from requests->huggingface-hub->accelerate) (3.6)\n",
            "Requirement already satisfied: urllib3<3,>=1.21.1 in /usr/local/lib/python3.10/dist-packages (from requests->huggingface-hub->accelerate) (2.0.7)\n",
            "Requirement already satisfied: certifi>=2017.4.17 in /usr/local/lib/python3.10/dist-packages (from requests->huggingface-hub->accelerate) (2024.2.2)\n",
            "Requirement already satisfied: mpmath>=0.19 in /usr/local/lib/python3.10/dist-packages (from sympy->torch>=1.10.0->accelerate) (1.3.0)\n",
            "0.29.3\n"
          ]
        }
      ]
    },
    {
      "cell_type": "code",
      "source": [
        "def compute_metrics(pred):\n",
        "  labels = pred.label_ids\n",
        "\n",
        "  preds = pred.predictions.argmax(-1)\n",
        "\n",
        "  precision, recall, f1, _ = precision_recall_fscore_support(labels, preds, average='macro')\n",
        "\n",
        "  acc = accuracy_score(labels, preds)\n",
        "\n",
        "  return {\n",
        "      'Accuracy': acc,\n",
        "      'F1': f1,\n",
        "      'Precision': precision,\n",
        "      'Recall': recall\n",
        "  }"
      ],
      "metadata": {
        "id": "unKFjebhVVjG"
      },
      "execution_count": null,
      "outputs": []
    },
    {
      "cell_type": "code",
      "source": [
        "training_args = TrainingArguments (\n",
        "    output_dir='./output',\n",
        "    do_train=True,\n",
        "    do_eval=True,\n",
        "\n",
        "    num_train_epochs=2,\n",
        "    per_device_train_batch_size=98,\n",
        "    per_device_eval_batch_size=196,\n",
        "\n",
        "    warmup_steps=100,\n",
        "    weight_decay=0.01,\n",
        "    logging_strategy='steps',\n",
        "\n",
        "    logging_dir='./log',\n",
        "    logging_steps=50,\n",
        "    evaluation_strategy=\"steps\",\n",
        "    eval_steps=50,\n",
        "    save_strategy=\"steps\",\n",
        "    fp16=False,\n",
        "    load_best_model_at_end=True\n",
        ")"
      ],
      "metadata": {
        "id": "A1C8NKZPVXY3"
      },
      "execution_count": null,
      "outputs": []
    },
    {
      "cell_type": "code",
      "source": [
        "trainer = Trainer(\n",
        "    model = model,\n",
        "    args=training_args,\n",
        "    train_dataset=train_dataloader,\n",
        "    eval_dataset=val_dataloader,\n",
        "    compute_metrics=compute_metrics\n",
        ")"
      ],
      "metadata": {
        "id": "TdMPprRoVY3W"
      },
      "execution_count": null,
      "outputs": []
    },
    {
      "cell_type": "code",
      "source": [
        "trainer.train()"
      ],
      "metadata": {
        "colab": {
          "base_uri": "https://localhost:8080/",
          "height": 128
        },
        "id": "s32yAIOAVavK",
        "outputId": "a91b9e7c-ab06-4fe6-8726-c78b1f84fd46"
      },
      "execution_count": null,
      "outputs": [
        {
          "output_type": "display_data",
          "data": {
            "text/plain": [
              "<IPython.core.display.HTML object>"
            ],
            "text/html": [
              "\n",
              "    <div>\n",
              "      \n",
              "      <progress value='48' max='48' style='width:300px; height:20px; vertical-align: middle;'></progress>\n",
              "      [48/48 23:52, Epoch 2/2]\n",
              "    </div>\n",
              "    <table border=\"1\" class=\"dataframe\">\n",
              "  <thead>\n",
              " <tr style=\"text-align: left;\">\n",
              "      <th>Step</th>\n",
              "      <th>Training Loss</th>\n",
              "      <th>Validation Loss</th>\n",
              "    </tr>\n",
              "  </thead>\n",
              "  <tbody>\n",
              "  </tbody>\n",
              "</table><p>"
            ]
          },
          "metadata": {}
        },
        {
          "output_type": "execute_result",
          "data": {
            "text/plain": [
              "TrainOutput(global_step=48, training_loss=1.6242720286051433, metrics={'train_runtime': 1462.8089, 'train_samples_per_second': 3.198, 'train_steps_per_second': 0.033, 'total_flos': 507256248551688.0, 'train_loss': 1.6242720286051433, 'epoch': 2.0})"
            ]
          },
          "metadata": {},
          "execution_count": 43
        }
      ]
    },
    {
      "cell_type": "markdown",
      "source": [
        "# Interactive Game & Evaluation"
      ],
      "metadata": {
        "id": "UbUaoQ0N6wcB"
      }
    },
    {
      "cell_type": "markdown",
      "source": [
        "**Directions: ...**"
      ],
      "metadata": {
        "id": "iAbt_uNNRmgM"
      }
    },
    {
      "cell_type": "code",
      "source": [
        "import random"
      ],
      "metadata": {
        "id": "3SDX26drcKNT"
      },
      "execution_count": null,
      "outputs": []
    },
    {
      "cell_type": "code",
      "source": [
        "def text_prediction(bert_model, bert_tokenizer, gpt2_model, gpt2_tokenizer, processSwitch, input_text):\n",
        "    # Get input text from the user\n",
        "    temper = random.random()\n",
        "    if processSwitch == 0:\n",
        "      # Tokenize input text for bert\n",
        "      input_ids = bert_tokenizer.encode(input_text, add_special_tokens=True, return_tensors=\"pt\")\n",
        "\n",
        "        # Perform classification using bert\n",
        "      with torch.no_grad():\n",
        "        outputs = bert_model(input_ids)\n",
        "      bert_prediction = torch.argmax(outputs.logits, dim=1).item()\n",
        "      return bert_prediction\n",
        "\n",
        "    elif processSwitch == 1:\n",
        "      # Tokenize input text for gpt2\n",
        "      input_ids_gpt2 = gpt2_tokenizer.encode(input_text, return_tensors=\"pt\")\n",
        "      with torch.no_grad():\n",
        "        gpt2_output = gpt2_model.generate(input_ids_gpt2, max_length=50, num_return_sequences=1, temperature=temper)\n",
        "      generated_text = gpt2_tokenizer.decode(gpt2_output[0], skip_special_tokens=True)\n",
        "      return generated_text\n",
        "\n",
        "#round 1\n",
        "currChar = -1\n",
        "victory = 0\n",
        "while currChar == -1:\n",
        "  character_select = input(\"Choose from: Cloud, Barret, Yuffie, Tifa, Aerith, or Sephiroth.\")\n",
        "  if character_select == \"Cloud\":\n",
        "    currChar = 0\n",
        "  elif character_select == \"Barret\":\n",
        "    currChar = 1\n",
        "  elif character_select == \"Yuffie\":\n",
        "    currChar = 2\n",
        "  elif character_select == \"Tifa\":\n",
        "    currChar = 3\n",
        "  elif character_select == \"Aerith\":\n",
        "    currChar = 4\n",
        "  elif character_select == \"Sephiroth\":\n",
        "    currChar = 5\n",
        "\n",
        "input_text = input(\"Enter text: \")\n",
        "processSwitch = 0\n",
        "# Example usage\n",
        "# Load bert model\n",
        "bert_model = trainer.model\n",
        "# Load gp2 model\n",
        "gpt2_model = gptTrainer.model\n",
        "\n",
        "# Use the text_prediction function\n",
        "bert_prediction = text_prediction(bert_model, bertTokenizer, gpt2_model, gptTokenizer, processSwitch, input_text)\n",
        "print(\"BERT prediction:\", bert_prediction)\n",
        "processSwitch = 1\n",
        "\n",
        "# Bert gpt conversion\n",
        "if bert_prediction == currChar:\n",
        "  if currChar == 0:\n",
        "      responsePrompt = \"The model guessed you are Cloud correctly. It says:\"\n",
        "  elif currChar == 1:\n",
        "      responsePrompt = \"The model guessed you are Barret correctly. It says:\"\n",
        "  elif currChar == 2:\n",
        "      responsePrompt = \"The model guessed you are Yuffie correctly. It says:\"\n",
        "  elif currChar == 3:\n",
        "      responsePrompt = \"The model guessed you are an Itlaian Senator correctly. It says:\"\n",
        "  elif currChar == 4:\n",
        "      responsePrompt = \"The model guessed you are Aerith correctly. It says:\"\n",
        "  elif currChar == 5:\n",
        "      responsePrompt = \"The model guessed you are Sephiroth correctly. It says:\"\n",
        "  victory = 1\n",
        "\n",
        "else:\n",
        "  if bert_prediction == 0:\n",
        "    character = \"Cloud\"\n",
        "    responsePrompt = \"The model incorrectly identifies you as Cloud. To identify you it asks:\"\n",
        "\n",
        "  elif bert_prediction == 1:\n",
        "    character = \"Barret\"\n",
        "    responsePrompt = \"The model incorrectly identifies you as Barret. To identify you it asks:\"\n",
        "\n",
        "  elif bert_prediction == 2:\n",
        "    character = \"Yuffie\"\n",
        "    responsePrompt = \"The model incorrectly identifies you as Yuffie. To identify you it asks:\"\n",
        "\n",
        "  elif bert_prediction == 3:\n",
        "    character = \"Tifa\"\n",
        "    responsePrompt = \"The model incorrectly identifies you as Tifa. To identify you it asks:\"\n",
        "\n",
        "  elif bert_prediction == 4:\n",
        "    character = \"Aerith\"\n",
        "    responsePrompt = \"The model incorrectly identifies you as Aerith. To identify you it asks:\"\n",
        "\n",
        "  elif bert_prediction == 5:\n",
        "    character = \"Sephiroth\"\n",
        "    responsePrompt = \"The model incorrectly identifies you as Sephiroth. To identify you it asks:\"\n",
        "\n",
        "# Tokenize input text for gpt2\n",
        "input_ids_gpt2 = gptTokenizer.encode(responsePrompt, return_tensors=\"pt\")\n",
        "\n",
        "generated_text = text_prediction(bert_model, bertTokenizer, gpt2_model, gptTokenizer, processSwitch, responsePrompt)\n",
        "print(\"You say:\", input_text, \"\\n\", generated_text)\n",
        "\n",
        "if victory == 0:\n",
        "  #round 2\n",
        "  input_text = input(\"Enter text: \")\n",
        "  processSwitch = 0\n",
        "  # Example usage\n",
        "  # Load bert model\n",
        "  bert_model = trainer.model\n",
        "  # Load gp2 model\n",
        "  gpt2_model = gptTrainer.model\n",
        "\n",
        "  # Use the text_prediction function\n",
        "  bert_prediction = text_prediction(bert_model, bertTokenizer, gpt2_model, gptTokenizer, processSwitch, input_text)\n",
        "  print(\"BERT prediction:\", bert_prediction)\n",
        "  processSwitch = 1\n",
        "\n",
        "  # Bert gpt conversion\n",
        "  if bert_prediction == currChar:\n",
        "    if currChar == 0:\n",
        "        responsePrompt = \"The model guessed you are Cloud correctly. It says:\"\n",
        "    elif currChar == 1:\n",
        "        responsePrompt = \"The model guessed you are Barret correctly. It says:\"\n",
        "    elif currChar == 2:\n",
        "        responsePrompt = \"The model guessed you are Yuffie correctly. It says:\"\n",
        "    elif currChar == 3:\n",
        "        responsePrompt = \"The model guessed you are an Itlaian Senator correctly. It says:\"\n",
        "    elif currChar == 4:\n",
        "        responsePrompt = \"The model guessed you are Aerith correctly. It says:\"\n",
        "    elif currChar == 5:\n",
        "        responsePrompt = \"The model guessed you are Sephiroth correctly. It says:\"\n",
        "    victory = 1\n",
        "\n",
        "  else:\n",
        "    responsePrompt= \"The model has lost. In defeat it says:\"\n",
        "\n",
        "  # Tokenize input text for gpt2\n",
        "  input_ids_gpt2 = gptTokenizer.encode(responsePrompt, return_tensors=\"pt\")\n",
        "\n",
        "  generated_text = text_prediction(bert_model, bertTokenizer, gpt2_model, gptTokenizer, processSwitch, responsePrompt)\n",
        "  print(\"You say:\", input_text, \"\\n\", generated_text)"
      ],
      "metadata": {
        "colab": {
          "base_uri": "https://localhost:8080/"
        },
        "id": "99EBmodVWvRe",
        "outputId": "09da20a8-0ee0-4234-e103-f555547db972"
      },
      "execution_count": null,
      "outputs": [
        {
          "name": "stdout",
          "output_type": "stream",
          "text": [
            "Choose from: Cloud, Barret, Yuffie, Tifa, Aerith, or Sephiroth.Cloud\n",
            "Enter text: Hmm... I need to find some Materia\n"
          ]
        },
        {
          "output_type": "stream",
          "name": "stderr",
          "text": [
            "/usr/local/lib/python3.10/dist-packages/transformers/generation/configuration_utils.py:492: UserWarning: `do_sample` is set to `False`. However, `temperature` is set to `0.9429097143350544` -- this flag is only used in sample-based generation modes. You should set `do_sample=True` or unset `temperature`.\n",
            "  warnings.warn(\n",
            "The attention mask and the pad token id were not set. As a consequence, you may observe unexpected behavior. Please pass your input's `attention_mask` to obtain reliable results.\n",
            "Setting `pad_token_id` to `eos_token_id`:50256 for open-end generation.\n"
          ]
        },
        {
          "output_type": "stream",
          "name": "stdout",
          "text": [
            "BERT prediction: 0\n",
            "You say: Hmm... I need to find some Materia \n",
            " The model guessed you are Cloud correctly. It says: \"The Cloud is a Cloud.\"\n"
          ]
        }
      ]
    },
    {
      "cell_type": "code",
      "source": [
        "input_text = \"empty\"\n",
        "def genText(gpt2_model, gpt2_tokenize, input_text, temper):\n",
        "    # Get input text from the user\n",
        "      # Tokenize input text for gpt2\n",
        "      input_ids_gpt2 = gpt2_tokenize.encode(input_text, return_tensors=\"pt\")\n",
        "      with torch.no_grad():\n",
        "        gpt2_output = gpt2_model.generate(input_ids_gpt2, max_length=50, num_return_sequences=1, temperature=temper)\n",
        "      generated_text = gpt2_tokenize.decode(gpt2_output[0], skip_special_tokens=True)\n",
        "      return generated_text\n",
        "\n",
        "while input_text != \"goodbye\":\n",
        "  input_text = input(\"Enter text: \")\n",
        "  temper = random.random()\n",
        "  responsePrompt = \"You say: \" + input_text + \" The model says:\"\n",
        "  response = genText(gpt2_model, gptTokenizer, responsePrompt, temper)\n",
        "  print(response)"
      ],
      "metadata": {
        "colab": {
          "base_uri": "https://localhost:8080/",
          "height": 507
        },
        "id": "So8Z4Y4lV9PJ",
        "outputId": "06e1f149-c4ea-4411-d0c1-0617775b375b"
      },
      "execution_count": null,
      "outputs": [
        {
          "name": "stdout",
          "output_type": "stream",
          "text": [
            "Enter text: Mother\n"
          ]
        },
        {
          "output_type": "stream",
          "name": "stderr",
          "text": [
            "/usr/local/lib/python3.10/dist-packages/transformers/generation/configuration_utils.py:492: UserWarning: `do_sample` is set to `False`. However, `temperature` is set to `0.21932075915728333` -- this flag is only used in sample-based generation modes. You should set `do_sample=True` or unset `temperature`.\n",
            "  warnings.warn(\n",
            "The attention mask and the pad token id were not set. As a consequence, you may observe unexpected behavior. Please pass your input's `attention_mask` to obtain reliable results.\n",
            "Setting `pad_token_id` to `eos_token_id`:50256 for open-end generation.\n"
          ]
        },
        {
          "output_type": "stream",
          "name": "stdout",
          "text": [
            "You say: Mother The model says: \"I'm not a fan of the idea of a'real' world.\"\n"
          ]
        },
        {
          "output_type": "error",
          "ename": "KeyboardInterrupt",
          "evalue": "Interrupted by user",
          "traceback": [
            "\u001b[0;31m---------------------------------------------------------------------------\u001b[0m",
            "\u001b[0;31mKeyboardInterrupt\u001b[0m                         Traceback (most recent call last)",
            "\u001b[0;32m<ipython-input-96-907a0ba8fd15>\u001b[0m in \u001b[0;36m<cell line: 11>\u001b[0;34m()\u001b[0m\n\u001b[1;32m     10\u001b[0m \u001b[0;34m\u001b[0m\u001b[0m\n\u001b[1;32m     11\u001b[0m \u001b[0;32mwhile\u001b[0m \u001b[0minput_text\u001b[0m \u001b[0;34m!=\u001b[0m \u001b[0;34m\"goodbye\"\u001b[0m\u001b[0;34m:\u001b[0m\u001b[0;34m\u001b[0m\u001b[0;34m\u001b[0m\u001b[0m\n\u001b[0;32m---> 12\u001b[0;31m   \u001b[0minput_text\u001b[0m \u001b[0;34m=\u001b[0m \u001b[0minput\u001b[0m\u001b[0;34m(\u001b[0m\u001b[0;34m\"Enter text: \"\u001b[0m\u001b[0;34m)\u001b[0m\u001b[0;34m\u001b[0m\u001b[0;34m\u001b[0m\u001b[0m\n\u001b[0m\u001b[1;32m     13\u001b[0m   \u001b[0mtemper\u001b[0m \u001b[0;34m=\u001b[0m \u001b[0mrandom\u001b[0m\u001b[0;34m.\u001b[0m\u001b[0mrandom\u001b[0m\u001b[0;34m(\u001b[0m\u001b[0;34m)\u001b[0m\u001b[0;34m\u001b[0m\u001b[0;34m\u001b[0m\u001b[0m\n\u001b[1;32m     14\u001b[0m   \u001b[0mresponsePrompt\u001b[0m \u001b[0;34m=\u001b[0m \u001b[0;34m\"You say: \"\u001b[0m \u001b[0;34m+\u001b[0m \u001b[0minput_text\u001b[0m \u001b[0;34m+\u001b[0m \u001b[0;34m\" The model says:\"\u001b[0m\u001b[0;34m\u001b[0m\u001b[0;34m\u001b[0m\u001b[0m\n",
            "\u001b[0;32m/usr/local/lib/python3.10/dist-packages/ipykernel/kernelbase.py\u001b[0m in \u001b[0;36mraw_input\u001b[0;34m(self, prompt)\u001b[0m\n\u001b[1;32m    849\u001b[0m                 \u001b[0;34m\"raw_input was called, but this frontend does not support input requests.\"\u001b[0m\u001b[0;34m\u001b[0m\u001b[0;34m\u001b[0m\u001b[0m\n\u001b[1;32m    850\u001b[0m             )\n\u001b[0;32m--> 851\u001b[0;31m         return self._input_request(str(prompt),\n\u001b[0m\u001b[1;32m    852\u001b[0m             \u001b[0mself\u001b[0m\u001b[0;34m.\u001b[0m\u001b[0m_parent_ident\u001b[0m\u001b[0;34m,\u001b[0m\u001b[0;34m\u001b[0m\u001b[0;34m\u001b[0m\u001b[0m\n\u001b[1;32m    853\u001b[0m             \u001b[0mself\u001b[0m\u001b[0;34m.\u001b[0m\u001b[0m_parent_header\u001b[0m\u001b[0;34m,\u001b[0m\u001b[0;34m\u001b[0m\u001b[0;34m\u001b[0m\u001b[0m\n",
            "\u001b[0;32m/usr/local/lib/python3.10/dist-packages/ipykernel/kernelbase.py\u001b[0m in \u001b[0;36m_input_request\u001b[0;34m(self, prompt, ident, parent, password)\u001b[0m\n\u001b[1;32m    893\u001b[0m             \u001b[0;32mexcept\u001b[0m \u001b[0mKeyboardInterrupt\u001b[0m\u001b[0;34m:\u001b[0m\u001b[0;34m\u001b[0m\u001b[0;34m\u001b[0m\u001b[0m\n\u001b[1;32m    894\u001b[0m                 \u001b[0;31m# re-raise KeyboardInterrupt, to truncate traceback\u001b[0m\u001b[0;34m\u001b[0m\u001b[0;34m\u001b[0m\u001b[0m\n\u001b[0;32m--> 895\u001b[0;31m                 \u001b[0;32mraise\u001b[0m \u001b[0mKeyboardInterrupt\u001b[0m\u001b[0;34m(\u001b[0m\u001b[0;34m\"Interrupted by user\"\u001b[0m\u001b[0;34m)\u001b[0m \u001b[0;32mfrom\u001b[0m \u001b[0;32mNone\u001b[0m\u001b[0;34m\u001b[0m\u001b[0;34m\u001b[0m\u001b[0m\n\u001b[0m\u001b[1;32m    896\u001b[0m             \u001b[0;32mexcept\u001b[0m \u001b[0mException\u001b[0m \u001b[0;32mas\u001b[0m \u001b[0me\u001b[0m\u001b[0;34m:\u001b[0m\u001b[0;34m\u001b[0m\u001b[0;34m\u001b[0m\u001b[0m\n\u001b[1;32m    897\u001b[0m                 \u001b[0mself\u001b[0m\u001b[0;34m.\u001b[0m\u001b[0mlog\u001b[0m\u001b[0;34m.\u001b[0m\u001b[0mwarning\u001b[0m\u001b[0;34m(\u001b[0m\u001b[0;34m\"Invalid Message:\"\u001b[0m\u001b[0;34m,\u001b[0m \u001b[0mexc_info\u001b[0m\u001b[0;34m=\u001b[0m\u001b[0;32mTrue\u001b[0m\u001b[0;34m)\u001b[0m\u001b[0;34m\u001b[0m\u001b[0;34m\u001b[0m\u001b[0m\n",
            "\u001b[0;31mKeyboardInterrupt\u001b[0m: Interrupted by user"
          ]
        }
      ]
    },
    {
      "cell_type": "code",
      "source": [
        "input_text = \"empty\"\n",
        "def genText(gpt2_model, gpt2_tokenize, input_text, temper):\n",
        "    # Get input text from the user\n",
        "      # Tokenize input text for gpt2\n",
        "      input_ids_gpt2 = gpt2_tokenize.encode(input_text, return_tensors=\"pt\")\n",
        "      with torch.no_grad():\n",
        "        gpt2_output = gpt2_model.generate(input_ids_gpt2, max_length=50, num_return_sequences=1, temperature=temper)\n",
        "      generated_text = gpt2_tokenize.decode(gpt2_output[0], skip_special_tokens=True)\n",
        "      return generated_text\n",
        "\n",
        "while input_text != \"goodbye\":\n",
        "  input_text = input(\"Enter text: \")\n",
        "  temper = random.random()\n",
        "  response = genText(gpt2_model, gptTokenizer, input_text, temper)\n",
        "  print(response)"
      ],
      "metadata": {
        "colab": {
          "base_uri": "https://localhost:8080/"
        },
        "id": "4LrC_iUbaxlh",
        "outputId": "c986797c-a461-4cee-b64a-2c1a7132ae10"
      },
      "execution_count": null,
      "outputs": [
        {
          "name": "stdout",
          "output_type": "stream",
          "text": [
            "Enter text: Mother\n"
          ]
        },
        {
          "output_type": "stream",
          "name": "stderr",
          "text": [
            "/usr/local/lib/python3.10/dist-packages/transformers/generation/configuration_utils.py:492: UserWarning: `do_sample` is set to `False`. However, `temperature` is set to `0.9975376064951103` -- this flag is only used in sample-based generation modes. You should set `do_sample=True` or unset `temperature`.\n",
            "  warnings.warn(\n",
            "The attention mask and the pad token id were not set. As a consequence, you may observe unexpected behavior. Please pass your input's `attention_mask` to obtain reliable results.\n",
            "Setting `pad_token_id` to `eos_token_id`:50256 for open-end generation.\n"
          ]
        },
        {
          "name": "stdout",
          "output_type": "stream",
          "text": [
            "Mother, I'm sorry.\n",
            "Enter text: Mother\n"
          ]
        },
        {
          "output_type": "stream",
          "name": "stderr",
          "text": [
            "/usr/local/lib/python3.10/dist-packages/transformers/generation/configuration_utils.py:492: UserWarning: `do_sample` is set to `False`. However, `temperature` is set to `0.5095262936764645` -- this flag is only used in sample-based generation modes. You should set `do_sample=True` or unset `temperature`.\n",
            "  warnings.warn(\n",
            "The attention mask and the pad token id were not set. As a consequence, you may observe unexpected behavior. Please pass your input's `attention_mask` to obtain reliable results.\n",
            "Setting `pad_token_id` to `eos_token_id`:50256 for open-end generation.\n"
          ]
        },
        {
          "name": "stdout",
          "output_type": "stream",
          "text": [
            "Mothererith: I'm not a fan of the idea of a \"real\" world.\n",
            "Enter text: Never gonna\n"
          ]
        },
        {
          "output_type": "stream",
          "name": "stderr",
          "text": [
            "/usr/local/lib/python3.10/dist-packages/transformers/generation/configuration_utils.py:492: UserWarning: `do_sample` is set to `False`. However, `temperature` is set to `0.09090941217379389` -- this flag is only used in sample-based generation modes. You should set `do_sample=True` or unset `temperature`.\n",
            "  warnings.warn(\n",
            "The attention mask and the pad token id were not set. As a consequence, you may observe unexpected behavior. Please pass your input's `attention_mask` to obtain reliable results.\n",
            "Setting `pad_token_id` to `eos_token_id`:50256 for open-end generation.\n"
          ]
        },
        {
          "name": "stdout",
          "output_type": "stream",
          "text": [
            "Never gonna say I'm a fan.\n",
            "Enter text: Final Fantasy\n"
          ]
        },
        {
          "output_type": "stream",
          "name": "stderr",
          "text": [
            "/usr/local/lib/python3.10/dist-packages/transformers/generation/configuration_utils.py:492: UserWarning: `do_sample` is set to `False`. However, `temperature` is set to `0.04711637542473457` -- this flag is only used in sample-based generation modes. You should set `do_sample=True` or unset `temperature`.\n",
            "  warnings.warn(\n",
            "The attention mask and the pad token id were not set. As a consequence, you may observe unexpected behavior. Please pass your input's `attention_mask` to obtain reliable results.\n",
            "Setting `pad_token_id` to `eos_token_id`:50256 for open-end generation.\n"
          ]
        },
        {
          "name": "stdout",
          "output_type": "stream",
          "text": [
            "Final Fantasy: The Seventh Heavens\n",
            "Enter text: Final Fantasy\n"
          ]
        },
        {
          "output_type": "stream",
          "name": "stderr",
          "text": [
            "/usr/local/lib/python3.10/dist-packages/transformers/generation/configuration_utils.py:492: UserWarning: `do_sample` is set to `False`. However, `temperature` is set to `0.10964913035065915` -- this flag is only used in sample-based generation modes. You should set `do_sample=True` or unset `temperature`.\n",
            "  warnings.warn(\n",
            "The attention mask and the pad token id were not set. As a consequence, you may observe unexpected behavior. Please pass your input's `attention_mask` to obtain reliable results.\n",
            "Setting `pad_token_id` to `eos_token_id`:50256 for open-end generation.\n"
          ]
        },
        {
          "name": "stdout",
          "output_type": "stream",
          "text": [
            "Final Fantasy: I'm not sure.\n",
            "Enter text: Final Fantasy\n"
          ]
        },
        {
          "output_type": "stream",
          "name": "stderr",
          "text": [
            "/usr/local/lib/python3.10/dist-packages/transformers/generation/configuration_utils.py:492: UserWarning: `do_sample` is set to `False`. However, `temperature` is set to `0.62744604170309` -- this flag is only used in sample-based generation modes. You should set `do_sample=True` or unset `temperature`.\n",
            "  warnings.warn(\n",
            "The attention mask and the pad token id were not set. As a consequence, you may observe unexpected behavior. Please pass your input's `attention_mask` to obtain reliable results.\n",
            "Setting `pad_token_id` to `eos_token_id`:50256 for open-end generation.\n"
          ]
        },
        {
          "name": "stdout",
          "output_type": "stream",
          "text": [
            "Final Fantasy: You're right.\n",
            "Enter text: I m\n"
          ]
        },
        {
          "output_type": "stream",
          "name": "stderr",
          "text": [
            "/usr/local/lib/python3.10/dist-packages/transformers/generation/configuration_utils.py:492: UserWarning: `do_sample` is set to `False`. However, `temperature` is set to `0.7920793643629641` -- this flag is only used in sample-based generation modes. You should set `do_sample=True` or unset `temperature`.\n",
            "  warnings.warn(\n",
            "The attention mask and the pad token id were not set. As a consequence, you may observe unexpected behavior. Please pass your input's `attention_mask` to obtain reliable results.\n",
            "Setting `pad_token_id` to `eos_token_id`:50256 for open-end generation.\n"
          ]
        },
        {
          "name": "stdout",
          "output_type": "stream",
          "text": [
            "I m'amma, I'm not a fan of the idea of you having to do this.\n",
            "Enter text: Chocobo\n"
          ]
        },
        {
          "output_type": "stream",
          "name": "stderr",
          "text": [
            "/usr/local/lib/python3.10/dist-packages/transformers/generation/configuration_utils.py:492: UserWarning: `do_sample` is set to `False`. However, `temperature` is set to `0.42215996679968404` -- this flag is only used in sample-based generation modes. You should set `do_sample=True` or unset `temperature`.\n",
            "  warnings.warn(\n",
            "The attention mask and the pad token id were not set. As a consequence, you may observe unexpected behavior. Please pass your input's `attention_mask` to obtain reliable results.\n",
            "Setting `pad_token_id` to `eos_token_id`:50256 for open-end generation.\n"
          ]
        },
        {
          "name": "stdout",
          "output_type": "stream",
          "text": [
            "Chocobo: I'm not sure.\n",
            "Enter text: chocobo\n"
          ]
        },
        {
          "output_type": "stream",
          "name": "stderr",
          "text": [
            "/usr/local/lib/python3.10/dist-packages/transformers/generation/configuration_utils.py:492: UserWarning: `do_sample` is set to `False`. However, `temperature` is set to `0.06352770615195713` -- this flag is only used in sample-based generation modes. You should set `do_sample=True` or unset `temperature`.\n",
            "  warnings.warn(\n",
            "The attention mask and the pad token id were not set. As a consequence, you may observe unexpected behavior. Please pass your input's `attention_mask` to obtain reliable results.\n",
            "Setting `pad_token_id` to `eos_token_id`:50256 for open-end generation.\n"
          ]
        },
        {
          "name": "stdout",
          "output_type": "stream",
          "text": [
            "chocobo: I'm not a fan of the idea of a \"chocobo.\"\n",
            "Enter text: what is a chocobo\n"
          ]
        },
        {
          "output_type": "stream",
          "name": "stderr",
          "text": [
            "/usr/local/lib/python3.10/dist-packages/transformers/generation/configuration_utils.py:492: UserWarning: `do_sample` is set to `False`. However, `temperature` is set to `0.38161928650653676` -- this flag is only used in sample-based generation modes. You should set `do_sample=True` or unset `temperature`.\n",
            "  warnings.warn(\n",
            "The attention mask and the pad token id were not set. As a consequence, you may observe unexpected behavior. Please pass your input's `attention_mask` to obtain reliable results.\n",
            "Setting `pad_token_id` to `eos_token_id`:50256 for open-end generation.\n"
          ]
        },
        {
          "name": "stdout",
          "output_type": "stream",
          "text": [
            "what is a chocobo anyway?\n",
            "Enter text: materia\n"
          ]
        },
        {
          "output_type": "stream",
          "name": "stderr",
          "text": [
            "/usr/local/lib/python3.10/dist-packages/transformers/generation/configuration_utils.py:492: UserWarning: `do_sample` is set to `False`. However, `temperature` is set to `0.9961213802400968` -- this flag is only used in sample-based generation modes. You should set `do_sample=True` or unset `temperature`.\n",
            "  warnings.warn(\n",
            "The attention mask and the pad token id were not set. As a consequence, you may observe unexpected behavior. Please pass your input's `attention_mask` to obtain reliable results.\n",
            "Setting `pad_token_id` to `eos_token_id`:50256 for open-end generation.\n"
          ]
        },
        {
          "name": "stdout",
          "output_type": "stream",
          "text": [
            "materia: I'm not sure what to do.\n",
            "Enter text: Materia\n"
          ]
        },
        {
          "output_type": "stream",
          "name": "stderr",
          "text": [
            "/usr/local/lib/python3.10/dist-packages/transformers/generation/configuration_utils.py:492: UserWarning: `do_sample` is set to `False`. However, `temperature` is set to `0.529114345099137` -- this flag is only used in sample-based generation modes. You should set `do_sample=True` or unset `temperature`.\n",
            "  warnings.warn(\n",
            "The attention mask and the pad token id were not set. As a consequence, you may observe unexpected behavior. Please pass your input's `attention_mask` to obtain reliable results.\n",
            "Setting `pad_token_id` to `eos_token_id`:50256 for open-end generation.\n"
          ]
        },
        {
          "name": "stdout",
          "output_type": "stream",
          "text": [
            "Materia: I'm not sure I can say this.\n",
            "Enter text: Reactor\n"
          ]
        },
        {
          "output_type": "stream",
          "name": "stderr",
          "text": [
            "/usr/local/lib/python3.10/dist-packages/transformers/generation/configuration_utils.py:492: UserWarning: `do_sample` is set to `False`. However, `temperature` is set to `0.9710783776136181` -- this flag is only used in sample-based generation modes. You should set `do_sample=True` or unset `temperature`.\n",
            "  warnings.warn(\n",
            "The attention mask and the pad token id were not set. As a consequence, you may observe unexpected behavior. Please pass your input's `attention_mask` to obtain reliable results.\n",
            "Setting `pad_token_id` to `eos_token_id`:50256 for open-end generation.\n"
          ]
        },
        {
          "name": "stdout",
          "output_type": "stream",
          "text": [
            "Reactor: I'm not a fan of the idea of a \"retroactive\" reactor.\n",
            "Enter text: Shinra Sector\n"
          ]
        },
        {
          "output_type": "stream",
          "name": "stderr",
          "text": [
            "/usr/local/lib/python3.10/dist-packages/transformers/generation/configuration_utils.py:492: UserWarning: `do_sample` is set to `False`. However, `temperature` is set to `0.8607797022344981` -- this flag is only used in sample-based generation modes. You should set `do_sample=True` or unset `temperature`.\n",
            "  warnings.warn(\n",
            "The attention mask and the pad token id were not set. As a consequence, you may observe unexpected behavior. Please pass your input's `attention_mask` to obtain reliable results.\n",
            "Setting `pad_token_id` to `eos_token_id`:50256 for open-end generation.\n"
          ]
        },
        {
          "name": "stdout",
          "output_type": "stream",
          "text": [
            "Shinra Sector: I'm sure.\n",
            "Enter text: Shinra\n"
          ]
        },
        {
          "output_type": "stream",
          "name": "stderr",
          "text": [
            "/usr/local/lib/python3.10/dist-packages/transformers/generation/configuration_utils.py:492: UserWarning: `do_sample` is set to `False`. However, `temperature` is set to `0.011481021942819636` -- this flag is only used in sample-based generation modes. You should set `do_sample=True` or unset `temperature`.\n",
            "  warnings.warn(\n",
            "The attention mask and the pad token id were not set. As a consequence, you may observe unexpected behavior. Please pass your input's `attention_mask` to obtain reliable results.\n",
            "Setting `pad_token_id` to `eos_token_id`:50256 for open-end generation.\n"
          ]
        },
        {
          "output_type": "stream",
          "name": "stdout",
          "text": [
            "Shinra: I'm not sure how much I can say.\n"
          ]
        }
      ]
    }
  ]
}